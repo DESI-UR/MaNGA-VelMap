{
 "cells": [
  {
   "cell_type": "code",
   "execution_count": 1,
   "id": "3360d382-d135-4bf0-849f-306ee63add7c",
   "metadata": {},
   "outputs": [],
   "source": [
    "#import \n",
    "import numpy as np\n",
    "import matplotlib.pyplot as plt\n",
    "from scipy.optimize import minimize\n",
    "from astropy.table import Table\n",
    "from astropy.io import fits\n",
    "import numpy.ma as ma\n",
    "from PIL import Image\n",
    "import astropy.units as u\n",
    "from astropy.coordinates import SkyCoord\n",
    "from astropy.wcs import WCS\n",
    "#custom\n",
    "import sys \n",
    "sys.path.insert(1, 'C:/Users/boibr/OneDrive/Documents/GitHub/MaNGA-VelMap/')\n",
    "from GenerateCutout import get_cutout,get_cutout_fits\n",
    "from get_mvel_map import get_mvel_map, calc_chi2\n"
   ]
  },
  {
   "cell_type": "markdown",
   "id": "5e3a3b3e-88af-4714-adc6-ad5a37729b2a",
   "metadata": {},
   "source": [
    "# Data"
   ]
  },
  {
   "cell_type": "code",
   "execution_count": 2,
   "id": "216a4aee-48fc-460d-8fbe-c37e6fdf2cfc",
   "metadata": {},
   "outputs": [],
   "source": [
    "test_galaxy = '8997-9102'                                           #select test galaxy via plateifu#\n",
    "\n",
    "data_folder = \"/Users/Emlilio/School/Internships/UR ASTRO/Data/\"    #choose main folder directory\n",
    "\n",
    "drpall = data_folder + 'drpall_ttype_R90.fits'                      #open drpall data file in table format\n",
    "drpalltt = Table.read(drpall, format=\"fits\",hdu=1)                  \n",
    "drpalltt_dict = {}                   \n",
    "\n",
    "for i in range(len(drpalltt)):                                      #index in terms of plateifu\n",
    "    plateifu = drpalltt['plateifu'][i]     \n",
    "    drpalltt_dict[plateifu] = i \n",
    "    \n",
    "cube_fn = data_folder + 'MaNGA/manga-'+ test_galaxy +'-MAPS-HYB10-MILESHC-MASTARSSP.fits.gz'   #set variable for cube file\n",
    "cube = fits.open(cube_fn)                                           # cube file needs to be opened\n",
    "stellar_vel = cube['STELLAR_VEL'].data                              #import to variables necessary file information\n",
    "stellar_mask = cube['STELLAR_VEL_MASK'].data\n",
    "halpha_vel = cube['EMLINE_GVEL'].data[23]        \n",
    "halpha_gvel_mask = cube['EMLINE_GVEL_MASK'].data[23]\n",
    "halpha_gvel_ivar = cube['EMLINE_GVEL_IVAR'].data[23]\n",
    "ellip_radius = cube['SPX_ELLCOO'].data[3]\n",
    "spx_x = cube['SPX_SKYCOO'].data[0]\n",
    "spx_y = cube['SPX_SKYCOO'].data[1]\n",
    "flux = cube['SPX_MFLUX'].data\n",
    "cube.close()                                                        #close cube"
   ]
  },
  {
   "cell_type": "markdown",
   "id": "27399c64-14f0-43b6-980d-67e9f650eed3",
   "metadata": {},
   "source": [
    "# Variables"
   ]
  },
  {
   "cell_type": "code",
   "execution_count": 3,
   "id": "dcaa8128-d265-4573-894a-4b4aa1527544",
   "metadata": {},
   "outputs": [],
   "source": [
    "loc = drpalltt_dict[test_galaxy]                                    #loc is the location of the test galaxy within the drpalltt dictionary\n",
    "mhalpha_vel = ma.array(halpha_vel, mask = halpha_gvel_mask)          #masking the halpha array\n",
    "mhalpha_ivar = ma.array (halpha_gvel_ivar, mask = halpha_gvel_mask ) #masking the halpha inverse variance data\n",
    "PA = drpalltt[loc]['nsa_elpetro_phi']                                #PA is the position angle of chosen galaxy\n",
    "ba = drpalltt[loc]['nsa_elpetro_ba']                                 #ba is the axes ratio of chosen galaxy\n",
    "z = drpalltt[loc]['z']                                               #z is red-shift value given by sdss \n",
    "mask_f = halpha_gvel_mask\n",
    "x = -spx_x                                                           #x and y are spaxel distance from the center of the galaxy\n",
    "y = spx_y\n",
    "\n",
    "alpha = 1.58\n",
    "Rturn = 0.77*u.kpc\n",
    "vmax = 222*u.km/u.s\n",
    "H_0 = 100 *(u.km/u.s)/u.Mpc\n",
    "q0 = 0.2\n",
    "c = 299792.458 *(u.km/u.s)\n",
    "#spax = 1\n",
    "gal_distance = (c*z)/H_0\n",
    "gal_dist_kpc = gal_distance.to(u.kpc).value                        #gal_dist_kpc is the distance to the observed galaxy in kpc units\n",
    "i_angle = np.arccos(np.sqrt(((ba)**2)-(q0**2)/(1-q0**2)))\n",
    "spax_size = 0.5*(1/60)*(1/60)*(np.pi/180)                          #spax_size is the conversion from spaxels to radians\n",
    "r_convert = gal_dist_kpc*spax_size                                 #r_convert is the distance of a point from the center of a galaxy in kpc\n",
    "\n",
    "\n",
    "\n",
    "x_rot = (-x*np.sin(np.radians(PA))+ y*np.cos(np.radians(PA)))/(np.cos(i))        #the following 4 lines get the reoriented coordinates aligned with the galaxy major axis\n",
    "y_rot = (y*np.sin(np.radians(PA))+x*np.cos(np.radians(PA)))                      \n",
    "theta = np.arctan(y_rot/x_rot)\n",
    "rt = (np.sqrt(x_rot**2+y_rot**2)*u.kpc)*np.sign(x_rot)\n",
    "\n",
    "rot_v = ((vmax*abs(rt))/((((Rturn)**alpha)+(abs(rt)**alpha))**(1/alpha)))*np.sign(x_rot)  #rot_v is the net velocity of a point at a radius from the center\n",
    "\n",
    "obs_v = ((rot_v*np.sin(i))*np.cos(theta)).value                                           #obs_v is the component of velocity we can observe directly\n",
    "\n",
    "mobs_v = ma.array(obs_v, mask = stellar_mask)                                             #masks the observed velocity\n",
    "\n",
    "map_shape = mobs_v.shape                                                                  #map_shape is the shape of the mask observed velocity map\n",
    "\n",
    "rkpc = gal_dist_kpc*spax_size\n",
    "\n"
   ]
  },
  {
   "cell_type": "markdown",
   "id": "5e6a0477-433a-4881-91f9-46920c2e98e7",
   "metadata": {},
   "source": [
    "# Center Coords"
   ]
  },
  {
   "cell_type": "code",
   "execution_count": 4,
   "id": "5f451802-e08d-45db-9700-9ffcda98f848",
   "metadata": {},
   "outputs": [],
   "source": [
    "mx = np.max(flux)                              #this function finds the largest flux value in \n",
    "indices = np.where(flux == mx)                 #the flux map and appoints it as the center of the galaxy.\n",
    "mid_pos = [indices[0][0], indices[1][0]]\n",
    "clean_coords = [int(c) for c in mid_pos]\n"
   ]
  },
  {
   "cell_type": "markdown",
   "id": "238a87a1-1cfe-4a3a-b650-bd1175db8a60",
   "metadata": {},
   "source": [
    "# Check PA"
   ]
  },
  {
   "cell_type": "code",
   "execution_count": 5,
   "id": "37c9a6d5-b826-497c-8292-7b53b9732409",
   "metadata": {},
   "outputs": [
    {
     "name": "stdout",
     "output_type": "stream",
     "text": [
      "15 18\n"
     ]
    }
   ],
   "source": [
    "theta = np.radians(PA-90)                      #theta is PA reoriented to the positive x axis for calculations\n",
    "for x in range(15,indices[0][0]):       \n",
    "    y = round(x * np.tan(theta))               #y's are found based on the slope given by PA\n",
    "    if ma.is_masked(mhalpha_vel[x, y]):\n",
    "        continue\n",
    "    else:\n",
    "                                               #creates the points on the map to be checked for velocity\n",
    "        v_checkx = 31-x\n",
    "        v_checky = 31-y\n",
    "        print(v_checkx,v_checky)\n",
    "        break\n",
    "\n",
    "if (mhalpha_vel[v_checkx,v_checky]<0):         # if velocity comes back negative the position angle will be flipped 180 deg, otherwise left alone\n",
    "    checkedPA = (PA + 180) *(np.pi/180)\n",
    "else:\n",
    "    checkedPA = PA*(np.pi/180)\n",
    "        \n"
   ]
  },
  {
   "cell_type": "markdown",
   "id": "60fb5957-8171-4f0d-8b22-b3fc9ef8536f",
   "metadata": {},
   "source": [
    "# Call Velocity Function"
   ]
  },
  {
   "cell_type": "code",
   "execution_count": 6,
   "id": "62dc0e24-a9a9-4dc7-bcc9-896b154f4eff",
   "metadata": {},
   "outputs": [],
   "source": [
    "rturn_kpc = Rturn.value          #rturn_kpc is the unitless version for application in the function\n",
    "\n",
    "                                                                   \n",
    "mvel_map = get_mvel_map(map_shape,                       #get_mvel_map is used to get the model vel map\n",
    "                        vmax, alpha,\n",
    "                        rturn_kpc,\n",
    "                        checkedPA,\n",
    "                        i_angle,\n",
    "                        clean_coords[0],\n",
    "                        clean_coords[1],\n",
    "                        mask_f,r_convert\n",
    "                       )\n",
    "\n"
   ]
  },
  {
   "cell_type": "code",
   "execution_count": 7,
   "id": "51377f3f-593d-435d-9da3-0d8e84667ab4",
   "metadata": {},
   "outputs": [
    {
     "name": "stdout",
     "output_type": "stream",
     "text": [
      "x is a float\n",
      "<class 'numpy.ma.MaskedArray'>\n"
     ]
    }
   ],
   "source": [
    "if isinstance(r_convert, float):\n",
    "    print(\"x is a float\")\n",
    "else:\n",
    "    print(\"x is not a float\")\n",
    "print(type(mvel_map))\n"
   ]
  },
  {
   "cell_type": "markdown",
   "id": "cec08664-2c5a-45d0-8819-50a202974672",
   "metadata": {},
   "source": [
    "# Plot"
   ]
  },
  {
   "cell_type": "code",
   "execution_count": 8,
   "id": "fe384763-aa7f-4a07-a13c-14344f32aa03",
   "metadata": {},
   "outputs": [
    {
     "name": "stdout",
     "output_type": "stream",
     "text": [
      "max = 109.02470076649728min = -109.12619619380254\n"
     ]
    },
    {
     "data": {
      "text/plain": [
       "Text(0.5, 1.0, '8997-9102 Masked H-alpha Velocity')"
      ]
     },
     "execution_count": 8,
     "metadata": {},
     "output_type": "execute_result"
    },
    {
     "data": {
      "image/png": "[encoded data removed]",
      "text/plain": [
       "<Figure size 640x480 with 2 Axes>"
      ]
     },
     "metadata": {},
     "output_type": "display_data"
    }
   ],
   "source": [
    "mvel_data = mvel_map.data.value  # Quantity array\n",
    "\n",
    "mvel_plot = np.ma.array(mvel_data, mask=mask_f) #re-applied mask\n",
    "\n",
    "val_max = mvel_plot.max()        #simple plotting section for visualization\n",
    "val_min = mvel_plot.min()\n",
    "print('max = '+ str(val_max) + 'min = ' + str(val_min))\n",
    "\n",
    "if (val_max >= abs(val_min)):\n",
    "    lim = val_max\n",
    "else:\n",
    "    lim = abs(val_min)\n",
    "\n",
    "plt.imshow(mvel_plot,cmap = 'bwr',vmin = -lim, vmax = lim)     #creates a color map of data, (data set, cmap = 'desired color code')\n",
    "plt.colorbar(label = 'Velocity [km/s]')  #following are just labels\n",
    "plt.gca().invert_yaxis()\n",
    "plt.xlabel('spaxel')\n",
    "plt.ylabel('spaxel')\n",
    "plt.plot(30,50, marker = 'x', color = 'k')\n",
    "\n",
    "plt.grid(True)\n",
    "plt.title(test_galaxy+r' Masked H-alpha Velocity')"
   ]
  },
  {
   "cell_type": "code",
   "execution_count": 9,
   "id": "88b5ab91-e0aa-44ab-8aa4-261eb8432541",
   "metadata": {},
   "outputs": [],
   "source": [
    "#params = [vmax, alpha, rturn_kpc, checkedPA, i_angle, clean_coords[0], clean_coords[1]] #create list of parameters to be used for chi2\n",
    "#calc_chi2(params, mhalpha_vel , mhalpha_ivar, map_shape, r_convert, mask_f )\n"
   ]
  },
  {
   "cell_type": "code",
   "execution_count": 10,
   "id": "0b2f2748-ad1a-4036-a9c1-cf9c9f2f3472",
   "metadata": {},
   "outputs": [],
   "source": [
    "vmax_guess = 250                               #set up initial guesses to start chi2 minimization\n",
    "alpha_guess = 1\n",
    "Rturn_guess = 0.5\n",
    "PA_guess = checkedPA\n",
    "i_angle_guess = i_angle\n",
    "center_guess = clean_coords\n",
    "\n",
    "x0 = [vmax_guess, alpha_guess, Rturn_guess, PA_guess, i_angle_guess, center_guess[0],center_guess[1]] #make list for guesses to be input as a list\n",
    "\n",
    "args = (mhalpha_vel, mhalpha_ivar, map_shape, r_convert, mask_f)    #non-variable values to go into minimzation function\n",
    "\n",
    "vmax_bound = (0, 1000)                                     #setting reasonable bounds for variable used in minimization\n",
    "alpha_bound = (0.001,100)\n",
    "Rturn_bound = (0.001,100)\n",
    "PA_bound = (0,2*np.pi)\n",
    "\n",
    "i_anglelow = np.max([0,i_angle-np.radians(15)])\n",
    "i_anglehigh = np.min([np.radians(90), i_angle+np.radians(15)])\n",
    "i_angle_bound = (i_anglelow, i_anglehigh)\n",
    "\n",
    "centeri_bound = (center_guess[0]-5,center_guess[0]+5)\n",
    "centerj_bound = (center_guess[1]-5,center_guess[1]+5)\n",
    "\n",
    "bounds = np.array([vmax_bound,alpha_bound,Rturn_bound,PA_bound,i_angle_bound,centeri_bound,centerj_bound ]) #make list containing bounds to be sent into minimization function"
   ]
  },
  {
   "cell_type": "code",
   "execution_count": 11,
   "id": "51e8359a-fabc-47a5-a379-46d9b92ac47b",
   "metadata": {},
   "outputs": [
    {
     "name": "stdout",
     "output_type": "stream",
     "text": [
      "Optimization terminated successfully.\n",
      "         Current function value: 62022.217684\n",
      "         Iterations: 9\n",
      "         Function evaluations: 764\n"
     ]
    }
   ],
   "source": [
    "result = minimize(     #using minimization function on chi2 function\n",
    "    calc_chi2,\n",
    "    x0,\n",
    "    args = args,\n",
    "    method = 'Powell',\n",
    "    bounds = bounds,\n",
    "    options = {'disp': True}    \n",
    ")"
   ]
  },
  {
   "cell_type": "code",
   "execution_count": 15,
   "id": "f757b98d-93be-40c5-87cb-a6a4c69138e6",
   "metadata": {},
   "outputs": [
    {
     "data": {
      "text/plain": [
       " message: Optimization terminated successfully.\n",
       " success: True\n",
       "  status: 0\n",
       "     fun: 62022.21768435803\n",
       "       x: [ 2.208e+02  9.066e-01  6.324e-01  5.553e+00  5.729e-01\n",
       "            2.998e+01  3.056e+01]\n",
       "     nit: 9\n",
       "   direc: [[-3.488e-01 -3.029e-02 ...  1.836e-01 -1.584e-01]\n",
       "           [ 0.000e+00  1.000e+00 ...  0.000e+00  0.000e+00]\n",
       "           ...\n",
       "           [ 0.000e+00  0.000e+00 ...  1.000e+00  0.000e+00]\n",
       "           [ 3.494e+00 -2.189e-02 ... -8.697e-02  1.156e-01]]\n",
       "    nfev: 764"
      ]
     },
     "execution_count": 15,
     "metadata": {},
     "output_type": "execute_result"
    }
   ],
   "source": [
    "result"
   ]
  },
  {
   "cell_type": "code",
   "execution_count": 13,
   "id": "a52c449c-1517-4007-9830-78227c6ee354",
   "metadata": {},
   "outputs": [],
   "source": [
    "nmvel_map = get_mvel_map((map_shape,                       #get_mvel_map is used to get the model vel map\n",
    "                        result.x[0], \n",
    "                        result.x[1],\n",
    "                        result.x[2],\n",
    "                        result.x[3],\n",
    "                        result.x[4],\n",
    "                        result.x[5],\n",
    "                        result.x[6],\n",
    "                        mask_f,r_convert\n",
    "                       )"
   ]
  },
  {
   "cell_type": "code",
   "execution_count": 14,
   "id": "1f312c37-5eb7-4150-b1f6-f9439bc5b3ad",
   "metadata": {},
   "outputs": [
    {
     "name": "stdout",
     "output_type": "stream",
     "text": [
      "max = 104.73124215009176min = -103.79907549223682\n"
     ]
    },
    {
     "data": {
      "text/plain": [
       "Text(0.5, 1.0, '8997-9102 Masked H-alpha Velocity')"
      ]
     },
     "execution_count": 14,
     "metadata": {},
     "output_type": "execute_result"
    },
    {
     "data": {
      "image/png": "[encoded data removed]",
      "text/plain": [
       "<Figure size 640x480 with 2 Axes>"
      ]
     },
     "metadata": {},
     "output_type": "display_data"
    }
   ],
   "source": [
    "#plot with new adjusted perameters\n",
    "val_max = nmvel_map.max()        #simple plotting section for visualization\n",
    "val_min = nmvel_map.min()\n",
    "print('max = '+ str(val_max) + 'min = ' + str(val_min))\n",
    "\n",
    "if (val_max >= abs(val_min)):\n",
    "    lim = val_max\n",
    "else:\n",
    "    lim = abs(val_min)\n",
    "\n",
    "plt.imshow(nmvel_map,cmap = 'bwr',vmin = -lim, vmax = lim)     #creates a color map of data, (data set, cmap = 'desired color code')\n",
    "plt.colorbar(label = 'Velocity [km/s]')  #following are just labels\n",
    "plt.gca().invert_yaxis()\n",
    "plt.xlabel('spaxel')\n",
    "plt.ylabel('spaxel')\n",
    "plt.plot(30,50, marker = 'x', color = 'k')\n",
    "\n",
    "plt.grid(True)\n",
    "plt.title(test_galaxy+r' Masked H-alpha Velocity')"
   ]
  },
  {
   "cell_type": "code",
   "execution_count": null,
   "id": "db40f5b3-4e2e-4e8e-8df5-927d090be619",
   "metadata": {},
   "outputs": [],
   "source": []
  },
  {
   "cell_type": "code",
   "execution_count": null,
   "id": "49e86b1f-0e5d-4c18-92b9-384c847baef8",
   "metadata": {},
   "outputs": [],
   "source": []
  }
 ],
 "metadata": {
  "kernelspec": {
   "display_name": "Python 3 (ipykernel)",
   "language": "python",
   "name": "python3"
  },
  "language_info": {
   "codemirror_mode": {
    "name": "ipython",
    "version": 3
   },
   "file_extension": ".py",
   "mimetype": "text/x-python",
   "name": "python",
   "nbconvert_exporter": "python",
   "pygments_lexer": "ipython3",
   "version": "3.13.3"
  }
 },
 "nbformat": 4,
 "nbformat_minor": 5
}
