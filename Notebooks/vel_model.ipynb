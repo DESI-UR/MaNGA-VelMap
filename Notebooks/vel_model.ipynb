{
 "cells": [
  {
   "cell_type": "code",
   "execution_count": 1,
   "id": "3360d382-d135-4bf0-849f-306ee63add7c",
   "metadata": {},
   "outputs": [],
   "source": [
    "import numpy as np\n",
    "import matplotlib.pyplot as plt\n",
    "from scipy.optimize import minimize\n",
    "from astropy.table import Table\n",
    "from astropy.io import fits\n",
    "import numpy.ma as ma\n",
    "from PIL import Image\n",
    "import astropy.units as u\n",
    "from astropy.coordinates import SkyCoord\n",
    "from astropy.wcs import WCS\n",
    "#custom\n",
    "import sys \n",
    "sys.path.insert(1, 'C:/Users/boibr/OneDrive/Documents/GitHub/MaNGA-VelMap/')\n",
    "from GenerateCutout import get_cutout,get_cutout_fits\n",
    "from get_mvel_map import get_mvel_map, calc_chi2\n"
   ]
  },
  {
   "cell_type": "markdown",
   "id": "5e3a3b3e-88af-4714-adc6-ad5a37729b2a",
   "metadata": {},
   "source": [
    "# Data"
   ]
  },
  {
   "cell_type": "code",
   "execution_count": 2,
   "id": "216a4aee-48fc-460d-8fbe-c37e6fdf2cfc",
   "metadata": {},
   "outputs": [],
   "source": [
    "test_galaxy = '8997-9102'\n",
    "\n",
    "data_folder = \"/Users/Emlilio/School/Internships/UR ASTRO/Data/\"\n",
    "\n",
    "drpall = data_folder + 'drpall_ttype_R90.fits'           \n",
    "drpalltt = Table.read(drpall, format=\"fits\",hdu=1) \n",
    "drpalltt_dict = {}                   \n",
    "\n",
    "for i in range(len(drpalltt)):         \n",
    "    plateifu = drpalltt['plateifu'][i]     \n",
    "    drpalltt_dict[plateifu] = i \n",
    "    \n",
    "cube_fn = data_folder + 'MaNGA/manga-'+ test_galaxy +'-MAPS-HYB10-MILESHC-MASTARSSP.fits.gz'\n",
    "cube = fits.open(cube_fn)                     \n",
    "stellar_vel = cube['STELLAR_VEL'].data           \n",
    "stellar_mask = cube['STELLAR_VEL_MASK'].data\n",
    "halpha_vel = cube['EMLINE_GVEL'].data[23]        \n",
    "halpha_gvel_mask = cube['EMLINE_GVEL_MASK'].data[23]\n",
    "halpha_gvel_ivar = cube['EMLINE_GVEL_IVAR'].data[23]\n",
    "ellip_radius = cube['SPX_ELLCOO'].data[3]\n",
    "spx_x = cube['SPX_SKYCOO'].data[0]\n",
    "spx_y = cube['SPX_SKYCOO'].data[1]\n",
    "flux = cube['SPX_MFLUX'].data\n",
    "cube.close()"
   ]
  },
  {
   "cell_type": "markdown",
   "id": "27399c64-14f0-43b6-980d-67e9f650eed3",
   "metadata": {},
   "source": [
    "# Variables"
   ]
  },
  {
   "cell_type": "code",
   "execution_count": 3,
   "id": "dcaa8128-d265-4573-894a-4b4aa1527544",
   "metadata": {},
   "outputs": [],
   "source": [
    "loc = drpalltt_dict[test_galaxy] \n",
    "mhalpha_vel = ma.array(halpha_vel, mask = halpha_gvel_mask)\n",
    "mhalpha_ivar = ma.array (halpha_gvel_ivar, mask = halpha_gvel_mask )\n",
    "PA = drpalltt[loc]['nsa_elpetro_phi']\n",
    "ba = drpalltt[loc]['nsa_elpetro_ba']\n",
    "z = drpalltt[loc]['z']\n",
    "mask_f = halpha_gvel_mask\n",
    "x = -spx_x\n",
    "y = spx_y\n",
    "\n",
    "alpha = 1.58\n",
    "Rturn = 0.77*u.kpc\n",
    "vmax = 222*u.km/u.s\n",
    "H_0 = 100 *(u.km/u.s)/u.Mpc\n",
    "q0 = 0.2\n",
    "c = 299792.458 *(u.km/u.s)\n",
    "#spax = 1\n",
    "gal_distance = (c*z)/H_0\n",
    "gal_dist_kpc = gal_distance.to(u.kpc).value\n",
    "i_angle = np.arccos(np.sqrt(((ba)**2)-(q0**2)/(1-q0**2)))\n",
    "spax_size = 0.5*(1/60)*(1/60)*(np.pi/180)\n",
    "r_convert = gal_dist_kpc*spax_size        #conversion from spax size to kpc\n",
    "\n",
    "#axes adjustment\n",
    "x_rot = (-x*np.sin(np.radians(PA))+ y*np.cos(np.radians(PA)))/(np.cos(i))\n",
    "y_rot = (y*np.sin(np.radians(PA))+x*np.cos(np.radians(PA)))\n",
    "theta = np.arctan(y_rot/x_rot)\n",
    "\n",
    "rt = (np.sqrt(x_rot**2+y_rot**2)*u.kpc)*np.sign(x_rot)\n",
    "\n",
    "rot_v = ((vmax*abs(rt))/((((Rturn)**alpha)+(abs(rt)**alpha))**(1/alpha)))*np.sign(x_rot)\n",
    "\n",
    "obs_v = ((rot_v*np.sin(i))*np.cos(theta)).value\n",
    "\n",
    "mobs_v = ma.array(obs_v, mask = stellar_mask)\n",
    "\n",
    "map_shape = mobs_v.shape\n",
    "\n",
    "rkpc = gal_dist_kpc*spax_size\n",
    "\n"
   ]
  },
  {
   "cell_type": "markdown",
   "id": "5e6a0477-433a-4881-91f9-46920c2e98e7",
   "metadata": {},
   "source": [
    "# Center Coords"
   ]
  },
  {
   "cell_type": "code",
   "execution_count": 4,
   "id": "5f451802-e08d-45db-9700-9ffcda98f848",
   "metadata": {},
   "outputs": [],
   "source": [
    "mx = np.max(flux)        \n",
    "indices = np.where(flux == mx)\n",
    "mid_pos = [indices[0][0], indices[1][0]]\n",
    "clean_coords = [int(c) for c in mid_pos]\n"
   ]
  },
  {
   "cell_type": "markdown",
   "id": "238a87a1-1cfe-4a3a-b650-bd1175db8a60",
   "metadata": {},
   "source": [
    "# Check PA"
   ]
  },
  {
   "cell_type": "code",
   "execution_count": 5,
   "id": "37c9a6d5-b826-497c-8292-7b53b9732409",
   "metadata": {},
   "outputs": [
    {
     "name": "stdout",
     "output_type": "stream",
     "text": [
      "15 18\n",
      "129.725\n",
      "5.405721025739438\n",
      "0.77 kpc\n"
     ]
    }
   ],
   "source": [
    "theta = np.radians(PA-90)  \n",
    "for x in range(15,indices[0][0]):\n",
    "    y = round(x * np.tan(theta))\n",
    "    if ma.is_masked(mhalpha_vel[x, y]):\n",
    "        continue\n",
    "    else:\n",
    "        \n",
    "        v_checkx = 31-x\n",
    "        v_checky = 31-y\n",
    "        print(v_checkx,v_checky)\n",
    "        break\n",
    "\n",
    "if (mhalpha_vel[v_checkx,v_checky]<0):\n",
    "    checkedPA = (PA + 180) *(np.pi/180)\n",
    "else:\n",
    "    checkedPA = PA*(np.pi/180)\n",
    "        \n",
    "print(PA)\n",
    "print(checkedPA)\n",
    "print(Rturn)"
   ]
  },
  {
   "cell_type": "markdown",
   "id": "60fb5957-8171-4f0d-8b22-b3fc9ef8536f",
   "metadata": {},
   "source": [
    "# Call Velocity Function"
   ]
  },
  {
   "cell_type": "code",
   "execution_count": 6,
   "id": "23535e9a-d1f5-4be8-8002-3e07b7aba755",
   "metadata": {},
   "outputs": [
    {
     "data": {
      "text/plain": [
       "\u001b[31mSignature:\u001b[39m\n",
       "get_mvel_map(\n",
       "    map_shape,\n",
       "    vmax,\n",
       "    alpha,\n",
       "    Rturn,\n",
       "    checkedPA,\n",
       "    i_angle,\n",
       "    clean_coords_i,\n",
       "    clean_coords_j,\n",
       "    mask_f,\n",
       "    r_convert,\n",
       ")\n",
       "\u001b[31mDocstring:\u001b[39m <no docstring>\n",
       "\u001b[31mFile:\u001b[39m      c:\\users\\boibr\\onedrive\\documents\\github\\manga-velmap\\get_mvel_map.py\n",
       "\u001b[31mType:\u001b[39m      function"
      ]
     },
     "metadata": {},
     "output_type": "display_data"
    }
   ],
   "source": [
    "get_mvel_map?"
   ]
  },
  {
   "cell_type": "code",
   "execution_count": 7,
   "id": "25d16386-00ce-4a2b-b03a-4f96f387bb8b",
   "metadata": {},
   "outputs": [
    {
     "data": {
      "text/plain": [
       "np.float64(0.23675145636613146)"
      ]
     },
     "execution_count": 7,
     "metadata": {},
     "output_type": "execute_result"
    }
   ],
   "source": [
    "r_convert"
   ]
  },
  {
   "cell_type": "code",
   "execution_count": 8,
   "id": "62dc0e24-a9a9-4dc7-bcc9-896b154f4eff",
   "metadata": {},
   "outputs": [],
   "source": [
    "rturn_kpc = Rturn.value\n",
    "mvel_map = get_mvel_map(map_shape, vmax, alpha, rturn_kpc, checkedPA, i_angle,  clean_coords[0],clean_coords[1],mask_f,  r_convert)\n",
    "\n",
    "#whatever the last positional argument seems to be appears missing."
   ]
  },
  {
   "cell_type": "markdown",
   "id": "cec08664-2c5a-45d0-8819-50a202974672",
   "metadata": {},
   "source": [
    "# Plot"
   ]
  },
  {
   "cell_type": "code",
   "execution_count": 9,
   "id": "fe384763-aa7f-4a07-a13c-14344f32aa03",
   "metadata": {},
   "outputs": [
    {
     "name": "stdout",
     "output_type": "stream",
     "text": [
      "max = 109.02470076649728 km / smin = -109.12619619380254 km / s\n"
     ]
    },
    {
     "ename": "UnitConversionError",
     "evalue": "'' (dimensionless) and 'km / s' (speed/velocity) are not convertible",
     "output_type": "error",
     "traceback": [
      "\u001b[31m---------------------------------------------------------------------------\u001b[39m",
      "\u001b[31mAttributeError\u001b[39m                            Traceback (most recent call last)",
      "\u001b[36mFile \u001b[39m\u001b[32mC:\\Users\\Emlilio\\miniforge3\\envs\\REU\\Lib\\site-packages\\astropy\\units\\quantity.py:1702\u001b[39m, in \u001b[36mQuantity._to_own_unit\u001b[39m\u001b[34m(self, value, check_precision, unit)\u001b[39m\n\u001b[32m   1701\u001b[39m \u001b[38;5;28;01mtry\u001b[39;00m:\n\u001b[32m-> \u001b[39m\u001b[32m1702\u001b[39m     _value = \u001b[43mvalue\u001b[49m\u001b[43m.\u001b[49m\u001b[43mto_value\u001b[49m(unit)\n\u001b[32m   1703\u001b[39m \u001b[38;5;28;01mexcept\u001b[39;00m \u001b[38;5;167;01mAttributeError\u001b[39;00m:\n\u001b[32m   1704\u001b[39m     \u001b[38;5;66;03m# We're not a Quantity.\u001b[39;00m\n\u001b[32m   1705\u001b[39m     \u001b[38;5;66;03m# First remove two special cases (with a fast test):\u001b[39;00m\n\u001b[32m   1706\u001b[39m     \u001b[38;5;66;03m# 1) Maybe masked printing? MaskedArray with quantities does not\u001b[39;00m\n\u001b[32m   1707\u001b[39m     \u001b[38;5;66;03m# work very well, but no reason to break even repr and str.\u001b[39;00m\n\u001b[32m   1708\u001b[39m     \u001b[38;5;66;03m# 2) np.ma.masked? useful if we're a MaskedQuantity.\u001b[39;00m\n",
      "\u001b[31mAttributeError\u001b[39m: 'numpy.ndarray' object has no attribute 'to_value'",
      "\nDuring handling of the above exception, another exception occurred:\n",
      "\u001b[31mUnitConversionError\u001b[39m                       Traceback (most recent call last)",
      "\u001b[36mFile \u001b[39m\u001b[32mC:\\Users\\Emlilio\\miniforge3\\envs\\REU\\Lib\\site-packages\\astropy\\units\\quantity.py:975\u001b[39m, in \u001b[36mQuantity.to_value\u001b[39m\u001b[34m(self, unit, equivalencies)\u001b[39m\n\u001b[32m    974\u001b[39m \u001b[38;5;28;01mtry\u001b[39;00m:\n\u001b[32m--> \u001b[39m\u001b[32m975\u001b[39m     scale = \u001b[38;5;28;43mself\u001b[39;49m\u001b[43m.\u001b[49m\u001b[43munit\u001b[49m\u001b[43m.\u001b[49m\u001b[43m_to\u001b[49m\u001b[43m(\u001b[49m\u001b[43munit\u001b[49m\u001b[43m)\u001b[49m\n\u001b[32m    976\u001b[39m \u001b[38;5;28;01mexcept\u001b[39;00m \u001b[38;5;167;01mException\u001b[39;00m:\n\u001b[32m    977\u001b[39m     \u001b[38;5;66;03m# Short-cut failed; try default (maybe equivalencies help).\u001b[39;00m\n",
      "\u001b[36mFile \u001b[39m\u001b[32mC:\\Users\\Emlilio\\miniforge3\\envs\\REU\\Lib\\site-packages\\astropy\\units\\core.py:1172\u001b[39m, in \u001b[36mUnitBase._to\u001b[39m\u001b[34m(self, other)\u001b[39m\n\u001b[32m   1170\u001b[39m         \u001b[38;5;28;01mreturn\u001b[39;00m self_decomposed.scale / other_decomposed.scale\n\u001b[32m-> \u001b[39m\u001b[32m1172\u001b[39m \u001b[38;5;28;01mraise\u001b[39;00m UnitConversionError(\u001b[33mf\u001b[39m\u001b[33m\"\u001b[39m\u001b[33m'\u001b[39m\u001b[38;5;132;01m{\u001b[39;00m\u001b[38;5;28mself\u001b[39m\u001b[38;5;132;01m!r}\u001b[39;00m\u001b[33m'\u001b[39m\u001b[33m is not a scaled version of \u001b[39m\u001b[33m'\u001b[39m\u001b[38;5;132;01m{\u001b[39;00mother\u001b[38;5;132;01m!r}\u001b[39;00m\u001b[33m'\u001b[39m\u001b[33m\"\u001b[39m)\n",
      "\u001b[31mUnitConversionError\u001b[39m: 'Unit(dimensionless)' is not a scaled version of 'Unit(\"km / s\")'",
      "\nDuring handling of the above exception, another exception occurred:\n",
      "\u001b[31mUnitConversionError\u001b[39m                       Traceback (most recent call last)",
      "\u001b[36mCell\u001b[39m\u001b[36m \u001b[39m\u001b[32mIn[9]\u001b[39m\u001b[32m, line 10\u001b[39m\n\u001b[32m      7\u001b[39m \u001b[38;5;28;01melse\u001b[39;00m:\n\u001b[32m      8\u001b[39m     lim = \u001b[38;5;28mabs\u001b[39m(val_min)\n\u001b[32m---> \u001b[39m\u001b[32m10\u001b[39m \u001b[43mplt\u001b[49m\u001b[43m.\u001b[49m\u001b[43mimshow\u001b[49m\u001b[43m(\u001b[49m\u001b[43mmvel_map\u001b[49m\u001b[43m,\u001b[49m\u001b[43mcmap\u001b[49m\u001b[43m \u001b[49m\u001b[43m=\u001b[49m\u001b[43m \u001b[49m\u001b[33;43m'\u001b[39;49m\u001b[33;43mbwr\u001b[39;49m\u001b[33;43m'\u001b[39;49m\u001b[43m,\u001b[49m\u001b[43mvmin\u001b[49m\u001b[43m \u001b[49m\u001b[43m=\u001b[49m\u001b[43m \u001b[49m\u001b[43m-\u001b[49m\u001b[43mlim\u001b[49m\u001b[43m,\u001b[49m\u001b[43m \u001b[49m\u001b[43mvmax\u001b[49m\u001b[43m \u001b[49m\u001b[43m=\u001b[49m\u001b[43m \u001b[49m\u001b[43mlim\u001b[49m\u001b[43m)\u001b[49m     \u001b[38;5;66;03m#creates a color map of data, (data set, cmap = 'desired color code')\u001b[39;00m\n\u001b[32m     11\u001b[39m plt.colorbar(label = \u001b[33m'\u001b[39m\u001b[33mVelocity [km/s]\u001b[39m\u001b[33m'\u001b[39m)  \u001b[38;5;66;03m#following are just labels\u001b[39;00m\n\u001b[32m     12\u001b[39m plt.gca().invert_yaxis()\n",
      "\u001b[36mFile \u001b[39m\u001b[32mC:\\Users\\Emlilio\\miniforge3\\envs\\REU\\Lib\\site-packages\\matplotlib\\pyplot.py:3601\u001b[39m, in \u001b[36mimshow\u001b[39m\u001b[34m(X, cmap, norm, aspect, interpolation, alpha, vmin, vmax, colorizer, origin, extent, interpolation_stage, filternorm, filterrad, resample, url, data, **kwargs)\u001b[39m\n\u001b[32m   3579\u001b[39m \u001b[38;5;129m@_copy_docstring_and_deprecators\u001b[39m(Axes.imshow)\n\u001b[32m   3580\u001b[39m \u001b[38;5;28;01mdef\u001b[39;00m\u001b[38;5;250m \u001b[39m\u001b[34mimshow\u001b[39m(\n\u001b[32m   3581\u001b[39m     X: ArrayLike | PIL.Image.Image,\n\u001b[32m   (...)\u001b[39m\u001b[32m   3599\u001b[39m     **kwargs,\n\u001b[32m   3600\u001b[39m ) -> AxesImage:\n\u001b[32m-> \u001b[39m\u001b[32m3601\u001b[39m     __ret = \u001b[43mgca\u001b[49m\u001b[43m(\u001b[49m\u001b[43m)\u001b[49m\u001b[43m.\u001b[49m\u001b[43mimshow\u001b[49m\u001b[43m(\u001b[49m\n\u001b[32m   3602\u001b[39m \u001b[43m        \u001b[49m\u001b[43mX\u001b[49m\u001b[43m,\u001b[49m\n\u001b[32m   3603\u001b[39m \u001b[43m        \u001b[49m\u001b[43mcmap\u001b[49m\u001b[43m=\u001b[49m\u001b[43mcmap\u001b[49m\u001b[43m,\u001b[49m\n\u001b[32m   3604\u001b[39m \u001b[43m        \u001b[49m\u001b[43mnorm\u001b[49m\u001b[43m=\u001b[49m\u001b[43mnorm\u001b[49m\u001b[43m,\u001b[49m\n\u001b[32m   3605\u001b[39m \u001b[43m        \u001b[49m\u001b[43maspect\u001b[49m\u001b[43m=\u001b[49m\u001b[43maspect\u001b[49m\u001b[43m,\u001b[49m\n\u001b[32m   3606\u001b[39m \u001b[43m        \u001b[49m\u001b[43minterpolation\u001b[49m\u001b[43m=\u001b[49m\u001b[43minterpolation\u001b[49m\u001b[43m,\u001b[49m\n\u001b[32m   3607\u001b[39m \u001b[43m        \u001b[49m\u001b[43malpha\u001b[49m\u001b[43m=\u001b[49m\u001b[43malpha\u001b[49m\u001b[43m,\u001b[49m\n\u001b[32m   3608\u001b[39m \u001b[43m        \u001b[49m\u001b[43mvmin\u001b[49m\u001b[43m=\u001b[49m\u001b[43mvmin\u001b[49m\u001b[43m,\u001b[49m\n\u001b[32m   3609\u001b[39m \u001b[43m        \u001b[49m\u001b[43mvmax\u001b[49m\u001b[43m=\u001b[49m\u001b[43mvmax\u001b[49m\u001b[43m,\u001b[49m\n\u001b[32m   3610\u001b[39m \u001b[43m        \u001b[49m\u001b[43mcolorizer\u001b[49m\u001b[43m=\u001b[49m\u001b[43mcolorizer\u001b[49m\u001b[43m,\u001b[49m\n\u001b[32m   3611\u001b[39m \u001b[43m        \u001b[49m\u001b[43morigin\u001b[49m\u001b[43m=\u001b[49m\u001b[43morigin\u001b[49m\u001b[43m,\u001b[49m\n\u001b[32m   3612\u001b[39m \u001b[43m        \u001b[49m\u001b[43mextent\u001b[49m\u001b[43m=\u001b[49m\u001b[43mextent\u001b[49m\u001b[43m,\u001b[49m\n\u001b[32m   3613\u001b[39m \u001b[43m        \u001b[49m\u001b[43minterpolation_stage\u001b[49m\u001b[43m=\u001b[49m\u001b[43minterpolation_stage\u001b[49m\u001b[43m,\u001b[49m\n\u001b[32m   3614\u001b[39m \u001b[43m        \u001b[49m\u001b[43mfilternorm\u001b[49m\u001b[43m=\u001b[49m\u001b[43mfilternorm\u001b[49m\u001b[43m,\u001b[49m\n\u001b[32m   3615\u001b[39m \u001b[43m        \u001b[49m\u001b[43mfilterrad\u001b[49m\u001b[43m=\u001b[49m\u001b[43mfilterrad\u001b[49m\u001b[43m,\u001b[49m\n\u001b[32m   3616\u001b[39m \u001b[43m        \u001b[49m\u001b[43mresample\u001b[49m\u001b[43m=\u001b[49m\u001b[43mresample\u001b[49m\u001b[43m,\u001b[49m\n\u001b[32m   3617\u001b[39m \u001b[43m        \u001b[49m\u001b[43murl\u001b[49m\u001b[43m=\u001b[49m\u001b[43murl\u001b[49m\u001b[43m,\u001b[49m\n\u001b[32m   3618\u001b[39m \u001b[43m        \u001b[49m\u001b[43m*\u001b[49m\u001b[43m*\u001b[49m\u001b[43m(\u001b[49m\u001b[43m{\u001b[49m\u001b[33;43m\"\u001b[39;49m\u001b[33;43mdata\u001b[39;49m\u001b[33;43m\"\u001b[39;49m\u001b[43m:\u001b[49m\u001b[43m \u001b[49m\u001b[43mdata\u001b[49m\u001b[43m}\u001b[49m\u001b[43m \u001b[49m\u001b[38;5;28;43;01mif\u001b[39;49;00m\u001b[43m \u001b[49m\u001b[43mdata\u001b[49m\u001b[43m \u001b[49m\u001b[38;5;129;43;01mis\u001b[39;49;00m\u001b[43m \u001b[49m\u001b[38;5;129;43;01mnot\u001b[39;49;00m\u001b[43m \u001b[49m\u001b[38;5;28;43;01mNone\u001b[39;49;00m\u001b[43m \u001b[49m\u001b[38;5;28;43;01melse\u001b[39;49;00m\u001b[43m \u001b[49m\u001b[43m{\u001b[49m\u001b[43m}\u001b[49m\u001b[43m)\u001b[49m\u001b[43m,\u001b[49m\n\u001b[32m   3619\u001b[39m \u001b[43m        \u001b[49m\u001b[43m*\u001b[49m\u001b[43m*\u001b[49m\u001b[43mkwargs\u001b[49m\u001b[43m,\u001b[49m\n\u001b[32m   3620\u001b[39m \u001b[43m    \u001b[49m\u001b[43m)\u001b[49m\n\u001b[32m   3621\u001b[39m     sci(__ret)\n\u001b[32m   3622\u001b[39m     \u001b[38;5;28;01mreturn\u001b[39;00m __ret\n",
      "\u001b[36mFile \u001b[39m\u001b[32mC:\\Users\\Emlilio\\miniforge3\\envs\\REU\\Lib\\site-packages\\matplotlib\\__init__.py:1521\u001b[39m, in \u001b[36m_preprocess_data.<locals>.inner\u001b[39m\u001b[34m(ax, data, *args, **kwargs)\u001b[39m\n\u001b[32m   1518\u001b[39m \u001b[38;5;129m@functools\u001b[39m.wraps(func)\n\u001b[32m   1519\u001b[39m \u001b[38;5;28;01mdef\u001b[39;00m\u001b[38;5;250m \u001b[39m\u001b[34minner\u001b[39m(ax, *args, data=\u001b[38;5;28;01mNone\u001b[39;00m, **kwargs):\n\u001b[32m   1520\u001b[39m     \u001b[38;5;28;01mif\u001b[39;00m data \u001b[38;5;129;01mis\u001b[39;00m \u001b[38;5;28;01mNone\u001b[39;00m:\n\u001b[32m-> \u001b[39m\u001b[32m1521\u001b[39m         \u001b[38;5;28;01mreturn\u001b[39;00m \u001b[43mfunc\u001b[49m\u001b[43m(\u001b[49m\n\u001b[32m   1522\u001b[39m \u001b[43m            \u001b[49m\u001b[43max\u001b[49m\u001b[43m,\u001b[49m\n\u001b[32m   1523\u001b[39m \u001b[43m            \u001b[49m\u001b[43m*\u001b[49m\u001b[38;5;28;43mmap\u001b[39;49m\u001b[43m(\u001b[49m\u001b[43mcbook\u001b[49m\u001b[43m.\u001b[49m\u001b[43msanitize_sequence\u001b[49m\u001b[43m,\u001b[49m\u001b[43m \u001b[49m\u001b[43margs\u001b[49m\u001b[43m)\u001b[49m\u001b[43m,\u001b[49m\n\u001b[32m   1524\u001b[39m \u001b[43m            \u001b[49m\u001b[43m*\u001b[49m\u001b[43m*\u001b[49m\u001b[43m{\u001b[49m\u001b[43mk\u001b[49m\u001b[43m:\u001b[49m\u001b[43m \u001b[49m\u001b[43mcbook\u001b[49m\u001b[43m.\u001b[49m\u001b[43msanitize_sequence\u001b[49m\u001b[43m(\u001b[49m\u001b[43mv\u001b[49m\u001b[43m)\u001b[49m\u001b[43m \u001b[49m\u001b[38;5;28;43;01mfor\u001b[39;49;00m\u001b[43m \u001b[49m\u001b[43mk\u001b[49m\u001b[43m,\u001b[49m\u001b[43m \u001b[49m\u001b[43mv\u001b[49m\u001b[43m \u001b[49m\u001b[38;5;129;43;01min\u001b[39;49;00m\u001b[43m \u001b[49m\u001b[43mkwargs\u001b[49m\u001b[43m.\u001b[49m\u001b[43mitems\u001b[49m\u001b[43m(\u001b[49m\u001b[43m)\u001b[49m\u001b[43m}\u001b[49m\u001b[43m)\u001b[49m\n\u001b[32m   1526\u001b[39m     bound = new_sig.bind(ax, *args, **kwargs)\n\u001b[32m   1527\u001b[39m     auto_label = (bound.arguments.get(label_namer)\n\u001b[32m   1528\u001b[39m                   \u001b[38;5;129;01mor\u001b[39;00m bound.kwargs.get(label_namer))\n",
      "\u001b[36mFile \u001b[39m\u001b[32mC:\\Users\\Emlilio\\miniforge3\\envs\\REU\\Lib\\site-packages\\matplotlib\\axes\\_axes.py:5979\u001b[39m, in \u001b[36mAxes.imshow\u001b[39m\u001b[34m(self, X, cmap, norm, aspect, interpolation, alpha, vmin, vmax, colorizer, origin, extent, interpolation_stage, filternorm, filterrad, resample, url, **kwargs)\u001b[39m\n\u001b[32m   5976\u001b[39m \u001b[38;5;28;01mif\u001b[39;00m aspect \u001b[38;5;129;01mis\u001b[39;00m \u001b[38;5;129;01mnot\u001b[39;00m \u001b[38;5;28;01mNone\u001b[39;00m:\n\u001b[32m   5977\u001b[39m     \u001b[38;5;28mself\u001b[39m.set_aspect(aspect)\n\u001b[32m-> \u001b[39m\u001b[32m5979\u001b[39m \u001b[43mim\u001b[49m\u001b[43m.\u001b[49m\u001b[43mset_data\u001b[49m\u001b[43m(\u001b[49m\u001b[43mX\u001b[49m\u001b[43m)\u001b[49m\n\u001b[32m   5980\u001b[39m im.set_alpha(alpha)\n\u001b[32m   5981\u001b[39m \u001b[38;5;28;01mif\u001b[39;00m im.get_clip_path() \u001b[38;5;129;01mis\u001b[39;00m \u001b[38;5;28;01mNone\u001b[39;00m:\n\u001b[32m   5982\u001b[39m     \u001b[38;5;66;03m# image does not already have clipping set, clip to Axes patch\u001b[39;00m\n",
      "\u001b[36mFile \u001b[39m\u001b[32mC:\\Users\\Emlilio\\miniforge3\\envs\\REU\\Lib\\site-packages\\matplotlib\\image.py:685\u001b[39m, in \u001b[36m_ImageBase.set_data\u001b[39m\u001b[34m(self, A)\u001b[39m\n\u001b[32m    683\u001b[39m \u001b[38;5;28;01mif\u001b[39;00m \u001b[38;5;28misinstance\u001b[39m(A, PIL.Image.Image):\n\u001b[32m    684\u001b[39m     A = pil_to_array(A)  \u001b[38;5;66;03m# Needed e.g. to apply png palette.\u001b[39;00m\n\u001b[32m--> \u001b[39m\u001b[32m685\u001b[39m \u001b[38;5;28mself\u001b[39m._A = \u001b[38;5;28;43mself\u001b[39;49m\u001b[43m.\u001b[49m\u001b[43m_normalize_image_array\u001b[49m\u001b[43m(\u001b[49m\u001b[43mA\u001b[49m\u001b[43m)\u001b[49m\n\u001b[32m    686\u001b[39m \u001b[38;5;28mself\u001b[39m._imcache = \u001b[38;5;28;01mNone\u001b[39;00m\n\u001b[32m    687\u001b[39m \u001b[38;5;28mself\u001b[39m.stale = \u001b[38;5;28;01mTrue\u001b[39;00m\n",
      "\u001b[36mFile \u001b[39m\u001b[32mC:\\Users\\Emlilio\\miniforge3\\envs\\REU\\Lib\\site-packages\\matplotlib\\image.py:646\u001b[39m, in \u001b[36m_ImageBase._normalize_image_array\u001b[39m\u001b[34m(A)\u001b[39m\n\u001b[32m    640\u001b[39m \u001b[38;5;129m@staticmethod\u001b[39m\n\u001b[32m    641\u001b[39m \u001b[38;5;28;01mdef\u001b[39;00m\u001b[38;5;250m \u001b[39m\u001b[34m_normalize_image_array\u001b[39m(A):\n\u001b[32m    642\u001b[39m \u001b[38;5;250m    \u001b[39m\u001b[33;03m\"\"\"\u001b[39;00m\n\u001b[32m    643\u001b[39m \u001b[33;03m    Check validity of image-like input *A* and normalize it to a format suitable for\u001b[39;00m\n\u001b[32m    644\u001b[39m \u001b[33;03m    Image subclasses.\u001b[39;00m\n\u001b[32m    645\u001b[39m \u001b[33;03m    \"\"\"\u001b[39;00m\n\u001b[32m--> \u001b[39m\u001b[32m646\u001b[39m     A = \u001b[43mcbook\u001b[49m\u001b[43m.\u001b[49m\u001b[43msafe_masked_invalid\u001b[49m\u001b[43m(\u001b[49m\u001b[43mA\u001b[49m\u001b[43m,\u001b[49m\u001b[43m \u001b[49m\u001b[43mcopy\u001b[49m\u001b[43m=\u001b[49m\u001b[38;5;28;43;01mTrue\u001b[39;49;00m\u001b[43m)\u001b[49m\n\u001b[32m    647\u001b[39m     \u001b[38;5;28;01mif\u001b[39;00m A.dtype != np.uint8 \u001b[38;5;129;01mand\u001b[39;00m \u001b[38;5;129;01mnot\u001b[39;00m np.can_cast(A.dtype, \u001b[38;5;28mfloat\u001b[39m, \u001b[33m\"\u001b[39m\u001b[33msame_kind\u001b[39m\u001b[33m\"\u001b[39m):\n\u001b[32m    648\u001b[39m         \u001b[38;5;28;01mraise\u001b[39;00m \u001b[38;5;167;01mTypeError\u001b[39;00m(\u001b[33mf\u001b[39m\u001b[33m\"\u001b[39m\u001b[33mImage data of dtype \u001b[39m\u001b[38;5;132;01m{\u001b[39;00mA.dtype\u001b[38;5;132;01m}\u001b[39;00m\u001b[33m cannot be \u001b[39m\u001b[33m\"\u001b[39m\n\u001b[32m    649\u001b[39m                         \u001b[33mf\u001b[39m\u001b[33m\"\u001b[39m\u001b[33mconverted to float\u001b[39m\u001b[33m\"\u001b[39m)\n",
      "\u001b[36mFile \u001b[39m\u001b[32mC:\\Users\\Emlilio\\miniforge3\\envs\\REU\\Lib\\site-packages\\matplotlib\\cbook.py:691\u001b[39m, in \u001b[36msafe_masked_invalid\u001b[39m\u001b[34m(x, copy)\u001b[39m\n\u001b[32m    689\u001b[39m     x = x.byteswap(inplace=copy).view(x.dtype.newbyteorder(\u001b[33m'\u001b[39m\u001b[33mN\u001b[39m\u001b[33m'\u001b[39m))\n\u001b[32m    690\u001b[39m \u001b[38;5;28;01mtry\u001b[39;00m:\n\u001b[32m--> \u001b[39m\u001b[32m691\u001b[39m     xm = \u001b[43mnp\u001b[49m\u001b[43m.\u001b[49m\u001b[43mma\u001b[49m\u001b[43m.\u001b[49m\u001b[43mmasked_where\u001b[49m\u001b[43m(\u001b[49m\u001b[43m~\u001b[49m\u001b[43m(\u001b[49m\u001b[43mnp\u001b[49m\u001b[43m.\u001b[49m\u001b[43misfinite\u001b[49m\u001b[43m(\u001b[49m\u001b[43mx\u001b[49m\u001b[43m)\u001b[49m\u001b[43m)\u001b[49m\u001b[43m,\u001b[49m\u001b[43m \u001b[49m\u001b[43mx\u001b[49m\u001b[43m,\u001b[49m\u001b[43m \u001b[49m\u001b[43mcopy\u001b[49m\u001b[43m=\u001b[49m\u001b[38;5;28;43;01mFalse\u001b[39;49;00m\u001b[43m)\u001b[49m\n\u001b[32m    692\u001b[39m \u001b[38;5;28;01mexcept\u001b[39;00m \u001b[38;5;167;01mTypeError\u001b[39;00m:\n\u001b[32m    693\u001b[39m     \u001b[38;5;28;01mreturn\u001b[39;00m x\n",
      "\u001b[36mFile \u001b[39m\u001b[32mC:\\Users\\Emlilio\\miniforge3\\envs\\REU\\Lib\\site-packages\\numpy\\ma\\core.py:1983\u001b[39m, in \u001b[36mmasked_where\u001b[39m\u001b[34m(condition, a, copy)\u001b[39m\n\u001b[32m   1883\u001b[39m \u001b[38;5;250m\u001b[39m\u001b[33;03m\"\"\"\u001b[39;00m\n\u001b[32m   1884\u001b[39m \u001b[33;03mMask an array where a condition is met.\u001b[39;00m\n\u001b[32m   1885\u001b[39m \n\u001b[32m   (...)\u001b[39m\u001b[32m   1980\u001b[39m \n\u001b[32m   1981\u001b[39m \u001b[33;03m\"\"\"\u001b[39;00m\n\u001b[32m   1982\u001b[39m \u001b[38;5;66;03m# Make sure that condition is a valid standard-type mask.\u001b[39;00m\n\u001b[32m-> \u001b[39m\u001b[32m1983\u001b[39m cond = \u001b[43mmake_mask\u001b[49m\u001b[43m(\u001b[49m\u001b[43mcondition\u001b[49m\u001b[43m,\u001b[49m\u001b[43m \u001b[49m\u001b[43mshrink\u001b[49m\u001b[43m=\u001b[49m\u001b[38;5;28;43;01mFalse\u001b[39;49;00m\u001b[43m)\u001b[49m\n\u001b[32m   1984\u001b[39m a = np.array(a, copy=copy, subok=\u001b[38;5;28;01mTrue\u001b[39;00m)\n\u001b[32m   1986\u001b[39m (cshape, ashape) = (cond.shape, a.shape)\n",
      "\u001b[36mFile \u001b[39m\u001b[32mC:\\Users\\Emlilio\\miniforge3\\envs\\REU\\Lib\\site-packages\\numpy\\ma\\core.py:1688\u001b[39m, in \u001b[36mmake_mask\u001b[39m\u001b[34m(m, copy, shrink, dtype)\u001b[39m\n\u001b[32m   1686\u001b[39m \u001b[38;5;66;03m# Fill the mask in case there are missing data; turn it into an ndarray.\u001b[39;00m\n\u001b[32m   1687\u001b[39m copy = \u001b[38;5;28;01mNone\u001b[39;00m \u001b[38;5;28;01mif\u001b[39;00m \u001b[38;5;129;01mnot\u001b[39;00m copy \u001b[38;5;28;01melse\u001b[39;00m \u001b[38;5;28;01mTrue\u001b[39;00m\n\u001b[32m-> \u001b[39m\u001b[32m1688\u001b[39m result = np.array(\u001b[43mfilled\u001b[49m\u001b[43m(\u001b[49m\u001b[43mm\u001b[49m\u001b[43m,\u001b[49m\u001b[43m \u001b[49m\u001b[38;5;28;43;01mTrue\u001b[39;49;00m\u001b[43m)\u001b[49m, copy=copy, dtype=dtype, subok=\u001b[38;5;28;01mTrue\u001b[39;00m)\n\u001b[32m   1689\u001b[39m \u001b[38;5;66;03m# Bas les masques !\u001b[39;00m\n\u001b[32m   1690\u001b[39m \u001b[38;5;28;01mif\u001b[39;00m shrink:\n",
      "\u001b[36mFile \u001b[39m\u001b[32mC:\\Users\\Emlilio\\miniforge3\\envs\\REU\\Lib\\site-packages\\numpy\\ma\\core.py:675\u001b[39m, in \u001b[36mfilled\u001b[39m\u001b[34m(a, fill_value)\u001b[39m\n\u001b[32m    625\u001b[39m \u001b[38;5;250m\u001b[39m\u001b[33;03m\"\"\"\u001b[39;00m\n\u001b[32m    626\u001b[39m \u001b[33;03mReturn input as an `~numpy.ndarray`, with masked values replaced by\u001b[39;00m\n\u001b[32m    627\u001b[39m \u001b[33;03m`fill_value`.\u001b[39;00m\n\u001b[32m   (...)\u001b[39m\u001b[32m    672\u001b[39m \n\u001b[32m    673\u001b[39m \u001b[33;03m\"\"\"\u001b[39;00m\n\u001b[32m    674\u001b[39m \u001b[38;5;28;01mif\u001b[39;00m \u001b[38;5;28mhasattr\u001b[39m(a, \u001b[33m'\u001b[39m\u001b[33mfilled\u001b[39m\u001b[33m'\u001b[39m):\n\u001b[32m--> \u001b[39m\u001b[32m675\u001b[39m     \u001b[38;5;28;01mreturn\u001b[39;00m \u001b[43ma\u001b[49m\u001b[43m.\u001b[49m\u001b[43mfilled\u001b[49m\u001b[43m(\u001b[49m\u001b[43mfill_value\u001b[49m\u001b[43m)\u001b[49m\n\u001b[32m    677\u001b[39m \u001b[38;5;28;01melif\u001b[39;00m \u001b[38;5;28misinstance\u001b[39m(a, ndarray):\n\u001b[32m    678\u001b[39m     \u001b[38;5;66;03m# Should we check for contiguity ? and a.flags['CONTIGUOUS']:\u001b[39;00m\n\u001b[32m    679\u001b[39m     \u001b[38;5;28;01mreturn\u001b[39;00m a\n",
      "\u001b[36mFile \u001b[39m\u001b[32mC:\\Users\\Emlilio\\miniforge3\\envs\\REU\\Lib\\site-packages\\numpy\\ma\\core.py:3932\u001b[39m, in \u001b[36mMaskedArray.filled\u001b[39m\u001b[34m(self, fill_value)\u001b[39m\n\u001b[32m   3930\u001b[39m result = \u001b[38;5;28mself\u001b[39m._data.copy(\u001b[33m'\u001b[39m\u001b[33mK\u001b[39m\u001b[33m'\u001b[39m)\n\u001b[32m   3931\u001b[39m \u001b[38;5;28;01mtry\u001b[39;00m:\n\u001b[32m-> \u001b[39m\u001b[32m3932\u001b[39m     \u001b[43mnp\u001b[49m\u001b[43m.\u001b[49m\u001b[43mcopyto\u001b[49m\u001b[43m(\u001b[49m\u001b[43mresult\u001b[49m\u001b[43m,\u001b[49m\u001b[43m \u001b[49m\u001b[43mfill_value\u001b[49m\u001b[43m,\u001b[49m\u001b[43m \u001b[49m\u001b[43mwhere\u001b[49m\u001b[43m=\u001b[49m\u001b[43mm\u001b[49m\u001b[43m)\u001b[49m\n\u001b[32m   3933\u001b[39m \u001b[38;5;28;01mexcept\u001b[39;00m (\u001b[38;5;167;01mTypeError\u001b[39;00m, \u001b[38;5;167;01mAttributeError\u001b[39;00m):\n\u001b[32m   3934\u001b[39m     fill_value = narray(fill_value, dtype=\u001b[38;5;28mobject\u001b[39m)\n",
      "\u001b[36mFile \u001b[39m\u001b[32mC:\\Users\\Emlilio\\miniforge3\\envs\\REU\\Lib\\site-packages\\astropy\\units\\quantity.py:1901\u001b[39m, in \u001b[36mQuantity.__array_function__\u001b[39m\u001b[34m(self, function, types, args, kwargs)\u001b[39m\n\u001b[32m   1899\u001b[39m function_helper = FUNCTION_HELPERS[function]\n\u001b[32m   1900\u001b[39m \u001b[38;5;28;01mtry\u001b[39;00m:\n\u001b[32m-> \u001b[39m\u001b[32m1901\u001b[39m     args, kwargs, unit, out = \u001b[43mfunction_helper\u001b[49m\u001b[43m(\u001b[49m\u001b[43m*\u001b[49m\u001b[43margs\u001b[49m\u001b[43m,\u001b[49m\u001b[43m \u001b[49m\u001b[43m*\u001b[49m\u001b[43m*\u001b[49m\u001b[43mkwargs\u001b[49m\u001b[43m)\u001b[49m\n\u001b[32m   1902\u001b[39m \u001b[38;5;28;01mexcept\u001b[39;00m \u001b[38;5;167;01mNotImplementedError\u001b[39;00m:\n\u001b[32m   1903\u001b[39m     \u001b[38;5;28;01mreturn\u001b[39;00m \u001b[38;5;28mself\u001b[39m._not_implemented_or_raise(function, types)\n",
      "\u001b[36mFile \u001b[39m\u001b[32mC:\\Users\\Emlilio\\miniforge3\\envs\\REU\\Lib\\site-packages\\astropy\\units\\quantity_helper\\function_helpers.py:377\u001b[39m, in \u001b[36mcopyto\u001b[39m\u001b[34m(dst, src, *args, **kwargs)\u001b[39m\n\u001b[32m    374\u001b[39m \u001b[38;5;28;01mfrom\u001b[39;00m\u001b[38;5;250m \u001b[39m\u001b[34;01mastropy\u001b[39;00m\u001b[34;01m.\u001b[39;00m\u001b[34;01munits\u001b[39;00m\u001b[38;5;250m \u001b[39m\u001b[38;5;28;01mimport\u001b[39;00m Quantity\n\u001b[32m    376\u001b[39m \u001b[38;5;28;01mif\u001b[39;00m \u001b[38;5;28misinstance\u001b[39m(dst, Quantity):\n\u001b[32m--> \u001b[39m\u001b[32m377\u001b[39m     \u001b[38;5;28;01mreturn\u001b[39;00m (dst.view(np.ndarray), \u001b[43mdst\u001b[49m\u001b[43m.\u001b[49m\u001b[43m_to_own_unit\u001b[49m\u001b[43m(\u001b[49m\u001b[43msrc\u001b[49m\u001b[43m)\u001b[49m) + args, kwargs, \u001b[38;5;28;01mNone\u001b[39;00m, \u001b[38;5;28;01mNone\u001b[39;00m\n\u001b[32m    378\u001b[39m \u001b[38;5;28;01melif\u001b[39;00m \u001b[38;5;28misinstance\u001b[39m(src, Quantity):\n\u001b[32m    379\u001b[39m     \u001b[38;5;28;01mreturn\u001b[39;00m (dst, src.to_value(dimensionless_unscaled)) + args, kwargs, \u001b[38;5;28;01mNone\u001b[39;00m, \u001b[38;5;28;01mNone\u001b[39;00m\n",
      "\u001b[36mFile \u001b[39m\u001b[32mC:\\Users\\Emlilio\\miniforge3\\envs\\REU\\Lib\\site-packages\\astropy\\units\\quantity.py:1718\u001b[39m, in \u001b[36mQuantity._to_own_unit\u001b[39m\u001b[34m(self, value, check_precision, unit)\u001b[39m\n\u001b[32m   1716\u001b[39m \u001b[38;5;28;01mtry\u001b[39;00m:\n\u001b[32m   1717\u001b[39m     as_quantity = Quantity(value)\n\u001b[32m-> \u001b[39m\u001b[32m1718\u001b[39m     _value = \u001b[43mas_quantity\u001b[49m\u001b[43m.\u001b[49m\u001b[43mto_value\u001b[49m\u001b[43m(\u001b[49m\u001b[43munit\u001b[49m\u001b[43m)\u001b[49m\n\u001b[32m   1719\u001b[39m \u001b[38;5;28;01mexcept\u001b[39;00m UnitsError:\n\u001b[32m   1720\u001b[39m     \u001b[38;5;66;03m# last chance: if this was not something with a unit\u001b[39;00m\n\u001b[32m   1721\u001b[39m     \u001b[38;5;66;03m# and is all 0, inf, or nan, we treat it as arbitrary unit.\u001b[39;00m\n\u001b[32m   1722\u001b[39m     \u001b[38;5;28;01mif\u001b[39;00m \u001b[38;5;129;01mnot\u001b[39;00m \u001b[38;5;28mhasattr\u001b[39m(value, \u001b[33m\"\u001b[39m\u001b[33munit\u001b[39m\u001b[33m\"\u001b[39m) \u001b[38;5;129;01mand\u001b[39;00m can_have_arbitrary_unit(\n\u001b[32m   1723\u001b[39m         as_quantity.value\n\u001b[32m   1724\u001b[39m     ):\n",
      "\u001b[36mFile \u001b[39m\u001b[32mC:\\Users\\Emlilio\\miniforge3\\envs\\REU\\Lib\\site-packages\\astropy\\units\\quantity.py:978\u001b[39m, in \u001b[36mQuantity.to_value\u001b[39m\u001b[34m(self, unit, equivalencies)\u001b[39m\n\u001b[32m    975\u001b[39m     scale = \u001b[38;5;28mself\u001b[39m.unit._to(unit)\n\u001b[32m    976\u001b[39m \u001b[38;5;28;01mexcept\u001b[39;00m \u001b[38;5;167;01mException\u001b[39;00m:\n\u001b[32m    977\u001b[39m     \u001b[38;5;66;03m# Short-cut failed; try default (maybe equivalencies help).\u001b[39;00m\n\u001b[32m--> \u001b[39m\u001b[32m978\u001b[39m     value = \u001b[38;5;28;43mself\u001b[39;49m\u001b[43m.\u001b[49m\u001b[43m_to_value\u001b[49m\u001b[43m(\u001b[49m\u001b[43munit\u001b[49m\u001b[43m,\u001b[49m\u001b[43m \u001b[49m\u001b[43mequivalencies\u001b[49m\u001b[43m)\u001b[49m\n\u001b[32m    979\u001b[39m \u001b[38;5;28;01melse\u001b[39;00m:\n\u001b[32m    980\u001b[39m     value = \u001b[38;5;28mself\u001b[39m.view(np.ndarray)\n",
      "\u001b[36mFile \u001b[39m\u001b[32mC:\\Users\\Emlilio\\miniforge3\\envs\\REU\\Lib\\site-packages\\astropy\\units\\quantity.py:884\u001b[39m, in \u001b[36mQuantity._to_value\u001b[39m\u001b[34m(self, unit, equivalencies)\u001b[39m\n\u001b[32m    881\u001b[39m     equivalencies = \u001b[38;5;28mself\u001b[39m._equivalencies\n\u001b[32m    882\u001b[39m \u001b[38;5;28;01mif\u001b[39;00m \u001b[38;5;129;01mnot\u001b[39;00m \u001b[38;5;28mself\u001b[39m.dtype.names \u001b[38;5;129;01mor\u001b[39;00m \u001b[38;5;28misinstance\u001b[39m(\u001b[38;5;28mself\u001b[39m.unit, StructuredUnit):\n\u001b[32m    883\u001b[39m     \u001b[38;5;66;03m# Standard path, let unit to do work.\u001b[39;00m\n\u001b[32m--> \u001b[39m\u001b[32m884\u001b[39m     \u001b[38;5;28;01mreturn\u001b[39;00m \u001b[38;5;28;43mself\u001b[39;49m\u001b[43m.\u001b[49m\u001b[43munit\u001b[49m\u001b[43m.\u001b[49m\u001b[43mto\u001b[49m\u001b[43m(\u001b[49m\n\u001b[32m    885\u001b[39m \u001b[43m        \u001b[49m\u001b[43munit\u001b[49m\u001b[43m,\u001b[49m\u001b[43m \u001b[49m\u001b[38;5;28;43mself\u001b[39;49m\u001b[43m.\u001b[49m\u001b[43mview\u001b[49m\u001b[43m(\u001b[49m\u001b[43mnp\u001b[49m\u001b[43m.\u001b[49m\u001b[43mndarray\u001b[49m\u001b[43m)\u001b[49m\u001b[43m,\u001b[49m\u001b[43m \u001b[49m\u001b[43mequivalencies\u001b[49m\u001b[43m=\u001b[49m\u001b[43mequivalencies\u001b[49m\n\u001b[32m    886\u001b[39m \u001b[43m    \u001b[49m\u001b[43m)\u001b[49m\n\u001b[32m    888\u001b[39m \u001b[38;5;28;01melse\u001b[39;00m:\n\u001b[32m    889\u001b[39m     \u001b[38;5;66;03m# The .to() method of a simple unit cannot convert a structured\u001b[39;00m\n\u001b[32m    890\u001b[39m     \u001b[38;5;66;03m# dtype, so we work around it, by recursing.\u001b[39;00m\n\u001b[32m    891\u001b[39m     \u001b[38;5;66;03m# TODO: deprecate this?\u001b[39;00m\n\u001b[32m    892\u001b[39m     \u001b[38;5;66;03m# Convert simple to Structured on initialization?\u001b[39;00m\n\u001b[32m    893\u001b[39m     result = np.empty_like(\u001b[38;5;28mself\u001b[39m.view(np.ndarray))\n",
      "\u001b[36mFile \u001b[39m\u001b[32mC:\\Users\\Emlilio\\miniforge3\\envs\\REU\\Lib\\site-packages\\astropy\\units\\core.py:1208\u001b[39m, in \u001b[36mUnitBase.to\u001b[39m\u001b[34m(self, other, value, equivalencies)\u001b[39m\n\u001b[32m   1206\u001b[39m     \u001b[38;5;28;01mreturn\u001b[39;00m UNITY\n\u001b[32m   1207\u001b[39m \u001b[38;5;28;01melse\u001b[39;00m:\n\u001b[32m-> \u001b[39m\u001b[32m1208\u001b[39m     \u001b[38;5;28;01mreturn\u001b[39;00m \u001b[38;5;28;43mself\u001b[39;49m\u001b[43m.\u001b[49m\u001b[43mget_converter\u001b[49m\u001b[43m(\u001b[49m\u001b[43mUnit\u001b[49m\u001b[43m(\u001b[49m\u001b[43mother\u001b[49m\u001b[43m)\u001b[49m\u001b[43m,\u001b[49m\u001b[43m \u001b[49m\u001b[43mequivalencies\u001b[49m\u001b[43m)\u001b[49m(value)\n",
      "\u001b[36mFile \u001b[39m\u001b[32mC:\\Users\\Emlilio\\miniforge3\\envs\\REU\\Lib\\site-packages\\astropy\\units\\core.py:1137\u001b[39m, in \u001b[36mUnitBase.get_converter\u001b[39m\u001b[34m(self, other, equivalencies)\u001b[39m\n\u001b[32m   1134\u001b[39m             \u001b[38;5;28;01melse\u001b[39;00m:\n\u001b[32m   1135\u001b[39m                 \u001b[38;5;28;01mreturn\u001b[39;00m \u001b[38;5;28;01mlambda\u001b[39;00m v: b(converter(v))\n\u001b[32m-> \u001b[39m\u001b[32m1137\u001b[39m \u001b[38;5;28;01mraise\u001b[39;00m exc\n",
      "\u001b[36mFile \u001b[39m\u001b[32mC:\\Users\\Emlilio\\miniforge3\\envs\\REU\\Lib\\site-packages\\astropy\\units\\core.py:1120\u001b[39m, in \u001b[36mUnitBase.get_converter\u001b[39m\u001b[34m(self, other, equivalencies)\u001b[39m\n\u001b[32m   1118\u001b[39m \u001b[38;5;66;03m# if that doesn't work, maybe we can do it with equivalencies?\u001b[39;00m\n\u001b[32m   1119\u001b[39m \u001b[38;5;28;01mtry\u001b[39;00m:\n\u001b[32m-> \u001b[39m\u001b[32m1120\u001b[39m     \u001b[38;5;28;01mreturn\u001b[39;00m \u001b[38;5;28;43mself\u001b[39;49m\u001b[43m.\u001b[49m\u001b[43m_apply_equivalencies\u001b[49m\u001b[43m(\u001b[49m\n\u001b[32m   1121\u001b[39m \u001b[43m        \u001b[49m\u001b[38;5;28;43mself\u001b[39;49m\u001b[43m,\u001b[49m\u001b[43m \u001b[49m\u001b[43mother\u001b[49m\u001b[43m,\u001b[49m\u001b[43m \u001b[49m\u001b[38;5;28;43mself\u001b[39;49m\u001b[43m.\u001b[49m\u001b[43m_normalize_equivalencies\u001b[49m\u001b[43m(\u001b[49m\u001b[43mequivalencies\u001b[49m\u001b[43m)\u001b[49m\n\u001b[32m   1122\u001b[39m \u001b[43m    \u001b[49m\u001b[43m)\u001b[49m\n\u001b[32m   1123\u001b[39m \u001b[38;5;28;01mexcept\u001b[39;00m UnitsError \u001b[38;5;28;01mas\u001b[39;00m exc:\n\u001b[32m   1124\u001b[39m     \u001b[38;5;66;03m# Last hope: maybe other knows how to do it?\u001b[39;00m\n\u001b[32m   1125\u001b[39m     \u001b[38;5;66;03m# We assume the equivalencies have the unit itself as first item.\u001b[39;00m\n\u001b[32m   1126\u001b[39m     \u001b[38;5;66;03m# TODO: maybe better for other to have a `_back_converter` method?\u001b[39;00m\n\u001b[32m   1127\u001b[39m     \u001b[38;5;28;01mif\u001b[39;00m \u001b[38;5;28mhasattr\u001b[39m(other, \u001b[33m\"\u001b[39m\u001b[33mequivalencies\u001b[39m\u001b[33m\"\u001b[39m):\n",
      "\u001b[36mFile \u001b[39m\u001b[32mC:\\Users\\Emlilio\\miniforge3\\envs\\REU\\Lib\\site-packages\\astropy\\units\\core.py:1071\u001b[39m, in \u001b[36mUnitBase._apply_equivalencies\u001b[39m\u001b[34m(self, unit, other, equivalencies)\u001b[39m\n\u001b[32m   1068\u001b[39m unit_str = get_err_str(unit)\n\u001b[32m   1069\u001b[39m other_str = get_err_str(other)\n\u001b[32m-> \u001b[39m\u001b[32m1071\u001b[39m \u001b[38;5;28;01mraise\u001b[39;00m UnitConversionError(\u001b[33mf\u001b[39m\u001b[33m\"\u001b[39m\u001b[38;5;132;01m{\u001b[39;00munit_str\u001b[38;5;132;01m}\u001b[39;00m\u001b[33m and \u001b[39m\u001b[38;5;132;01m{\u001b[39;00mother_str\u001b[38;5;132;01m}\u001b[39;00m\u001b[33m are not convertible\u001b[39m\u001b[33m\"\u001b[39m)\n",
      "\u001b[31mUnitConversionError\u001b[39m: '' (dimensionless) and 'km / s' (speed/velocity) are not convertible"
     ]
    },
    {
     "data": {
      "image/png": "[encoded data removed]",
      "text/plain": [
       "<Figure size 640x480 with 1 Axes>"
      ]
     },
     "metadata": {},
     "output_type": "display_data"
    }
   ],
   "source": [
    "val_max = mvel_map.max()\n",
    "val_min = mvel_map.min()\n",
    "print('max = '+ str(val_max) + 'min = ' + str(val_min))\n",
    "\n",
    "if (val_max >= abs(val_min)):\n",
    "    lim = val_max\n",
    "else:\n",
    "    lim = abs(val_min)\n",
    "\n",
    "plt.imshow(mvel_map,cmap = 'bwr',vmin = -lim, vmax = lim)     #creates a color map of data, (data set, cmap = 'desired color code')\n",
    "plt.colorbar(label = 'Velocity [km/s]')  #following are just labels\n",
    "plt.gca().invert_yaxis()\n",
    "plt.xlabel('spaxel')\n",
    "plt.ylabel('spaxel')\n",
    "plt.plot(30,50, marker = 'x', color = 'k')\n",
    "\n",
    "plt.grid(True)\n",
    "plt.title(test_galaxy+r' Masked H-alpha Velocity')"
   ]
  },
  {
   "cell_type": "code",
   "execution_count": null,
   "id": "ff3fbe35-a2b9-4c85-b2be-a5d7022c6097",
   "metadata": {
    "scrolled": true
   },
   "outputs": [],
   "source": [
    "calc_chi2?"
   ]
  },
  {
   "cell_type": "code",
   "execution_count": 22,
   "id": "88b5ab91-e0aa-44ab-8aa4-261eb8432541",
   "metadata": {},
   "outputs": [
    {
     "ename": "UnitConversionError",
     "evalue": "Can only apply 'subtract' function to dimensionless quantities when other argument is not a quantity (unless the latter is all zero/infinity/nan).",
     "output_type": "error",
     "traceback": [
      "\u001b[31m---------------------------------------------------------------------------\u001b[39m",
      "\u001b[31mUnitConversionError\u001b[39m                       Traceback (most recent call last)",
      "\u001b[36mCell\u001b[39m\u001b[36m \u001b[39m\u001b[32mIn[22]\u001b[39m\u001b[32m, line 2\u001b[39m\n\u001b[32m      1\u001b[39m params = [vmax, alpha, rturn_kpc, checkedPA, i_angle, clean_coords[\u001b[32m0\u001b[39m], clean_coords[\u001b[32m1\u001b[39m]]\n\u001b[32m----> \u001b[39m\u001b[32m2\u001b[39m \u001b[43mcalc_chi2\u001b[49m\u001b[43m(\u001b[49m\u001b[43mparams\u001b[49m\u001b[43m,\u001b[49m\u001b[43m \u001b[49m\u001b[43mmhalpha_vel\u001b[49m\u001b[43m \u001b[49m\u001b[43m,\u001b[49m\u001b[43m \u001b[49m\u001b[43mmhalpha_ivar\u001b[49m\u001b[43m,\u001b[49m\u001b[43m \u001b[49m\u001b[43mmap_shape\u001b[49m\u001b[43m,\u001b[49m\u001b[43m \u001b[49m\u001b[43mr_convert\u001b[49m\u001b[43m,\u001b[49m\u001b[43m \u001b[49m\u001b[43mmask_f\u001b[49m\u001b[43m \u001b[49m\u001b[43m)\u001b[49m\n",
      "\u001b[36mFile \u001b[39m\u001b[32mC:\\Users/boibr/OneDrive/Documents/GitHub/MaNGA-VelMap\\get_mvel_map.py:58\u001b[39m, in \u001b[36mcalc_chi2\u001b[39m\u001b[34m(params, vel_map, vel_ivar, map_shape, r_convert, mask_f)\u001b[39m\n\u001b[32m     40\u001b[39m \u001b[38;5;250m\u001b[39m\u001b[33;03m'''\u001b[39;00m\n\u001b[32m     41\u001b[39m \u001b[33;03mvmax\u001b[39;00m\n\u001b[32m     42\u001b[39m \n\u001b[32m   (...)\u001b[39m\u001b[32m     54\u001b[39m \n\u001b[32m     55\u001b[39m \u001b[33;03m'''\u001b[39;00m\n\u001b[32m     56\u001b[39m model = get_mvel_map(map_shape, params[\u001b[32m0\u001b[39m],params[\u001b[32m1\u001b[39m],params[\u001b[32m2\u001b[39m],params[\u001b[32m3\u001b[39m], params[\u001b[32m4\u001b[39m], params[\u001b[32m5\u001b[39m],params[\u001b[32m6\u001b[39m], mask_f, r_convert )      \n\u001b[32m---> \u001b[39m\u001b[32m58\u001b[39m chi2 = np.sum(((\u001b[43mmodel\u001b[49m\u001b[43m-\u001b[49m\u001b[43mvel_map\u001b[49m)**\u001b[32m2\u001b[39m)*vel_ivar)\n\u001b[32m     60\u001b[39m \u001b[38;5;28;01mreturn\u001b[39;00m chi2\n",
      "\u001b[36mFile \u001b[39m\u001b[32mC:\\Users\\Emlilio\\miniforge3\\envs\\REU\\Lib\\site-packages\\numpy\\ma\\core.py:4341\u001b[39m, in \u001b[36mMaskedArray.__sub__\u001b[39m\u001b[34m(self, other)\u001b[39m\n\u001b[32m   4339\u001b[39m \u001b[38;5;28;01mif\u001b[39;00m \u001b[38;5;28mself\u001b[39m._delegate_binop(other):\n\u001b[32m   4340\u001b[39m     \u001b[38;5;28;01mreturn\u001b[39;00m \u001b[38;5;28mNotImplemented\u001b[39m\n\u001b[32m-> \u001b[39m\u001b[32m4341\u001b[39m \u001b[38;5;28;01mreturn\u001b[39;00m \u001b[43msubtract\u001b[49m\u001b[43m(\u001b[49m\u001b[38;5;28;43mself\u001b[39;49m\u001b[43m,\u001b[49m\u001b[43m \u001b[49m\u001b[43mother\u001b[49m\u001b[43m)\u001b[49m\n",
      "\u001b[36mFile \u001b[39m\u001b[32mC:\\Users\\Emlilio\\miniforge3\\envs\\REU\\Lib\\site-packages\\numpy\\ma\\core.py:1065\u001b[39m, in \u001b[36m_MaskedBinaryOperation.__call__\u001b[39m\u001b[34m(self, a, b, *args, **kwargs)\u001b[39m\n\u001b[32m   1063\u001b[39m \u001b[38;5;28;01mwith\u001b[39;00m np.errstate():\n\u001b[32m   1064\u001b[39m     np.seterr(divide=\u001b[33m'\u001b[39m\u001b[33mignore\u001b[39m\u001b[33m'\u001b[39m, invalid=\u001b[33m'\u001b[39m\u001b[33mignore\u001b[39m\u001b[33m'\u001b[39m)\n\u001b[32m-> \u001b[39m\u001b[32m1065\u001b[39m     result = \u001b[38;5;28;43mself\u001b[39;49m\u001b[43m.\u001b[49m\u001b[43mf\u001b[49m\u001b[43m(\u001b[49m\u001b[43mda\u001b[49m\u001b[43m,\u001b[49m\u001b[43m \u001b[49m\u001b[43mdb\u001b[49m\u001b[43m,\u001b[49m\u001b[43m \u001b[49m\u001b[43m*\u001b[49m\u001b[43margs\u001b[49m\u001b[43m,\u001b[49m\u001b[43m \u001b[49m\u001b[43m*\u001b[49m\u001b[43m*\u001b[49m\u001b[43mkwargs\u001b[49m\u001b[43m)\u001b[49m\n\u001b[32m   1066\u001b[39m \u001b[38;5;66;03m# Get the mask for the result\u001b[39;00m\n\u001b[32m   1067\u001b[39m (ma, mb) = (getmask(a), getmask(b))\n",
      "\u001b[36mFile \u001b[39m\u001b[32mC:\\Users\\Emlilio\\miniforge3\\envs\\REU\\Lib\\site-packages\\astropy\\units\\quantity.py:684\u001b[39m, in \u001b[36mQuantity.__array_ufunc__\u001b[39m\u001b[34m(self, function, method, *inputs, **kwargs)\u001b[39m\n\u001b[32m    682\u001b[39m     \u001b[38;5;28;01mreturn\u001b[39;00m \u001b[38;5;28mNotImplemented\u001b[39m\n\u001b[32m    683\u001b[39m \u001b[38;5;28;01melse\u001b[39;00m:\n\u001b[32m--> \u001b[39m\u001b[32m684\u001b[39m     \u001b[38;5;28;01mraise\u001b[39;00m e\n",
      "\u001b[36mFile \u001b[39m\u001b[32mC:\\Users\\Emlilio\\miniforge3\\envs\\REU\\Lib\\site-packages\\astropy\\units\\quantity.py:629\u001b[39m, in \u001b[36mQuantity.__array_ufunc__\u001b[39m\u001b[34m(self, function, method, *inputs, **kwargs)\u001b[39m\n\u001b[32m    624\u001b[39m \u001b[38;5;66;03m# Determine required conversion functions -- to bring the unit of the\u001b[39;00m\n\u001b[32m    625\u001b[39m \u001b[38;5;66;03m# input to that expected (e.g., radian for np.sin), or to get\u001b[39;00m\n\u001b[32m    626\u001b[39m \u001b[38;5;66;03m# consistent units between two inputs (e.g., in np.add) --\u001b[39;00m\n\u001b[32m    627\u001b[39m \u001b[38;5;66;03m# and the unit of the result (or tuple of units for nout > 1).\u001b[39;00m\n\u001b[32m    628\u001b[39m \u001b[38;5;28;01mtry\u001b[39;00m:\n\u001b[32m--> \u001b[39m\u001b[32m629\u001b[39m     converters, unit = \u001b[43mconverters_and_unit\u001b[49m\u001b[43m(\u001b[49m\u001b[43mfunction\u001b[49m\u001b[43m,\u001b[49m\u001b[43m \u001b[49m\u001b[43mmethod\u001b[49m\u001b[43m,\u001b[49m\u001b[43m \u001b[49m\u001b[43m*\u001b[49m\u001b[43minputs\u001b[49m\u001b[43m)\u001b[49m\n\u001b[32m    631\u001b[39m     out = kwargs.get(\u001b[33m\"\u001b[39m\u001b[33mout\u001b[39m\u001b[33m\"\u001b[39m)\n\u001b[32m    632\u001b[39m     \u001b[38;5;66;03m# Avoid loop back by turning any Quantity output into array views.\u001b[39;00m\n",
      "\u001b[36mFile \u001b[39m\u001b[32mC:\\Users\\Emlilio\\miniforge3\\envs\\REU\\Lib\\site-packages\\astropy\\units\\quantity_helper\\converters.py:195\u001b[39m, in \u001b[36mconverters_and_unit\u001b[39m\u001b[34m(function, method, *args)\u001b[39m\n\u001b[32m    193\u001b[39m             converters[i] = \u001b[38;5;28;01mNone\u001b[39;00m\n\u001b[32m    194\u001b[39m         \u001b[38;5;28;01melse\u001b[39;00m:\n\u001b[32m--> \u001b[39m\u001b[32m195\u001b[39m             \u001b[38;5;28;01mraise\u001b[39;00m UnitConversionError(\n\u001b[32m    196\u001b[39m                 \u001b[33mf\u001b[39m\u001b[33m\"\u001b[39m\u001b[33mCan only apply \u001b[39m\u001b[33m'\u001b[39m\u001b[38;5;132;01m{\u001b[39;00mfunction.\u001b[34m__name__\u001b[39m\u001b[38;5;132;01m}\u001b[39;00m\u001b[33m'\u001b[39m\u001b[33m function to \u001b[39m\u001b[33m\"\u001b[39m\n\u001b[32m    197\u001b[39m                 \u001b[33m\"\u001b[39m\u001b[33mdimensionless quantities when other argument is not \u001b[39m\u001b[33m\"\u001b[39m\n\u001b[32m    198\u001b[39m                 \u001b[33m\"\u001b[39m\u001b[33ma quantity (unless the latter is all zero/infinity/nan).\u001b[39m\u001b[33m\"\u001b[39m\n\u001b[32m    199\u001b[39m             )\n\u001b[32m    200\u001b[39m \u001b[38;5;28;01mexcept\u001b[39;00m \u001b[38;5;167;01mTypeError\u001b[39;00m:\n\u001b[32m    201\u001b[39m     \u001b[38;5;66;03m# _can_have_arbitrary_unit failed: arg could not be compared\u001b[39;00m\n\u001b[32m    202\u001b[39m     \u001b[38;5;66;03m# with zero or checked to be finite. Then, ufunc will fail too.\u001b[39;00m\n\u001b[32m    203\u001b[39m     \u001b[38;5;28;01mraise\u001b[39;00m \u001b[38;5;167;01mTypeError\u001b[39;00m(\n\u001b[32m    204\u001b[39m         \u001b[33m\"\u001b[39m\u001b[33mUnsupported operand type(s) for ufunc \u001b[39m\u001b[38;5;132;01m{}\u001b[39;00m\u001b[33m: \u001b[39m\u001b[33m'\u001b[39m\u001b[38;5;132;01m{}\u001b[39;00m\u001b[33m'\u001b[39m\u001b[33m\"\u001b[39m.format(\n\u001b[32m    205\u001b[39m             function.\u001b[34m__name__\u001b[39m,\n\u001b[32m    206\u001b[39m             \u001b[33m\"\u001b[39m\u001b[33m,\u001b[39m\u001b[33m\"\u001b[39m.join([arg.\u001b[34m__class__\u001b[39m.\u001b[34m__name__\u001b[39m \u001b[38;5;28;01mfor\u001b[39;00m arg \u001b[38;5;129;01min\u001b[39;00m args]),\n\u001b[32m    207\u001b[39m         )\n\u001b[32m    208\u001b[39m     )\n",
      "\u001b[31mUnitConversionError\u001b[39m: Can only apply 'subtract' function to dimensionless quantities when other argument is not a quantity (unless the latter is all zero/infinity/nan)."
     ]
    }
   ],
   "source": [
    "params = [vmax, alpha, rturn_kpc, checkedPA, i_angle, clean_coords[0], clean_coords[1]]\n",
    "calc_chi2(params, mhalpha_vel , mhalpha_ivar, map_shape, r_convert, mask_f )\n"
   ]
  },
  {
   "cell_type": "code",
   "execution_count": null,
   "id": "671e59a5-c170-4195-9161-8f8cc92f80e0",
   "metadata": {},
   "outputs": [],
   "source": [
    "clean_coords"
   ]
  },
  {
   "cell_type": "code",
   "execution_count": 19,
   "id": "0b2f2748-ad1a-4036-a9c1-cf9c9f2f3472",
   "metadata": {},
   "outputs": [],
   "source": [
    "vmax_guess = 250\n",
    "alpha_guess = 1\n",
    "Rturn_guess = 0.5\n",
    "PA_guess = checkedPA\n",
    "i_angle_guess = i_angle\n",
    "center_guess = clean_coords\n",
    "\n",
    "x0 = [vmax_guess, alpha_guess, Rturn_guess, PA_guess, i_angle_guess, center_guess[0],center_guess[1]]\n",
    "\n",
    "args = (mhalpha_vel, mhalpha_ivar, map_shape, r_convert, mask_f)\n",
    "\n",
    "\n",
    "\n",
    "vmax_bound = (0, 1000)\n",
    "alpha_bound = (0.001,100)\n",
    "Rturn_bound = (0.001,100)\n",
    "PA_bound = (0,2*np.pi)\n",
    "\n",
    "i_anglelow = np.max([0,i_angle-np.radians(15)])\n",
    "i_anglehigh = np.min([np.radians(90), i_angle+np.radians(15)])\n",
    "i_angle_bound = (i_anglelow, i_anglehigh)\n",
    "\n",
    "centeri_bound = (center_guess[0]-5,center_guess[0]+5)\n",
    "centerj_bound = (center_guess[1]-5,center_guess[1]+5)\n",
    "\n",
    "bounds = np.array([vmax_bound,alpha_bound,Rturn_bound,PA_bound,i_angle_bound,centeri_bound,centerj_bound ])"
   ]
  },
  {
   "cell_type": "code",
   "execution_count": 20,
   "id": "51e8359a-fabc-47a5-a379-46d9b92ac47b",
   "metadata": {},
   "outputs": [
    {
     "name": "stdout",
     "output_type": "stream",
     "text": [
      "Optimization terminated successfully.\n",
      "         Current function value: 62022.217684\n",
      "         Iterations: 9\n",
      "         Function evaluations: 764\n"
     ]
    }
   ],
   "source": [
    "result = minimize(\n",
    "    calc_chi2,\n",
    "    x0,\n",
    "    args = args,\n",
    "    method = 'Powell',\n",
    "    bounds = bounds,\n",
    "    options = {'disp': True}\n",
    "    \n",
    ")"
   ]
  },
  {
   "cell_type": "code",
   "execution_count": 21,
   "id": "f757b98d-93be-40c5-87cb-a6a4c69138e6",
   "metadata": {},
   "outputs": [
    {
     "data": {
      "text/plain": [
       " message: Optimization terminated successfully.\n",
       " success: True\n",
       "  status: 0\n",
       "     fun: 62022.21768435803\n",
       "       x: [ 2.208e+02  9.066e-01  6.324e-01  5.553e+00  5.729e-01\n",
       "            2.998e+01  3.056e+01]\n",
       "     nit: 9\n",
       "   direc: [[-3.488e-01 -3.029e-02 ...  1.836e-01 -1.584e-01]\n",
       "           [ 0.000e+00  1.000e+00 ...  0.000e+00  0.000e+00]\n",
       "           ...\n",
       "           [ 0.000e+00  0.000e+00 ...  1.000e+00  0.000e+00]\n",
       "           [ 3.494e+00 -2.189e-02 ... -8.697e-02  1.156e-01]]\n",
       "    nfev: 764"
      ]
     },
     "execution_count": 21,
     "metadata": {},
     "output_type": "execute_result"
    }
   ],
   "source": [
    "result"
   ]
  },
  {
   "cell_type": "code",
   "execution_count": 23,
   "id": "591e7b69-104e-4ab5-bc15-b7afa021e698",
   "metadata": {},
   "outputs": [
    {
     "data": {
      "text/plain": [
       "array([220.82531565,   0.90661865,   0.63239866,   5.55251079,\n",
       "         0.5729096 ,  29.97778669,  30.56333515])"
      ]
     },
     "execution_count": 23,
     "metadata": {},
     "output_type": "execute_result"
    }
   ],
   "source": [
    "result.x"
   ]
  },
  {
   "cell_type": "markdown",
   "id": "aebd2374-0e15-4db3-b018-e426b10b6d93",
   "metadata": {},
   "source": [
    "#fix plotting, and reassign new variable values using result.x index straight in to get_mvel_map function ie. result.x[some num]"
   ]
  }
 ],
 "metadata": {
  "kernelspec": {
   "display_name": "Python 3 (ipykernel)",
   "language": "python",
   "name": "python3"
  },
  "language_info": {
   "codemirror_mode": {
    "name": "ipython",
    "version": 3
   },
   "file_extension": ".py",
   "mimetype": "text/x-python",
   "name": "python",
   "nbconvert_exporter": "python",
   "pygments_lexer": "ipython3",
   "version": "3.13.3"
  }
 },
 "nbformat": 4,
 "nbformat_minor": 5
}
