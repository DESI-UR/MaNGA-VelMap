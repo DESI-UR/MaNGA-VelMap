{
 "cells": [
  {
   "cell_type": "code",
   "execution_count": 2,
   "id": "2415d011-52d8-46d9-b105-e049e4f842c1",
   "metadata": {},
   "outputs": [
    {
     "ename": "ModuleNotFoundError",
     "evalue": "No module named 'calc_v'",
     "output_type": "error",
     "traceback": [
      "\u001b[31m---------------------------------------------------------------------------\u001b[39m",
      "\u001b[31mModuleNotFoundError\u001b[39m                       Traceback (most recent call last)",
      "\u001b[36mCell\u001b[39m\u001b[36m \u001b[39m\u001b[32mIn[2]\u001b[39m\u001b[32m, line 4\u001b[39m\n\u001b[32m      1\u001b[39m \u001b[38;5;28;01mimport\u001b[39;00m\u001b[38;5;250m \u001b[39m\u001b[34;01mnumpy\u001b[39;00m\u001b[38;5;250m \u001b[39m\u001b[38;5;28;01mas\u001b[39;00m\u001b[38;5;250m \u001b[39m\u001b[34;01mnp\u001b[39;00m\n\u001b[32m      2\u001b[39m \u001b[38;5;28;01mimport\u001b[39;00m\u001b[38;5;250m \u001b[39m\u001b[34;01mnumpy\u001b[39;00m\u001b[34;01m.\u001b[39;00m\u001b[34;01mma\u001b[39;00m\u001b[38;5;250m \u001b[39m\u001b[38;5;28;01mas\u001b[39;00m\u001b[38;5;250m \u001b[39m\u001b[34;01mma\u001b[39;00m\n\u001b[32m----> \u001b[39m\u001b[32m4\u001b[39m \u001b[38;5;28;01mfrom\u001b[39;00m\u001b[38;5;250m \u001b[39m\u001b[34;01mcalc_v\u001b[39;00m\u001b[38;5;250m \u001b[39m\u001b[38;5;28;01mimport\u001b[39;00m calc_v\n\u001b[32m      5\u001b[39m \u001b[38;5;28;01mfrom\u001b[39;00m\u001b[38;5;250m \u001b[39m\u001b[34;01mdeproject\u001b[39;00m\u001b[38;5;250m \u001b[39m\u001b[38;5;28;01mimport\u001b[39;00m deproject_spaxel\n\u001b[32m      8\u001b[39m \u001b[38;5;28;01mdef\u001b[39;00m\u001b[38;5;250m \u001b[39m\u001b[34mget_mvel_map\u001b[39m(map_shape, vmax, alpha, Rturn, PA, i_angle, mask_f, r_convert, clean_coords):\n",
      "\u001b[31mModuleNotFoundError\u001b[39m: No module named 'calc_v'"
     ]
    }
   ],
   "source": [
    "import numpy as np\n",
    "import numpy.ma as ma\n",
    "\n",
    "from calc_v import calc_v\n",
    "from deproject import deproject_spaxel\n",
    "\n",
    "\n",
    "def get_mvel_map(map_shape, vmax, alpha, Rturn, PA, i_angle, mask_f, r_convert, clean_coords):\n",
    "    \n",
    "    r = np.zeros(map_shape)\n",
    "    theta = np.zeros(map_shape)\n",
    "\n",
    "\n",
    "    for i in range(map_shape[0]):\n",
    "        for j in range(map_shape[1]):\n",
    "\n",
    "            # De-projected radius for the current point\n",
    "            r[i,j], theta[i,j] = deproject_spaxel((i,j), clean_coords, (PA.value+180)*(np.pi/180), i_angle)\n",
    "            \n",
    "    r_array = r*r_convert\n",
    "\n",
    "    \n",
    "    v = calc_v(vmax, r_array, alpha, Rturn)\n",
    "\n",
    "\n",
    "    vel_map = v*np.sin(i_angle)*np.cos(theta)\n",
    "    mvel_map = ma.array(vel_map.value, mask = mask_f)\n",
    "    \n",
    "    return mvel_map\n"
   ]
  },
  {
   "cell_type": "code",
   "execution_count": null,
   "id": "8fc680e9-9f07-4d11-9d00-78896b59d785",
   "metadata": {},
   "outputs": [],
   "source": []
  }
 ],
 "metadata": {
  "kernelspec": {
   "display_name": "Python 3 (ipykernel)",
   "language": "python",
   "name": "python3"
  },
  "language_info": {
   "codemirror_mode": {
    "name": "ipython",
    "version": 3
   },
   "file_extension": ".py",
   "mimetype": "text/x-python",
   "name": "python",
   "nbconvert_exporter": "python",
   "pygments_lexer": "ipython3",
   "version": "3.13.3"
  }
 },
 "nbformat": 4,
 "nbformat_minor": 5
}
