{
 "cells": [
  {
   "cell_type": "code",
   "execution_count": null,
   "id": "97bcbb5c-0669-4e8f-ba94-bac3c19a4ff4",
   "metadata": {},
   "outputs": [],
   "source": [
    "def deproject_spaxel(coords, center, phi, i_angle):\n",
    "    '''\n",
    "    Calculate the deprojected radius for the given coordinates in the map.\n",
    "\n",
    "\n",
    "    PARAMETERS\n",
    "    ==========\n",
    "\n",
    "    coords : length-2 tuple\n",
    "        (i,j) coordinates of the current spaxel\n",
    "\n",
    "    center : length-2 tuple\n",
    "        (i,j) coordinates of the galaxy's center\n",
    "\n",
    "    phi : float\n",
    "        Rotation angle (in radians) east of north of the semi-major axis.\n",
    "\n",
    "    i_angle : float\n",
    "        Inclination angle (in radians) of the galaxy.\n",
    "\n",
    "\n",
    "    RETURNS\n",
    "    =======\n",
    "\n",
    "    r : float\n",
    "        De-projected radius from the center of the galaxy for the given spaxel\n",
    "        coordinates.\n",
    "    '''\n",
    "\n",
    "\n",
    "    # Distance components between center and current location\n",
    "    delta = np.subtract(coords, center)\n",
    "\n",
    "    # x-direction distance relative to the semi-major axis\n",
    "    dx_prime = (delta[1]*np.cos(phi) + delta[0]*np.sin(phi))/np.cos(i_angle)\n",
    "\n",
    "    # y-direction distance relative to the semi-major axis\n",
    "    dy_prime = (-delta[1]*np.sin(phi) + delta[0]*np.cos(phi))\n",
    "\n",
    "    # De-projected radius for the current point\n",
    "    r = np.sqrt(dx_prime**2 + dy_prime**2)\n",
    "\n",
    "    # Angle (counterclockwise) between North and current position\n",
    "    theta = np.arctan2(-dx_prime, dy_prime)\n",
    "\n",
    "    return r, theta"
   ]
  }
 ],
 "metadata": {
  "kernelspec": {
   "display_name": "Python 3 (ipykernel)",
   "language": "python",
   "name": "python3"
  },
  "language_info": {
   "codemirror_mode": {
    "name": "ipython",
    "version": 3
   },
   "file_extension": ".py",
   "mimetype": "text/x-python",
   "name": "python",
   "nbconvert_exporter": "python",
   "pygments_lexer": "ipython3",
   "version": "3.13.3"
  }
 },
 "nbformat": 4,
 "nbformat_minor": 5
}
