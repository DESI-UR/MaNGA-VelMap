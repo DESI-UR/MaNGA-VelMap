{
 "cells": [
  {
   "cell_type": "markdown",
   "id": "11f325fe-9647-481a-b547-745bd56a4c94",
   "metadata": {},
   "source": [
    "# Check with Kelly:\n",
    "## Axes values look correct, used a negative sign to invert the major axis (i think), just need to make sure they're really ligned up correctly. "
   ]
  },
  {
   "cell_type": "code",
   "execution_count": 3,
   "id": "3ac09d69-42a4-4575-8957-83e8b9a17ab5",
   "metadata": {},
   "outputs": [],
   "source": [
    "import numpy as np\n",
    "import matplotlib.pyplot as plt\n",
    "from astropy.table import Table\n",
    "from PIL import Image\n",
    "\n",
    "\n",
    "\n",
    "import sys \n",
    "\n",
    "sys.path.insert(1, 'C:/Users/boibr/OneDrive/Documents/GitHub/MaNGA-VelMap/')\n",
    "from GenerateCutout import get_cutout"
   ]
  },
  {
   "cell_type": "code",
   "execution_count": 4,
   "id": "9bcc0980-8477-45a8-9cc9-dbe072d19b20",
   "metadata": {},
   "outputs": [],
   "source": [
    "data_folder = \"/Users/Emlilio/School/Internships/UR ASTRO/Data/\" #create a variable for directory to common folder"
   ]
  },
  {
   "cell_type": "code",
   "execution_count": 5,
   "id": "3a5eda57-a795-4bcb-9f83-e1e521d526f8",
   "metadata": {},
   "outputs": [],
   "source": [
    "drpall_fn = data_folder + \"drpall_ttype_R90.fits\"\n",
    "drpall = Table.read(drpall_fn, format=\"fits\",hdu=1)"
   ]
  },
  {
   "cell_type": "code",
   "execution_count": 27,
   "id": "d7f8a89c-4b99-4abe-8efa-93cae0aa54db",
   "metadata": {},
   "outputs": [],
   "source": [
    "    \n",
    "for i in range(len(drpall[:300])):\n",
    "    plateifu = drpall['plateifu'][i]\n",
    "    ra = drpall['objra'][i]\n",
    "    dec = drpall['objdec'][i]\n",
    "    r90 = drpall['R90'][i]\n",
    "    directory = data_folder + 'Plots/Cutouts/'\n",
    "\n",
    "    #axes code\n",
    "    center_coords = SkyCoord(ra*u.deg,dec*u.deg)\n",
    "    pos_angle = drpall['nsa_elpetro_phi'][i]          \n",
    "    axis_ratio = drpall['nsa_sersic_ba'][i]\n",
    "\n",
    "    #point 1\n",
    "    point1 = center_coords.directional_offset_by(-(pos_angle)*u.deg,r90*u.arcsec)  \n",
    "    alpha1 = point1.ra.deg\n",
    "    delta1 = point1.dec.deg\n",
    "    \n",
    "    #point 2\n",
    "    point2 = center_coords.directional_offset_by(-(pos_angle+180)*u.deg,r90*u.arcsec)\n",
    "    alpha2 = point2.ra.deg\n",
    "    delta2 = point2.dec.deg\n",
    "    #point 3\n",
    "    point3 = center_coords.directional_offset_by((pos_angle+90)*u.deg,(r90*axis_ratio)*u.arcsec)\n",
    "    alpha3 = point3.ra.deg\n",
    "    delta3 = point3.dec.deg\n",
    "    \n",
    "    #point 4\n",
    "    point4 = center_coords.directional_offset_by((pos_angle+270)*u.deg,(r90*axis_ratio)*u.arcsec)\n",
    "    alpha4 = point4.ra.deg\n",
    "    delta4 = point4.dec.deg\n",
    "    \n",
    "    try:\n",
    "        if (r90 == -999.0):\n",
    "            get_cutout(plateifu, ra, dec, r90, data_folder + 'Plots/Bad_Cutouts/' )\n",
    "            \n",
    "        else:\n",
    "            #reading image\n",
    "            gal_image,wcs = get_cutout(plateifu, ra, dec, r90, directory)\n",
    "            img = np.asarray(Image.open(data_folder + 'Plots/Cutouts/'+str(plateifu)+'.jpg'))\n",
    "        \n",
    "            #creating figure\n",
    "            fig, ax = plt.subplots(subplot_kw=dict(projection=wcs), tight_layout = True, figsize=(7,5))\n",
    "            \n",
    "            #axes line code\n",
    "            ax.plot([alpha1,alpha2],[delta1,delta2],'g',transform = ax.get_transform('world'))\n",
    "            ax.plot([alpha3,alpha4],[delta3,delta4],'g',transform = ax.get_transform('world'))\n",
    "\n",
    "            #other default stuff\n",
    "            ax.imshow(img, origin='lower')\n",
    "            ax.grid(color='white', ls='solid')\n",
    "            ax.set(title = str(plateifu) ,xlabel='Declination', ylabel='Right Acsension')\n",
    "            plt.savefig(data_folder + 'Plots/MajorMinorAxes_plots/'+plateifu+'_graph_axes')\n",
    "            plt.close()\n",
    "\n",
    "    \n",
    "    except:\n",
    "        continue"
   ]
  },
  {
   "cell_type": "code",
   "execution_count": null,
   "id": "70ef9245-4576-4ee0-a866-9d2655b0d94f",
   "metadata": {},
   "outputs": [],
   "source": []
  }
 ],
 "metadata": {
  "kernelspec": {
   "display_name": "Python 3 (ipykernel)",
   "language": "python",
   "name": "python3"
  },
  "language_info": {
   "codemirror_mode": {
    "name": "ipython",
    "version": 3
   },
   "file_extension": ".py",
   "mimetype": "text/x-python",
   "name": "python",
   "nbconvert_exporter": "python",
   "pygments_lexer": "ipython3",
   "version": "3.13.3"
  }
 },
 "nbformat": 4,
 "nbformat_minor": 5
}
