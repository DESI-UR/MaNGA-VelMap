{
 "cells": [
  {
   "cell_type": "code",
   "execution_count": 1,
   "id": "e4e62246-fc15-4655-b85a-8fd06e565e31",
   "metadata": {},
   "outputs": [],
   "source": [
    "# importing packages\n",
    "import numpy as np\n",
    "import matplotlib.pyplot as plt\n",
    "from astropy.table import Table"
   ]
  },
  {
   "cell_type": "code",
   "execution_count": 3,
   "id": "b7e4c3f9-44ca-4a6c-9982-1e8a4ef827a8",
   "metadata": {},
   "outputs": [],
   "source": [
    "data_folder = \"/Users/Emlilio/School/Internships/UR ASTRO/Data/\""
   ]
  },
  {
   "cell_type": "code",
   "execution_count": 61,
   "id": "cf0ba019-0c5a-46bd-a407-c5c760604934",
   "metadata": {},
   "outputs": [],
   "source": [
    "drpall_fn = data_folder + \"drpall_ttype.fits\"\n",
    "drpall = Table.read(drpall_fn, format=\"fits\",hdu=1)"
   ]
  },
  {
   "cell_type": "code",
   "execution_count": 63,
   "id": "fb02e72f-b3f1-4c88-901a-c7cc0fb3af1c",
   "metadata": {},
   "outputs": [],
   "source": [
    "nsa_fn = data_folder + \"nsa_v1_0_1.fits\"\n",
    "nsa = Table.read(nsa_fn, format=\"fits\",hdu=1)"
   ]
  },
  {
   "cell_type": "code",
   "execution_count": 18,
   "id": "de6474a1-b909-40c7-8f46-4197959493e9",
   "metadata": {},
   "outputs": [],
   "source": [
    "drpall_dict = {}\n",
    "\n",
    "for i in range(len(drpall)):\n",
    "    nsaid = drpall['nsa_nsaid'][i]\n",
    "    drpall_dict[nsaid] = i"
   ]
  },
  {
   "cell_type": "code",
   "execution_count": 39,
   "id": "b11798ca-79c8-43c5-be70-0cf623ba53ce",
   "metadata": {},
   "outputs": [],
   "source": [
    "nsa_dict = {}\n",
    "\n",
    "for i in range(len(nsa)):\n",
    "    nsaid = nsa['NSAID'][i]\n",
    "    nsa_dict[nsaid] = i"
   ]
  },
  {
   "cell_type": "code",
   "execution_count": 40,
   "id": "1da8b85e-a7a3-4465-a62a-5cb14c29e915",
   "metadata": {},
   "outputs": [],
   "source": [
    "drpall['R90'] = np.ones(len(drpall))*-999"
   ]
  },
  {
   "cell_type": "code",
   "execution_count": 66,
   "id": "8b24f91e-41f3-495c-96df-d7d6b5e85e81",
   "metadata": {},
   "outputs": [],
   "source": [
    "#index = nsa_dict[51226]\n",
    "#nsa[index]"
   ]
  },
  {
   "cell_type": "code",
   "execution_count": 67,
   "id": "9de1c53b-f427-4b36-a73f-9ee12f865a74",
   "metadata": {},
   "outputs": [],
   "source": [
    "#index = drpall_dict[51226]\n",
    "#drpall[index]"
   ]
  },
  {
   "cell_type": "code",
   "execution_count": 68,
   "id": "6ea9e2e5-2a17-42a9-b441-f8b7f5665897",
   "metadata": {},
   "outputs": [],
   "source": [
    "#loc = drpall_dict[51226]\n",
    "#drpall['R90'][loc] = nsa['ELPETRO_TH90_R'][nsa_dict[51226]]\n",
    "#drpall[loc]"
   ]
  },
  {
   "cell_type": "code",
   "execution_count": 69,
   "id": "09c64e6e-2621-4ffa-a605-e8d62d797afa",
   "metadata": {},
   "outputs": [],
   "source": [
    "for i in range(len(nsa)):\n",
    "    nsaid = nsa['NSAID'][i]\n",
    "    r90 = nsa['ELPETRO_TH90_R'][i]\n",
    "\n",
    "    try:\n",
    "        loc = drpall_dict[nsaid] \n",
    "        drpall['R90'][loc] = r90 \n",
    "\n",
    "    except:\n",
    "        continue\n",
    "    "
   ]
  },
  {
   "cell_type": "code",
   "execution_count": 70,
   "id": "de52ef2c-56ae-44d0-8c9a-ca4b7a71d70c",
   "metadata": {},
   "outputs": [
    {
     "data": {
      "text/html": [
       "<div><i>Table length=5</i>\n",
       "<table id=\"table1518858598400\" class=\"table-striped table-bordered table-condensed\">\n",
       "<thead><tr><th>plate</th><th>ifudsgn</th><th>plateifu</th><th>mangaid</th><th>versdrp2</th><th>versdrp3</th><th>verscore</th><th>versutil</th><th>versprim</th><th>platetyp</th><th>srvymode</th><th>objra</th><th>objdec</th><th>ifuglon</th><th>ifuglat</th><th>ifura</th><th>ifudec</th><th>ebvgal</th><th>nexp</th><th>exptime</th><th>drp3qual</th><th>bluesn2</th><th>redsn2</th><th>harname</th><th>frlplug</th><th>cartid</th><th>designid</th><th>cenra</th><th>cendec</th><th>airmsmin</th><th>airmsmed</th><th>airmsmax</th><th>seemin</th><th>seemed</th><th>seemax</th><th>transmin</th><th>transmed</th><th>transmax</th><th>mjdmin</th><th>mjdmed</th><th>mjdmax</th><th>gfwhm</th><th>rfwhm</th><th>ifwhm</th><th>zfwhm</th><th>mngtarg1</th><th>mngtarg2</th><th>mngtarg3</th><th>catidnum</th><th>plttarg</th><th>manga_tileid</th><th>nsa_iauname</th><th>ifudesignsize</th><th>ifutargetsize</th><th>ifudesignwrongsize</th><th>z</th><th>zmin</th><th>zmax</th><th>szmin</th><th>szmax</th><th>ezmin</th><th>ezmax</th><th>probs</th><th>pweight</th><th>psweight</th><th>psrweight</th><th>sweight</th><th>srweight</th><th>eweight</th><th>esweight</th><th>esrweight</th><th>nsa_field</th><th>nsa_run</th><th>nsa_camcol</th><th>nsa_version</th><th>nsa_nsaid</th><th>nsa_nsaid_v1b</th><th>nsa_z</th><th>nsa_zdist</th><th>nsa_sersic_absmag</th><th>nsa_elpetro_absmag</th><th>nsa_elpetro_amivar</th><th>nsa_sersic_mass</th><th>nsa_elpetro_mass</th><th>nsa_elpetro_ba</th><th>nsa_elpetro_phi</th><th>nsa_extinction</th><th>nsa_elpetro_th50_r</th><th>nsa_petro_th50</th><th>nsa_petro_flux</th><th>nsa_petro_flux_ivar</th><th>nsa_elpetro_flux</th><th>nsa_elpetro_flux_ivar</th><th>nsa_sersic_ba</th><th>nsa_sersic_n</th><th>nsa_sersic_phi</th><th>nsa_sersic_th50</th><th>nsa_sersic_flux</th><th>nsa_sersic_flux_ivar</th><th>TType</th></tr></thead>\n",
       "<thead><tr><th>int64</th><th>bytes32</th><th>bytes32</th><th>bytes32</th><th>bytes32</th><th>bytes32</th><th>bytes32</th><th>bytes32</th><th>bytes32</th><th>bytes32</th><th>bytes32</th><th>float64</th><th>float64</th><th>float64</th><th>float64</th><th>float64</th><th>float64</th><th>float64</th><th>int64</th><th>float64</th><th>int64</th><th>float64</th><th>float64</th><th>bytes53</th><th>int64</th><th>bytes32</th><th>int64</th><th>float64</th><th>float64</th><th>float64</th><th>float64</th><th>float64</th><th>float64</th><th>float64</th><th>float64</th><th>float64</th><th>float64</th><th>float64</th><th>int64</th><th>int64</th><th>int64</th><th>float64</th><th>float64</th><th>float64</th><th>float64</th><th>int64</th><th>int64</th><th>int64</th><th>int64</th><th>bytes32</th><th>int64</th><th>bytes19</th><th>int64</th><th>int64</th><th>int64</th><th>float64</th><th>float64</th><th>float64</th><th>float64</th><th>float64</th><th>float64</th><th>float64</th><th>float64</th><th>float64</th><th>float64</th><th>float64</th><th>float64</th><th>float64</th><th>float64</th><th>float64</th><th>float64</th><th>int64</th><th>int64</th><th>int64</th><th>bytes6</th><th>int64</th><th>int64</th><th>float64</th><th>float64</th><th>float64[7]</th><th>float64[7]</th><th>float64[7]</th><th>float64</th><th>float64</th><th>float64</th><th>float64</th><th>float64[7]</th><th>float64</th><th>float64</th><th>float64[7]</th><th>float64[7]</th><th>float64[7]</th><th>float64[7]</th><th>float64</th><th>float64</th><th>float64</th><th>float64</th><th>float64[7]</th><th>float64[7]</th><th>float64</th></tr></thead>\n",
       "<tr><td>10001</td><td>12701</td><td>10001-12701</td><td>1-48157</td><td>v3_1_1</td><td>v3_1_1</td><td>v1_9_1</td><td>v5_5_36</td><td>v2_9</td><td>APOGEE-2&amp;MaNGA</td><td>MaNGA dither</td><td>133.371090612</td><td>57.5984251446</td><td>159.27921887</td><td>38.8381829181</td><td>133.37109</td><td>57.598425</td><td>0.0545561</td><td>9</td><td>8100.81</td><td>0</td><td>20.0835</td><td>41.292</td><td>ma079</td><td>22</td><td>3</td><td>9114</td><td>134.41357</td><td>57.604214</td><td>1.10715</td><td>1.15321</td><td>1.21404</td><td>1.78219</td><td>1.85994</td><td>2.12685</td><td>0.898721</td><td>0.929654</td><td>0.937466</td><td>57372</td><td>57373</td><td>57373</td><td>2.69906</td><td>2.64546</td><td>2.59645</td><td>2.54039</td><td>2080</td><td>0</td><td>0</td><td>1</td><td>plateTargets-1.par</td><td>6013</td><td>J085329.03+573554.9</td><td>127</td><td>127</td><td>0</td><td>0.0392074</td><td>0.0193562</td><td>0.0264775</td><td>0.0386959</td><td>0.0429176</td><td>0.0193562</td><td>0.0264775</td><td>0.748562</td><td>-999.0</td><td>0.665321</td><td>0.705378</td><td>1.08789</td><td>1.19925</td><td>-999.0</td><td>0.66562</td><td>0.705713</td><td>203</td><td>1350</td><td>6</td><td>v1_0_1</td><td>51226</td><td>-999</td><td>0.0392074</td><td>0.0395926</td><td>-16.2982 .. -19.5112</td><td>-16.2321 .. -19.5522</td><td>275.541 .. 452.944</td><td>3068010000.0</td><td>2685340000.0</td><td>0.417013</td><td>69.2463</td><td>0.448783 .. 0.0800664</td><td>5.16633</td><td>3.63987</td><td>12.7947 .. 413.049</td><td>3.26768 .. 0.000422625</td><td>13.8306 .. 425.941</td><td>3.03694 .. 0.00496838</td><td>0.335333</td><td>0.741845</td><td>68.2584</td><td>5.29184</td><td>14.8124 .. 412.19</td><td>2.50888 .. 0.0150605</td><td>6.564641952514648</td></tr>\n",
       "<tr><td>10001</td><td>12702</td><td>10001-12702</td><td>1-48188</td><td>v3_1_1</td><td>v3_1_1</td><td>v1_9_1</td><td>v5_5_36</td><td>v2_9</td><td>APOGEE-2&amp;MaNGA</td><td>MaNGA dither</td><td>133.685669869</td><td>57.4802503218</td><td>159.390126911</td><td>39.0253440844</td><td>133.68567</td><td>57.48025</td><td>0.0492053</td><td>9</td><td>8100.81</td><td>0</td><td>20.0835</td><td>41.292</td><td>ma078</td><td>25</td><td>3</td><td>9114</td><td>134.41357</td><td>57.604214</td><td>1.10569</td><td>1.15089</td><td>1.21106</td><td>1.78219</td><td>1.85994</td><td>2.12685</td><td>0.898721</td><td>0.929654</td><td>0.937466</td><td>57372</td><td>57373</td><td>57373</td><td>2.72072</td><td>2.66314</td><td>2.64652</td><td>2.61686</td><td>2080</td><td>0</td><td>0</td><td>1</td><td>plateTargets-1.par</td><td>6013</td><td>J085444.56+572848.8</td><td>127</td><td>217</td><td>0</td><td>0.0408108</td><td>0.0193227</td><td>0.0264533</td><td>0.0386469</td><td>0.042869</td><td>0.0188554</td><td>0.0266531</td><td>0.794785</td><td>-999.0</td><td>0.651037</td><td>0.681893</td><td>1.04947</td><td>1.13205</td><td>-999.0</td><td>0.631507</td><td>0.660498</td><td>35</td><td>3600</td><td>5</td><td>v1_0_1</td><td>51261</td><td>-999</td><td>0.0408108</td><td>0.0411932</td><td>-15.9069 .. -19.6569</td><td>-16.127 .. -19.5493</td><td>206.664 .. 49.3569</td><td>5341650000.0</td><td>4642460000.0</td><td>0.598115</td><td>12.5169</td><td>0.405779 .. 0.072394</td><td>7.01311</td><td>6.11281</td><td>12.4553 .. 396.399</td><td>2.27628 .. 0.000372112</td><td>12.4406 .. 390.985</td><td>2.3517 .. 0.000398299</td><td>0.508217</td><td>1.44272</td><td>12.3759</td><td>8.34906</td><td>10.1128 .. 432.884</td><td>3.38905 .. 0.00964978</td><td>4.730921268463135</td></tr>\n",
       "<tr><td>10001</td><td>12703</td><td>10001-12703</td><td>1-55648</td><td>v3_1_1</td><td>v3_1_1</td><td>v1_9_1</td><td>v5_5_36</td><td>v2_9</td><td>APOGEE-2&amp;MaNGA</td><td>MaNGA dither</td><td>136.017159969</td><td>57.0923291779</td><td>159.56459216</td><td>40.3368076472</td><td>136.01716</td><td>57.092329</td><td>0.0258626</td><td>9</td><td>8100.81</td><td>0</td><td>19.9086</td><td>40.7596</td><td>ma077</td><td>31</td><td>3</td><td>9114</td><td>134.41357</td><td>57.604214</td><td>1.09975</td><td>1.13824</td><td>1.19323</td><td>1.78219</td><td>1.85994</td><td>2.12685</td><td>0.898721</td><td>0.929654</td><td>0.937466</td><td>57372</td><td>57373</td><td>57373</td><td>2.7262</td><td>2.61384</td><td>2.56576</td><td>2.53132</td><td>2080</td><td>0</td><td>0</td><td>1</td><td>plateTargets-1.par</td><td>6013</td><td>J090404.13+570532.3</td><td>127</td><td>169</td><td>0</td><td>0.0462094</td><td>0.0227277</td><td>0.0296235</td><td>0.0443908</td><td>0.0487145</td><td>0.0222592</td><td>0.03022</td><td>0.55597</td><td>-999.0</td><td>0.570051</td><td>0.643308</td><td>0.979861</td><td>1.21834</td><td>-999.0</td><td>0.534143</td><td>0.597944</td><td>39</td><td>3600</td><td>2</td><td>v1_0_1</td><td>59078</td><td>-999</td><td>0.0462094</td><td>0.046579</td><td>-15.9552 .. -20.5965</td><td>-16.3926 .. -20.4663</td><td>223.74 .. 875.365</td><td>13693500000.0</td><td>9439710000.0</td><td>0.378034</td><td>51.5052</td><td>0.219711 .. 0.0391981</td><td>6.523</td><td>4.87172</td><td>13.8626 .. 635.975</td><td>1.79171 .. 0.00598687</td><td>14.4442 .. 722.823</td><td>1.96905 .. 0.00930865</td><td>0.205749</td><td>2.18084</td><td>51.2808</td><td>8.09139</td><td>9.82225 .. 820.242</td><td>2.79287 .. 0.0443689</td><td>4.756507873535156</td></tr>\n",
       "<tr><td>10001</td><td>12704</td><td>10001-12704</td><td>1-55616</td><td>v3_1_1</td><td>v3_1_1</td><td>v1_9_1</td><td>v5_5_36</td><td>v2_9</td><td>APOGEE-2&amp;MaNGA</td><td>MaNGA dither</td><td>133.989966869</td><td>57.6779676669</td><td>159.101196491</td><td>39.1494998661</td><td>133.98997</td><td>57.677968</td><td>0.0476794</td><td>9</td><td>8100.81</td><td>64</td><td>19.9086</td><td>40.7596</td><td>ma076</td><td>34</td><td>3</td><td>9114</td><td>134.41357</td><td>57.604214</td><td>1.10705</td><td>1.15123</td><td>1.21051</td><td>1.78219</td><td>1.85994</td><td>2.12685</td><td>0.898721</td><td>0.929654</td><td>0.937466</td><td>57372</td><td>57373</td><td>57373</td><td>2.6788</td><td>2.58733</td><td>2.52311</td><td>2.47903</td><td>4160</td><td>0</td><td>0</td><td>1</td><td>plateTargets-1.par</td><td>6013</td><td>J085557.56+574040.6</td><td>127</td><td>397</td><td>0</td><td>0.0141215</td><td>0.0183756</td><td>0.0258019</td><td>0.037294</td><td>0.0415338</td><td>0.0141373</td><td>0.0310467</td><td>0.67973</td><td>-999.0</td><td>-999.0</td><td>-999.0</td><td>-999.0</td><td>-999.0</td><td>0.716568</td><td>0.45291</td><td>0.474847</td><td>36</td><td>3600</td><td>5</td><td>v1_0_1</td><td>59044</td><td>-999</td><td>0.0141215</td><td>0.0145852</td><td>-14.2399 .. -19.4321</td><td>-14.2982 .. -19.3602</td><td>262.464 .. 794.079</td><td>4286640000.0</td><td>4218380000.0</td><td>0.212315</td><td>81.0961</td><td>0.388503 .. 0.0693118</td><td>16.0734</td><td>11.44</td><td>18.0685 .. 2387.32</td><td>0.731053 .. 1.94195e-05</td><td>18.855 .. 2747.21</td><td>1.50036 .. 0.000434694</td><td>0.15</td><td>0.869326</td><td>81.2193</td><td>18.2816</td><td>17.8616 .. 2923.9</td><td>2.16404 .. 0.00123046</td><td>4.773223400115967</td></tr>\n",
       "<tr><td>10001</td><td>12705</td><td>10001-12705</td><td>1-55784</td><td>v3_1_1</td><td>v3_1_1</td><td>v1_9_1</td><td>v5_5_36</td><td>v2_9</td><td>APOGEE-2&amp;MaNGA</td><td>MaNGA dither</td><td>136.75137451</td><td>57.4514369241</td><td>158.989317689</td><td>40.6452221361</td><td>136.75137</td><td>57.451437</td><td>0.0313756</td><td>9</td><td>8100.81</td><td>0</td><td>19.9086</td><td>40.7596</td><td>ma075</td><td>36</td><td>3</td><td>9114</td><td>134.41357</td><td>57.604214</td><td>1.10226</td><td>1.13845</td><td>1.19148</td><td>1.78219</td><td>1.85994</td><td>2.12685</td><td>0.898721</td><td>0.929654</td><td>0.937466</td><td>57372</td><td>57373</td><td>57373</td><td>2.76525</td><td>2.72247</td><td>2.6945</td><td>2.68859</td><td>2080</td><td>0</td><td>0</td><td>1</td><td>plateTargets-1.par</td><td>6013</td><td>J090700.33+572705.1</td><td>127</td><td>127</td><td>0</td><td>0.0462349</td><td>0.0237085</td><td>0.0309678</td><td>0.0465261</td><td>0.0509661</td><td>0.0237085</td><td>0.0309678</td><td>0.570179</td><td>-999.0</td><td>0.498846</td><td>0.559482</td><td>0.859826</td><td>1.05734</td><td>-999.0</td><td>0.499088</td><td>0.559786</td><td>42</td><td>3600</td><td>2</td><td>v1_0_1</td><td>59219</td><td>-999</td><td>0.0462349</td><td>0.0466083</td><td>-17.0919 .. -20.792</td><td>-17.3181 .. -20.6366</td><td>426.79 .. 721.697</td><td>12987300000.0</td><td>9651730000.0</td><td>0.541128</td><td>132.903</td><td>0.269762 .. 0.0481275</td><td>5.743</td><td>4.54868</td><td>30.9177 .. 822.353</td><td>1.66031 .. 0.00289279</td><td>32.4019 .. 845.756</td><td>1.51105 .. 0.0033936</td><td>0.471451</td><td>1.25046</td><td>133.75</td><td>6.2694</td><td>26.1276 .. 967.317</td><td>1.54431 .. 0.0197392</td><td>4.76101016998291</td></tr>\n",
       "</table></div>"
      ],
      "text/plain": [
       "<Table length=5>\n",
       "plate ifudsgn   plateifu  mangaid ... nsa_sersic_th50  nsa_sersic_flux    nsa_sersic_flux_ivar       TType      \n",
       "int64 bytes32   bytes32   bytes32 ...     float64         float64[7]           float64[7]           float64     \n",
       "----- ------- ----------- ------- ... --------------- ------------------ --------------------- -----------------\n",
       "10001   12701 10001-12701 1-48157 ...         5.29184  14.8124 .. 412.19  2.50888 .. 0.0150605 6.564641952514648\n",
       "10001   12702 10001-12702 1-48188 ...         8.34906 10.1128 .. 432.884 3.38905 .. 0.00964978 4.730921268463135\n",
       "10001   12703 10001-12703 1-55648 ...         8.09139 9.82225 .. 820.242  2.79287 .. 0.0443689 4.756507873535156\n",
       "10001   12704 10001-12704 1-55616 ...         18.2816  17.8616 .. 2923.9 2.16404 .. 0.00123046 4.773223400115967\n",
       "10001   12705 10001-12705 1-55784 ...          6.2694 26.1276 .. 967.317  1.54431 .. 0.0197392  4.76101016998291"
      ]
     },
     "execution_count": 70,
     "metadata": {},
     "output_type": "execute_result"
    }
   ],
   "source": [
    "drpall[:5]"
   ]
  },
  {
   "cell_type": "code",
   "execution_count": 71,
   "id": "6ba43946-2336-4f69-95c9-ffd9b2e572f0",
   "metadata": {},
   "outputs": [],
   "source": [
    "drpall.write(data_folder + 'drpall_ttype_R90.fits', format='fits',overwrite=True)"
   ]
  },
  {
   "cell_type": "code",
   "execution_count": null,
   "id": "97035afc-00af-42be-a59b-e8beaf415db4",
   "metadata": {},
   "outputs": [],
   "source": []
  }
 ],
 "metadata": {
  "kernelspec": {
   "display_name": "Python 3 (ipykernel)",
   "language": "python",
   "name": "python3"
  },
  "language_info": {
   "codemirror_mode": {
    "name": "ipython",
    "version": 3
   },
   "file_extension": ".py",
   "mimetype": "text/x-python",
   "name": "python",
   "nbconvert_exporter": "python",
   "pygments_lexer": "ipython3",
   "version": "3.13.3"
  }
 },
 "nbformat": 4,
 "nbformat_minor": 5
}
