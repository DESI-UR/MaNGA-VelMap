{
 "cells": [
  {
   "cell_type": "code",
   "execution_count": 1,
   "id": "ea4bb497-6e5f-45d7-b490-c8506ac6a085",
   "metadata": {},
   "outputs": [],
   "source": [
    "import numpy as np\n",
    "import matplotlib.pyplot as plt\n",
    "from astropy.table import Table\n",
    "import os"
   ]
  },
  {
   "cell_type": "code",
   "execution_count": 2,
   "id": "096cccd7-3389-446c-9444-027c1f119d2d",
   "metadata": {},
   "outputs": [],
   "source": [
    "data_folder = \"/Users/Emlilio/School/Internships/UR ASTRO/Data/\""
   ]
  },
  {
   "cell_type": "code",
   "execution_count": 15,
   "id": "41984199-956e-4fad-9583-0485866773a0",
   "metadata": {},
   "outputs": [
    {
     "data": {
      "text/html": [
       "<i>Row index=6807</i>\n",
       "<table id=\"table1679121655728\">\n",
       "<thead><tr><th>plateifu</th><th>vflag_VF</th><th>BPT_class</th><th>N2Ha</th><th>O3Hb</th></tr></thead>\n",
       "<thead><tr><th>bytes32</th><th>int64</th><th>float64</th><th>float64</th><th>float64</th></tr></thead>\n",
       "<tr><td>8465-12704</td><td>1</td><td>0.0</td><td>-999.0</td><td>-999.0</td></tr>\n",
       "</table>"
      ],
      "text/plain": [
       "<Row index=6807>\n",
       " plateifu  vflag_VF BPT_class   N2Ha    O3Hb \n",
       " bytes32    int64    float64  float64 float64\n",
       "---------- -------- --------- ------- -------\n",
       "8465-12704        1       0.0  -999.0  -999.0"
      ]
     },
     "execution_count": 15,
     "metadata": {},
     "output_type": "execute_result"
    }
   ],
   "source": [
    "drpall_fn = data_folder + 'MaNGA_DR17_BPT_vflag.fits'\n",
    "drpall_env = Table.read(drpall_fn, format=\"fits\",hdu=1)\n",
    "drpall_env[6807]"
   ]
  },
  {
   "cell_type": "code",
   "execution_count": 32,
   "id": "f167ccbd-d061-4fc4-851f-296b71e5b3f3",
   "metadata": {},
   "outputs": [],
   "source": [
    "drpall_fn = data_folder + 'drpall_ttype_R90_chi2.fits'\n",
    "drpall = Table.read(drpall_fn, format=\"fits\",hdu=1)\n"
   ]
  },
  {
   "cell_type": "code",
   "execution_count": 33,
   "id": "1b848fd9-4b1c-4cf2-a0fc-b6ecbb113dc1",
   "metadata": {},
   "outputs": [],
   "source": [
    "drpall_dict = {}                                    #create the dictionary\n",
    "\n",
    "for i in range(len(drpall)):                        #looping through drpall and redefining the index in terms\n",
    "    plateifu = drpall['plateifu'][i]                #of the plateifu for simplicity\t\t\t\n",
    "    drpall_dict[plateifu]=i"
   ]
  },
  {
   "cell_type": "code",
   "execution_count": 34,
   "id": "5fbab22a-72f0-4a98-b3c9-9a115b696395",
   "metadata": {},
   "outputs": [],
   "source": [
    "stellar_diag = '/Users/Emlilio/School/Internships/UR ASTRO/Data/Plots/stellar_diagnosis'\n",
    "halpha_diag = '/Users/Emlilio/School/Internships/UR ASTRO/Data/Plots/diagnostic_plots'\n",
    "\n",
    "stellar_set = []                                \n",
    "data_set = []                                                    \n",
    "\n",
    "for filename in os.listdir(stellar_diag):\n",
    "        plateifu = filename.split('_')[0]\n",
    "        if plateifu in drpall_dict:\n",
    "            index = drpall_dict[plateifu]\n",
    "            stellar_set.append(plateifu)\n",
    "        else:\n",
    "            continue\n",
    "\n",
    "for filename in os.listdir(halpha_diag):\n",
    "    plateifu = filename.split('_')[0]\n",
    "    if plateifu in stellar_set:\n",
    "        index = drpall_dict[plateifu]\n",
    "        data_set.append(plateifu)\n",
    "    else:\n",
    "        continue"
   ]
  },
  {
   "cell_type": "code",
   "execution_count": 35,
   "id": "b00d91aa-5b1c-4cc8-ba00-c132af4b90c5",
   "metadata": {},
   "outputs": [
    {
     "data": {
      "text/html": [
       "<i>Row index=3605</i>\n",
       "<table id=\"table1679197081632\">\n",
       "<thead><tr><th>plate</th><th>ifudsgn</th><th>plateifu</th><th>mangaid</th><th>versdrp2</th><th>versdrp3</th><th>verscore</th><th>versutil</th><th>versprim</th><th>platetyp</th><th>srvymode</th><th>objra</th><th>objdec</th><th>ifuglon</th><th>ifuglat</th><th>ifura</th><th>ifudec</th><th>ebvgal</th><th>nexp</th><th>exptime</th><th>drp3qual</th><th>bluesn2</th><th>redsn2</th><th>harname</th><th>frlplug</th><th>cartid</th><th>designid</th><th>cenra</th><th>cendec</th><th>airmsmin</th><th>airmsmed</th><th>airmsmax</th><th>seemin</th><th>seemed</th><th>seemax</th><th>transmin</th><th>transmed</th><th>transmax</th><th>mjdmin</th><th>mjdmed</th><th>mjdmax</th><th>gfwhm</th><th>rfwhm</th><th>ifwhm</th><th>zfwhm</th><th>mngtarg1</th><th>mngtarg2</th><th>mngtarg3</th><th>catidnum</th><th>plttarg</th><th>manga_tileid</th><th>nsa_iauname</th><th>ifudesignsize</th><th>ifutargetsize</th><th>ifudesignwrongsize</th><th>z</th><th>zmin</th><th>zmax</th><th>szmin</th><th>szmax</th><th>ezmin</th><th>ezmax</th><th>probs</th><th>pweight</th><th>psweight</th><th>psrweight</th><th>sweight</th><th>srweight</th><th>eweight</th><th>esweight</th><th>esrweight</th><th>nsa_field</th><th>nsa_run</th><th>nsa_camcol</th><th>nsa_version</th><th>nsa_nsaid</th><th>nsa_nsaid_v1b</th><th>nsa_z</th><th>nsa_zdist</th><th>nsa_sersic_absmag</th><th>nsa_elpetro_absmag</th><th>nsa_elpetro_amivar</th><th>nsa_sersic_mass</th><th>nsa_elpetro_mass</th><th>nsa_elpetro_ba</th><th>nsa_elpetro_phi</th><th>nsa_extinction</th><th>nsa_elpetro_th50_r</th><th>nsa_petro_th50</th><th>nsa_petro_flux</th><th>nsa_petro_flux_ivar</th><th>nsa_elpetro_flux</th><th>nsa_elpetro_flux_ivar</th><th>nsa_sersic_ba</th><th>nsa_sersic_n</th><th>nsa_sersic_phi</th><th>nsa_sersic_th50</th><th>nsa_sersic_flux</th><th>nsa_sersic_flux_ivar</th><th>TType</th><th>R90</th><th>vmax</th><th>alpha</th><th>Rturn</th><th>PA</th><th>i_angle</th><th>center_x</th><th>center_y</th><th>sys_vel</th><th>stellar_vmax</th><th>stellar_alpha</th><th>stellar_Rturn</th><th>stellar_PA</th><th>stellar_i_angle</th><th>stellar_center_x</th><th>stellar_center_y</th><th>stellar_sys_vel</th></tr></thead>\n",
       "<thead><tr><th>int64</th><th>bytes32</th><th>bytes32</th><th>bytes32</th><th>bytes32</th><th>bytes32</th><th>bytes32</th><th>bytes32</th><th>bytes32</th><th>bytes32</th><th>bytes32</th><th>float64</th><th>float64</th><th>float64</th><th>float64</th><th>float64</th><th>float64</th><th>float64</th><th>int64</th><th>float64</th><th>int64</th><th>float64</th><th>float64</th><th>bytes53</th><th>int64</th><th>bytes32</th><th>int64</th><th>float64</th><th>float64</th><th>float64</th><th>float64</th><th>float64</th><th>float64</th><th>float64</th><th>float64</th><th>float64</th><th>float64</th><th>float64</th><th>int64</th><th>int64</th><th>int64</th><th>float64</th><th>float64</th><th>float64</th><th>float64</th><th>int64</th><th>int64</th><th>int64</th><th>int64</th><th>bytes32</th><th>int64</th><th>bytes19</th><th>int64</th><th>int64</th><th>int64</th><th>float64</th><th>float64</th><th>float64</th><th>float64</th><th>float64</th><th>float64</th><th>float64</th><th>float64</th><th>float64</th><th>float64</th><th>float64</th><th>float64</th><th>float64</th><th>float64</th><th>float64</th><th>float64</th><th>int64</th><th>int64</th><th>int64</th><th>bytes6</th><th>int64</th><th>int64</th><th>float64</th><th>float64</th><th>float64[7]</th><th>float64[7]</th><th>float64[7]</th><th>float64</th><th>float64</th><th>float64</th><th>float64</th><th>float64[7]</th><th>float64</th><th>float64</th><th>float64[7]</th><th>float64[7]</th><th>float64[7]</th><th>float64[7]</th><th>float64</th><th>float64</th><th>float64</th><th>float64</th><th>float64[7]</th><th>float64[7]</th><th>float64</th><th>float64</th><th>float64</th><th>float64</th><th>float64</th><th>float64</th><th>float64</th><th>float64</th><th>float64</th><th>float64</th><th>float64</th><th>float64</th><th>float64</th><th>float64</th><th>float64</th><th>float64</th><th>float64</th><th>float64</th></tr></thead>\n",
       "<tr><td>12085</td><td>9101</td><td>12085-9101</td><td>1-570629</td><td>v3_1_1</td><td>v3_1_1</td><td>v1_9_1</td><td>v5_5_36</td><td>v2_9</td><td>APOGEE-2&amp;MaNGA</td><td>MaNGA dither</td><td>345.319135799</td><td>13.0505876962</td><td>85.7978264262</td><td>-41.7429070991</td><td>345.31914</td><td>13.050588</td><td>0.196187</td><td>9</td><td>8100.81</td><td>4098</td><td>6.03719</td><td>27.8624</td><td>ma116</td><td>26</td><td>5</td><td>12476</td><td>345.5745</td><td>14.108707</td><td>1.08419</td><td>1.1248</td><td>1.23791</td><td>1.34181</td><td>1.45347</td><td>1.53695</td><td>0.766668</td><td>0.779717</td><td>0.7913</td><td>59030</td><td>59031</td><td>59031</td><td>2.45931</td><td>2.52345</td><td>2.5405</td><td>2.54348</td><td>2080</td><td>0</td><td>0</td><td>1</td><td>plateTargets-1.par</td><td>7745</td><td>J230116.59+130302.0</td><td>91</td><td>91</td><td>0</td><td>0.048394978</td><td>0.023353728</td><td>0.03044892</td><td>0.045716297</td><td>0.050107587</td><td>0.0200646</td><td>0.03201629</td><td>0.56320566</td><td>-999.0</td><td>0.5283435</td><td>0.5941061</td><td>0.9106284</td><td>1.1253203</td><td>-999.0</td><td>0.4227379</td><td>0.46381652</td><td>213</td><td>2566</td><td>1</td><td>v1_0_1</td><td>606432</td><td>-999</td><td>0.048394978</td><td>0.049196865</td><td>-15.836487 .. -20.84676</td><td>-16.770578 .. -20.58281</td><td>0.7000908 .. 473.79153</td><td>15036122000.0</td><td>9269784000.0</td><td>0.9203941</td><td>149.30684</td><td>1.6400783 .. 0.29260263</td><td>4.628203</td><td>4.949468</td><td>4.469042 .. 646.4911</td><td>0.038648922 .. 0.0027047028</td><td>4.613854 .. 574.8473</td><td>0.038811658 .. 0.002946668</td><td>0.870202</td><td>2.7858202</td><td>151.54263</td><td>6.4906435</td><td>1.9945923 .. 732.40924</td><td>0.12842822 .. 0.01350989</td><td>1.7099822759628296</td><td>11.373337745666504</td><td>467.221657576111</td><td>2.0545897699848625</td><td>1.291026781891981</td><td>2.605846505239477</td><td>0.19498943365282279</td><td>31.616238891897073</td><td>31.589907326661542</td><td>21.759645273493945</td><td>-999.0</td><td>-999.0</td><td>-999.0</td><td>-999.0</td><td>-999.0</td><td>-999.0</td><td>-999.0</td><td>-999.0</td></tr>\n",
       "</table>"
      ],
      "text/plain": [
       "<Row index=3605>\n",
       "plate ifudsgn  plateifu  mangaid  versdrp2 versdrp3 verscore versutil versprim    platetyp      srvymode       objra         objdec       ifuglon       ifuglat       ifura     ifudec   ebvgal   nexp exptime drp3qual bluesn2  redsn2 harname frlplug  cartid designid  cenra     cendec  airmsmin airmsmed airmsmax  seemin  seemed  seemax transmin transmed transmax mjdmin mjdmed mjdmax  gfwhm   rfwhm   ifwhm   zfwhm  mngtarg1 mngtarg2 mngtarg3 catidnum      plttarg       manga_tileid     nsa_iauname     ifudesignsize ifutargetsize ifudesignwrongsize      z          zmin       zmax       szmin       szmax      ezmin     ezmax      probs    pweight  psweight psrweight  sweight   srweight eweight  esweight esrweight  nsa_field nsa_run nsa_camcol nsa_version nsa_nsaid nsa_nsaid_v1b    nsa_z     nsa_zdist     nsa_sersic_absmag       nsa_elpetro_absmag     nsa_elpetro_amivar   nsa_sersic_mass nsa_elpetro_mass nsa_elpetro_ba nsa_elpetro_phi      nsa_extinction     nsa_elpetro_th50_r nsa_petro_th50    nsa_petro_flux        nsa_petro_flux_ivar       nsa_elpetro_flux     nsa_elpetro_flux_ivar    nsa_sersic_ba nsa_sersic_n nsa_sersic_phi nsa_sersic_th50    nsa_sersic_flux       nsa_sersic_flux_ivar         TType               R90               vmax             alpha              Rturn               PA              i_angle            center_x           center_y           sys_vel       stellar_vmax stellar_alpha stellar_Rturn stellar_PA stellar_i_angle stellar_center_x stellar_center_y stellar_sys_vel\n",
       "int64 bytes32  bytes32   bytes32  bytes32  bytes32  bytes32  bytes32  bytes32     bytes32       bytes32       float64       float64       float64       float64      float64   float64  float64  int64 float64  int64   float64 float64 bytes53  int64  bytes32  int64   float64   float64  float64  float64  float64  float64 float64 float64 float64  float64  float64  int64  int64  int64  float64 float64 float64 float64  int64    int64    int64    int64        bytes32          int64           bytes19           int64         int64           int64          float64     float64    float64     float64     float64    float64   float64    float64   float64  float64   float64   float64   float64  float64  float64   float64     int64    int64    int64       bytes6     int64       int64       float64     float64          float64[7]              float64[7]             float64[7]           float64         float64         float64         float64            float64[7]            float64          float64          float64[7]               float64[7]              float64[7]              float64[7]            float64      float64       float64         float64           float64[7]              float64[7]             float64            float64           float64           float64            float64           float64            float64            float64            float64            float64         float64       float64       float64     float64       float64         float64          float64          float64    \n",
       "----- ------- ---------- -------- -------- -------- -------- -------- -------- -------------- ------------ ------------- ------------- ------------- -------------- --------- --------- -------- ----- ------- -------- ------- ------- ------- ------- ------- -------- -------- --------- -------- -------- -------- ------- ------- ------- -------- -------- -------- ------ ------ ------ ------- ------- ------- ------- -------- -------- -------- -------- ------------------ ------------ ------------------- ------------- ------------- ------------------ ----------- ----------- ---------- ----------- ----------- --------- ---------- ---------- ------- --------- --------- --------- --------- ------- --------- ---------- --------- ------- ---------- ----------- --------- ------------- ----------- ----------- ----------------------- ----------------------- ---------------------- --------------- ---------------- -------------- --------------- ----------------------- ------------------ -------------- -------------------- --------------------------- -------------------- -------------------------- ------------- ------------ -------------- --------------- ---------------------- ------------------------ ------------------ ------------------ ---------------- ------------------ ----------------- ----------------- ------------------- ------------------ ------------------ ------------------ ------------ ------------- ------------- ---------- --------------- ---------------- ---------------- ---------------\n",
       "12085    9101 12085-9101 1-570629   v3_1_1   v3_1_1   v1_9_1  v5_5_36     v2_9 APOGEE-2&MaNGA MaNGA dither 345.319135799 13.0505876962 85.7978264262 -41.7429070991 345.31914 13.050588 0.196187     9 8100.81     4098 6.03719 27.8624   ma116      26       5    12476 345.5745 14.108707  1.08419   1.1248  1.23791 1.34181 1.45347 1.53695 0.766668 0.779717   0.7913  59030  59031  59031 2.45931 2.52345  2.5405 2.54348     2080        0        0        1 plateTargets-1.par         7745 J230116.59+130302.0            91            91                  0 0.048394978 0.023353728 0.03044892 0.045716297 0.050107587 0.0200646 0.03201629 0.56320566  -999.0 0.5283435 0.5941061 0.9106284 1.1253203  -999.0 0.4227379 0.46381652       213    2566          1      v1_0_1    606432          -999 0.048394978 0.049196865 -15.836487 .. -20.84676 -16.770578 .. -20.58281 0.7000908 .. 473.79153   15036122000.0     9269784000.0      0.9203941       149.30684 1.6400783 .. 0.29260263           4.628203       4.949468 4.469042 .. 646.4911 0.038648922 .. 0.0027047028 4.613854 .. 574.8473 0.038811658 .. 0.002946668      0.870202    2.7858202      151.54263       6.4906435 1.9945923 .. 732.40924 0.12842822 .. 0.01350989 1.7099822759628296 11.373337745666504 467.221657576111 2.0545897699848625 1.291026781891981 2.605846505239477 0.19498943365282279 31.616238891897073 31.589907326661542 21.759645273493945       -999.0        -999.0        -999.0     -999.0          -999.0           -999.0           -999.0          -999.0"
      ]
     },
     "execution_count": 35,
     "metadata": {},
     "output_type": "execute_result"
    }
   ],
   "source": [
    "index = drpall_dict['12085-9101']\n",
    "drpall[index]"
   ]
  },
  {
   "cell_type": "code",
   "execution_count": 96,
   "id": "822c1041-8bca-421c-a4a0-141ba3b3f994",
   "metadata": {},
   "outputs": [],
   "source": [
    "#data_set"
   ]
  },
  {
   "cell_type": "code",
   "execution_count": 97,
   "id": "577e45b7-b629-42d5-bd5d-95fdaf24f5e2",
   "metadata": {},
   "outputs": [],
   "source": [
    "#drpall_env[8239-12705]"
   ]
  },
  {
   "cell_type": "markdown",
   "id": "bc0dfcc7-febc-4786-a6e9-ec8638c93a28",
   "metadata": {},
   "source": [
    "here i separated the different types of galaxies into their corresponding arrays, in those arrays i stored the difference in position angle rather than the plateifu."
   ]
  },
  {
   "cell_type": "code",
   "execution_count": 85,
   "id": "9922f601-c1a1-4886-81b9-9eb0046aca4e",
   "metadata": {},
   "outputs": [],
   "source": [
    "star_forming = []\n",
    "composite = []\n",
    "AGN = []\n",
    "unclassified = []\n",
    "all_gal = []\n",
    "\n",
    "for plateifu in data_set:\n",
    "    index = drpall_dict[plateifu]\n",
    "    gal_class = drpall_env['BPT_class'][index]\n",
    "    deltaphi = abs(drpall['stellar_PA'][index] - drpall['PA'][index])\n",
    "    if deltaphi>500:\n",
    "        continue\n",
    "    all_gal.append(abs(deltaphi))\n",
    "    if gal_class == 0.0:\n",
    "        deltaphi = drpall['stellar_PA'][index] - drpall['PA'][index]\n",
    "        unclassified.append(abs(deltaphi))\n",
    "    elif gal_class == 1.0:\n",
    "        deltaphi = drpall['stellar_PA'][index] - drpall['PA'][index]\n",
    "        star_forming.append(abs(deltaphi))\n",
    "    elif gal_class == 2.0:\n",
    "        deltaphi = drpall['stellar_PA'][index] - drpall['PA'][index]\n",
    "        composite.append(abs(deltaphi))\n",
    "    elif gal_class == 3.0:\n",
    "        deltaphi = drpall['stellar_PA'][index] - drpall['PA'][index]\n",
    "        AGN.append(abs(deltaphi))\n",
    "    else:\n",
    "        print('error : ',index)\n",
    "        continue\n",
    "        \n"
   ]
  },
  {
   "cell_type": "code",
   "execution_count": 89,
   "id": "5b2c2f59-9ef5-47a6-a95c-c54aa6c3dceb",
   "metadata": {},
   "outputs": [
    {
     "data": {
      "text/plain": [
       "np.float64(5.44392671676544)"
      ]
     },
     "execution_count": 89,
     "metadata": {},
     "output_type": "execute_result"
    }
   ],
   "source": [
    "len(all_gal)\n",
    "np.max(all_gal)"
   ]
  },
  {
   "cell_type": "code",
   "execution_count": 116,
   "id": "e5703622-7dd5-4d7f-bc8c-a3e23bd0fff2",
   "metadata": {},
   "outputs": [
    {
     "data": {
      "text/plain": [
       "Text(0.5, 1.0, 'all_gal angle diff')"
      ]
     },
     "execution_count": 116,
     "metadata": {},
     "output_type": "execute_result"
    },
    {
     "data": {
      "image/png": "[encoded data removed]",
      "text/plain": [
       "<Figure size 640x480 with 1 Axes>"
      ]
     },
     "metadata": {},
     "output_type": "display_data"
    }
   ],
   "source": [
    "\n",
    "plt.hist(all_gal, bins = 60, color = 'black',zorder = 5, alpha = .2)\n",
    "plt.hist(star_forming, bins = 60, color = 'aquamarine' )\n",
    "plt.hist(composite, bins = 60, color = 'blue' )\n",
    "plt.hist(AGN, bins = 60, color = 'magenta' )\n",
    "\n",
    "\n",
    "plt.xlim(0,round(np.max(all_gal)+1))\n",
    "plt.ylabel('Frequency')\n",
    "\n",
    "plt.xlabel('PA difference')\n",
    "\n",
    "plt.title('all_gal angle diff')"
   ]
  },
  {
   "cell_type": "code",
   "execution_count": null,
   "id": "06387235-3543-4d0a-b551-6137a3fe12a5",
   "metadata": {},
   "outputs": [],
   "source": []
  }
 ],
 "metadata": {
  "kernelspec": {
   "display_name": "Python 3 (ipykernel)",
   "language": "python",
   "name": "python3"
  },
  "language_info": {
   "codemirror_mode": {
    "name": "ipython",
    "version": 3
   },
   "file_extension": ".py",
   "mimetype": "text/x-python",
   "name": "python",
   "nbconvert_exporter": "python",
   "pygments_lexer": "ipython3",
   "version": "3.13.3"
  }
 },
 "nbformat": 4,
 "nbformat_minor": 5
}
