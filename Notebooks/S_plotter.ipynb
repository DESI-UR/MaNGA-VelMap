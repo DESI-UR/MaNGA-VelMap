{
 "cells": [
  {
   "cell_type": "markdown",
   "id": "a24ce73a-85ac-4a1f-bf7a-9804b2eb4c1e",
   "metadata": {},
   "source": [
    "# Subplotter"
   ]
  },
  {
   "cell_type": "markdown",
   "id": "71ec657b-007a-47fc-8b23-bf71757e7e18",
   "metadata": {},
   "source": [
    "This code automatically makes subplots of a galaxy's masked Stellar velocity, H-alpha velocity, and Flux."
   ]
  },
  {
   "cell_type": "code",
   "execution_count": 1,
   "id": "1310da16-1fa6-4e68-b84b-ec721d2a1597",
   "metadata": {},
   "outputs": [],
   "source": [
    "#importing\n",
    "\n",
    "import numpy as np\n",
    "import matplotlib.pyplot as plt\n",
    "from astropy.table import Table\n",
    "from astropy.io import fits\n",
    "import numpy.ma as ma"
   ]
  },
  {
   "cell_type": "code",
   "execution_count": 2,
   "id": "b617ef6d-b5db-4c74-890d-7dd9c4c11385",
   "metadata": {},
   "outputs": [],
   "source": [
    "data_folder = \"/Users/Emlilio/School/Internships/UR ASTRO/Data/\" #create a variable for directory to common folder"
   ]
  },
  {
   "cell_type": "code",
   "execution_count": 3,
   "id": "4ebd8af6-762f-4b5f-82f6-577417bd79b5",
   "metadata": {},
   "outputs": [],
   "source": [
    "cube_df = data_folder + 'MaNGA/manga-8997-9102-MAPS-HYB10-MILESHC-MASTARSSP.fits.gz'"
   ]
  },
  {
   "cell_type": "code",
   "execution_count": 4,
   "id": "03b40de9-db2c-4b06-a531-c45124b961ef",
   "metadata": {},
   "outputs": [],
   "source": [
    "drpall = data_folder + 'drpall_ttype.fits'\n",
    "drpalltt = Table.read(drpall, format=\"fits\",hdu=1)   #create and visualize table for quick reference\n"
   ]
  },
  {
   "cell_type": "code",
   "execution_count": 5,
   "id": "86ee9096-752e-4e90-b020-a1d757a3e3e1",
   "metadata": {},
   "outputs": [],
   "source": [
    "#create a dictionary for plateifu#\n",
    "drpalltt_dict = {}\n",
    "for i in range(len(drpalltt)):\n",
    "    plateifu = drpalltt['plateifu'][i]\n",
    "    drpalltt_dict[plateifu] = i"
   ]
  },
  {
   "cell_type": "code",
   "execution_count": null,
   "id": "cefc705c-0c53-4445-ae60-b62eedb63305",
   "metadata": {},
   "outputs": [],
   "source": [
    "max_lim = 400              #creates default plot limit\n",
    "\n",
    "for i in range(9080,9180):\n",
    "    plateifu = drpalltt['plateifu'][i]      #calls the specific row by index\n",
    "    try:\n",
    "        cube_df = data_folder + 'MaNGA/manga-'+ plateifu +'-MAPS-HYB10-MILESHC-MASTARSSP.fits.gz'\n",
    "        cube = fits.open(cube_df)                        #file requires opening\n",
    "        stellar_vel = cube['STELLAR_VEL'].data           #for the following we create variable representing data from file HDU's\n",
    "        stellar_vel_ivar = cube['STELLAR_VEL_IVAR'].data \n",
    "        stellar_mask = cube['STELLAR_VEL_MASK'].data\n",
    "        halpha_vel = cube['EMLINE_GVEL'].data[23]        #the following three have several channels, but were only concerned with the Halpha spectra (channel 23)\n",
    "        halpha_gvel_ivar = cube['EMLINE_GVEL_IVAR'].data[23]\n",
    "        halpha_gvel_mask = cube['EMLINE_GVEL_MASK'].data[23]\n",
    "        flux = cube['SPX_MFLUX'].data\n",
    "    \n",
    "        cube.close()\n",
    "#creates figure for subplots,  \n",
    "        fig,axes = plt.subplots(1,3, figsize=(18,6), tight_layout=True)\n",
    "        fig.suptitle(plateifu)\n",
    "\n",
    "        mhalpha_vel = ma.array(halpha_vel, mask = stellar_mask)\n",
    "        \n",
    "      #  set equal limits for color bar\n",
    "        val_max = mhalpha_vel.max()\n",
    "        val_min = mhalpha_vel.min()\n",
    "        if (val_max >= abs(val_min)):\n",
    "            lim = val_max\n",
    "        else:\n",
    "            lim = abs(val_min)\n",
    "        \n",
    "        if (lim > max_lim):\n",
    "            lim = max_lim\n",
    "\n",
    "        #create subplot for mhalpha_vel\n",
    "        im = axes[2].imshow(mhalpha_vel, cmap ='bwr', vmin = -lim,vmax = lim)\n",
    "        axes[2].set_xlabel('spaxel')\n",
    "        axes[2].set_ylabel('spaxel')\n",
    "        axes[2].set_title('Masked H-alpha Velocity')\n",
    "        axes[2].invert_yaxis()\n",
    "\n",
    "        fig.colorbar(im, ax = axes[2],label = 'Velocity [km/s]' )\n",
    "        #plt.close()\n",
    "\n",
    "\n",
    "        mstellar_vel = ma.array(stellar_vel, mask = stellar_mask)\n",
    "\n",
    "        #create subplot for mhalpha_vel\n",
    "        val_max = mstellar_vel.max()\n",
    "        val_min = mstellar_vel.min()\n",
    "        if (val_max >= abs(val_min)):\n",
    "            lim = val_max\n",
    "        else:\n",
    "            lim = abs(val_min)\n",
    "\n",
    "        if (lim > max_lim):\n",
    "            lim = max_lim\n",
    "        #create subplot for mstellar_vel\n",
    "        im = axes[0].imshow(mstellar_vel, cmap ='bwr',vmin = -lim,vmax = lim)\n",
    "        axes[0].set_xlabel('spaxel')\n",
    "        axes[0].set_ylabel('spaxel')\n",
    "        axes[0].set_title('Masked Stellar Velocity')\n",
    "        axes[0].invert_yaxis()\n",
    "\n",
    "        fig.colorbar(im, ax = axes[0],label = 'Velocity [km/s]' )\n",
    "       # plt.close()\n",
    "\n",
    "        #create subplot for flux\n",
    "\n",
    "        im = axes[1].imshow(flux, cmap ='hot',vmin=0)\n",
    "        axes[1].set_title('Flux')\n",
    "        axes[1].set_xlabel('spaxel')\n",
    "        axes[1].set_ylabel('spaxel')\n",
    "        \n",
    "        axes[1].invert_yaxis()\n",
    "        \n",
    "        fig.colorbar(im, ax = axes[1],label = '10-17 erg/s/cm2/Å/spaxel' )\n",
    "       \n",
    "        plt.savefig(data_folder + 'Plots/Subplots/'+ plateifu +'_subplot.png')\n",
    "        plt.close(fig)\n",
    "       \n",
    "        \n",
    "    except:\n",
    "        with open(data_folder + 'Plots/ODD_subplot.txt', \"a\") as odds:  #writes plateifu's of bad rows in txt file\n",
    "            odds.write(str(plateifu+'\\n'))\n",
    "        \n",
    "        continue"
   ]
  },
  {
   "cell_type": "code",
   "execution_count": null,
   "id": "90605995-d27f-4a8b-a5ed-84796e41d4b0",
   "metadata": {},
   "outputs": [],
   "source": [
    "#ELPETRO_TH90_R\n",
    "#add r90 column to table\n",
    "#"
   ]
  }
 ],
 "metadata": {
  "kernelspec": {
   "display_name": "Python 3 (ipykernel)",
   "language": "python",
   "name": "python3"
  },
  "language_info": {
   "codemirror_mode": {
    "name": "ipython",
    "version": 3
   },
   "file_extension": ".py",
   "mimetype": "text/x-python",
   "name": "python",
   "nbconvert_exporter": "python",
   "pygments_lexer": "ipython3",
   "version": "3.13.3"
  }
 },
 "nbformat": 4,
 "nbformat_minor": 5
}
