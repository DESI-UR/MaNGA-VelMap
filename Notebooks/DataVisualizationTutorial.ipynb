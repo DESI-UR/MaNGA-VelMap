{
 "cells": [
  {
   "cell_type": "raw",
   "id": "fa8e10c9-4374-46eb-9ca9-15daa0100376",
   "metadata": {},
   "source": [
    "# Practice visualizing data"
   ]
  },
  {
   "cell_type": "code",
   "execution_count": 4,
   "id": "1b9742c9-ad0b-4a75-95b6-fab8ea175500",
   "metadata": {},
   "outputs": [],
   "source": [
    "#importing\n",
    "\n",
    "import numpy as np\n",
    "import matplotlib.pyplot as plt\n",
    "from astropy.table import Table\n",
    "from astropy.io import fits\n",
    "import numpy.ma as ma\n",
    "from PIL import Image\n",
    "import astropy.units as u\n",
    "from astropy.coordinates import SkyCoord\n",
    "from astropy.wcs import WCS\n",
    "#custom\n",
    "import sys \n",
    "sys.path.insert(1, 'C:/Users/boibr/OneDrive/Documents/GitHub/MaNGA-VelMap/')\n",
    "from GenerateCutout import get_cutout,get_cutout_fits\n"
   ]
  },
  {
   "cell_type": "code",
   "execution_count": 5,
   "id": "2e9d7b19-0506-4d52-bfbc-0b46966a0b54",
   "metadata": {},
   "outputs": [],
   "source": [
    "DATA_FOLDER = \"/Users/Emlilio/School/Internships/UR ASTRO/Data/\" #create a variable for directory to common folder"
   ]
  },
  {
   "cell_type": "code",
   "execution_count": 32,
   "id": "23ee9fc2-e8cf-4545-9af8-38e8d3e45606",
   "metadata": {},
   "outputs": [],
   "source": [
    "test_galaxy = '10001-3701'\n",
    "cube_fn = DATA_FOLDER + 'MaNGA/manga-'+ test_galaxy +'-MAPS-HYB10-MILESHC-MASTARSSP.fits.gz' #variable for the specific file within data folder\n"
   ]
  },
  {
   "cell_type": "code",
   "execution_count": 33,
   "id": "f73aed1e-5172-464e-af40-dcd9a448aa9f",
   "metadata": {},
   "outputs": [
    {
     "ename": "FileNotFoundError",
     "evalue": "[Errno 2] No such file or directory: '/Users/Emlilio/School/Internships/UR ASTRO/Data/MaNGA/manga-10001-3701-MAPS-HYB10-MILESHC-MASTARSSP.fits.gz'",
     "output_type": "error",
     "traceback": [
      "\u001b[31m---------------------------------------------------------------------------\u001b[39m",
      "\u001b[31mFileNotFoundError\u001b[39m                         Traceback (most recent call last)",
      "\u001b[36mCell\u001b[39m\u001b[36m \u001b[39m\u001b[32mIn[33]\u001b[39m\u001b[32m, line 1\u001b[39m\n\u001b[32m----> \u001b[39m\u001b[32m1\u001b[39m cube = \u001b[43mfits\u001b[49m\u001b[43m.\u001b[49m\u001b[43mopen\u001b[49m\u001b[43m(\u001b[49m\u001b[43mcube_fn\u001b[49m\u001b[43m)\u001b[49m                        \u001b[38;5;66;03m#file requires opening\u001b[39;00m\n\u001b[32m      2\u001b[39m stellar_vel = cube[\u001b[33m'\u001b[39m\u001b[33mSTELLAR_VEL\u001b[39m\u001b[33m'\u001b[39m].data           \u001b[38;5;66;03m#for the following we create variable representing data from file HDU's\u001b[39;00m\n\u001b[32m      3\u001b[39m stellar_vel_ivar = cube[\u001b[33m'\u001b[39m\u001b[33mSTELLAR_VEL_IVAR\u001b[39m\u001b[33m'\u001b[39m].data \n",
      "\u001b[36mFile \u001b[39m\u001b[32mC:\\Users\\Emlilio\\miniforge3\\envs\\REU\\Lib\\site-packages\\astropy\\io\\fits\\hdu\\hdulist.py:220\u001b[39m, in \u001b[36mfitsopen\u001b[39m\u001b[34m(name, mode, memmap, save_backup, cache, lazy_load_hdus, ignore_missing_simple, use_fsspec, fsspec_kwargs, decompress_in_memory, **kwargs)\u001b[39m\n\u001b[32m    217\u001b[39m \u001b[38;5;28;01mif\u001b[39;00m \u001b[38;5;129;01mnot\u001b[39;00m name:\n\u001b[32m    218\u001b[39m     \u001b[38;5;28;01mraise\u001b[39;00m \u001b[38;5;167;01mValueError\u001b[39;00m(\u001b[33mf\u001b[39m\u001b[33m\"\u001b[39m\u001b[33mEmpty filename: \u001b[39m\u001b[38;5;132;01m{\u001b[39;00mname\u001b[38;5;132;01m!r}\u001b[39;00m\u001b[33m\"\u001b[39m)\n\u001b[32m--> \u001b[39m\u001b[32m220\u001b[39m \u001b[38;5;28;01mreturn\u001b[39;00m \u001b[43mHDUList\u001b[49m\u001b[43m.\u001b[49m\u001b[43mfromfile\u001b[49m\u001b[43m(\u001b[49m\n\u001b[32m    221\u001b[39m \u001b[43m    \u001b[49m\u001b[43mname\u001b[49m\u001b[43m,\u001b[49m\n\u001b[32m    222\u001b[39m \u001b[43m    \u001b[49m\u001b[43mmode\u001b[49m\u001b[43m,\u001b[49m\n\u001b[32m    223\u001b[39m \u001b[43m    \u001b[49m\u001b[43mmemmap\u001b[49m\u001b[43m,\u001b[49m\n\u001b[32m    224\u001b[39m \u001b[43m    \u001b[49m\u001b[43msave_backup\u001b[49m\u001b[43m,\u001b[49m\n\u001b[32m    225\u001b[39m \u001b[43m    \u001b[49m\u001b[43mcache\u001b[49m\u001b[43m,\u001b[49m\n\u001b[32m    226\u001b[39m \u001b[43m    \u001b[49m\u001b[43mlazy_load_hdus\u001b[49m\u001b[43m,\u001b[49m\n\u001b[32m    227\u001b[39m \u001b[43m    \u001b[49m\u001b[43mignore_missing_simple\u001b[49m\u001b[43m,\u001b[49m\n\u001b[32m    228\u001b[39m \u001b[43m    \u001b[49m\u001b[43muse_fsspec\u001b[49m\u001b[43m=\u001b[49m\u001b[43muse_fsspec\u001b[49m\u001b[43m,\u001b[49m\n\u001b[32m    229\u001b[39m \u001b[43m    \u001b[49m\u001b[43mfsspec_kwargs\u001b[49m\u001b[43m=\u001b[49m\u001b[43mfsspec_kwargs\u001b[49m\u001b[43m,\u001b[49m\n\u001b[32m    230\u001b[39m \u001b[43m    \u001b[49m\u001b[43mdecompress_in_memory\u001b[49m\u001b[43m=\u001b[49m\u001b[43mdecompress_in_memory\u001b[49m\u001b[43m,\u001b[49m\n\u001b[32m    231\u001b[39m \u001b[43m    \u001b[49m\u001b[43m*\u001b[49m\u001b[43m*\u001b[49m\u001b[43mkwargs\u001b[49m\u001b[43m,\u001b[49m\n\u001b[32m    232\u001b[39m \u001b[43m\u001b[49m\u001b[43m)\u001b[49m\n",
      "\u001b[36mFile \u001b[39m\u001b[32mC:\\Users\\Emlilio\\miniforge3\\envs\\REU\\Lib\\site-packages\\astropy\\io\\fits\\hdu\\hdulist.py:484\u001b[39m, in \u001b[36mHDUList.fromfile\u001b[39m\u001b[34m(cls, fileobj, mode, memmap, save_backup, cache, lazy_load_hdus, ignore_missing_simple, **kwargs)\u001b[39m\n\u001b[32m    465\u001b[39m \u001b[38;5;129m@classmethod\u001b[39m\n\u001b[32m    466\u001b[39m \u001b[38;5;28;01mdef\u001b[39;00m\u001b[38;5;250m \u001b[39m\u001b[34mfromfile\u001b[39m(\n\u001b[32m    467\u001b[39m     \u001b[38;5;28mcls\u001b[39m,\n\u001b[32m   (...)\u001b[39m\u001b[32m    475\u001b[39m     **kwargs,\n\u001b[32m    476\u001b[39m ):\n\u001b[32m    477\u001b[39m \u001b[38;5;250m    \u001b[39m\u001b[33;03m\"\"\"\u001b[39;00m\n\u001b[32m    478\u001b[39m \u001b[33;03m    Creates an `HDUList` instance from a file-like object.\u001b[39;00m\n\u001b[32m    479\u001b[39m \n\u001b[32m   (...)\u001b[39m\u001b[32m    482\u001b[39m \u001b[33;03m    documentation for details of the parameters accepted by this method).\u001b[39;00m\n\u001b[32m    483\u001b[39m \u001b[33;03m    \"\"\"\u001b[39;00m\n\u001b[32m--> \u001b[39m\u001b[32m484\u001b[39m     \u001b[38;5;28;01mreturn\u001b[39;00m \u001b[38;5;28;43mcls\u001b[39;49m\u001b[43m.\u001b[49m\u001b[43m_readfrom\u001b[49m\u001b[43m(\u001b[49m\n\u001b[32m    485\u001b[39m \u001b[43m        \u001b[49m\u001b[43mfileobj\u001b[49m\u001b[43m=\u001b[49m\u001b[43mfileobj\u001b[49m\u001b[43m,\u001b[49m\n\u001b[32m    486\u001b[39m \u001b[43m        \u001b[49m\u001b[43mmode\u001b[49m\u001b[43m=\u001b[49m\u001b[43mmode\u001b[49m\u001b[43m,\u001b[49m\n\u001b[32m    487\u001b[39m \u001b[43m        \u001b[49m\u001b[43mmemmap\u001b[49m\u001b[43m=\u001b[49m\u001b[43mmemmap\u001b[49m\u001b[43m,\u001b[49m\n\u001b[32m    488\u001b[39m \u001b[43m        \u001b[49m\u001b[43msave_backup\u001b[49m\u001b[43m=\u001b[49m\u001b[43msave_backup\u001b[49m\u001b[43m,\u001b[49m\n\u001b[32m    489\u001b[39m \u001b[43m        \u001b[49m\u001b[43mcache\u001b[49m\u001b[43m=\u001b[49m\u001b[43mcache\u001b[49m\u001b[43m,\u001b[49m\n\u001b[32m    490\u001b[39m \u001b[43m        \u001b[49m\u001b[43mignore_missing_simple\u001b[49m\u001b[43m=\u001b[49m\u001b[43mignore_missing_simple\u001b[49m\u001b[43m,\u001b[49m\n\u001b[32m    491\u001b[39m \u001b[43m        \u001b[49m\u001b[43mlazy_load_hdus\u001b[49m\u001b[43m=\u001b[49m\u001b[43mlazy_load_hdus\u001b[49m\u001b[43m,\u001b[49m\n\u001b[32m    492\u001b[39m \u001b[43m        \u001b[49m\u001b[43m*\u001b[49m\u001b[43m*\u001b[49m\u001b[43mkwargs\u001b[49m\u001b[43m,\u001b[49m\n\u001b[32m    493\u001b[39m \u001b[43m    \u001b[49m\u001b[43m)\u001b[49m\n",
      "\u001b[36mFile \u001b[39m\u001b[32mC:\\Users\\Emlilio\\miniforge3\\envs\\REU\\Lib\\site-packages\\astropy\\io\\fits\\hdu\\hdulist.py:1186\u001b[39m, in \u001b[36mHDUList._readfrom\u001b[39m\u001b[34m(cls, fileobj, data, mode, memmap, cache, lazy_load_hdus, ignore_missing_simple, use_fsspec, fsspec_kwargs, decompress_in_memory, **kwargs)\u001b[39m\n\u001b[32m   1183\u001b[39m \u001b[38;5;28;01mif\u001b[39;00m fileobj \u001b[38;5;129;01mis\u001b[39;00m \u001b[38;5;129;01mnot\u001b[39;00m \u001b[38;5;28;01mNone\u001b[39;00m:\n\u001b[32m   1184\u001b[39m     \u001b[38;5;28;01mif\u001b[39;00m \u001b[38;5;129;01mnot\u001b[39;00m \u001b[38;5;28misinstance\u001b[39m(fileobj, _File):\n\u001b[32m   1185\u001b[39m         \u001b[38;5;66;03m# instantiate a FITS file object (ffo)\u001b[39;00m\n\u001b[32m-> \u001b[39m\u001b[32m1186\u001b[39m         fileobj = \u001b[43m_File\u001b[49m\u001b[43m(\u001b[49m\n\u001b[32m   1187\u001b[39m \u001b[43m            \u001b[49m\u001b[43mfileobj\u001b[49m\u001b[43m,\u001b[49m\n\u001b[32m   1188\u001b[39m \u001b[43m            \u001b[49m\u001b[43mmode\u001b[49m\u001b[43m=\u001b[49m\u001b[43mmode\u001b[49m\u001b[43m,\u001b[49m\n\u001b[32m   1189\u001b[39m \u001b[43m            \u001b[49m\u001b[43mmemmap\u001b[49m\u001b[43m=\u001b[49m\u001b[43mmemmap\u001b[49m\u001b[43m,\u001b[49m\n\u001b[32m   1190\u001b[39m \u001b[43m            \u001b[49m\u001b[43mcache\u001b[49m\u001b[43m=\u001b[49m\u001b[43mcache\u001b[49m\u001b[43m,\u001b[49m\n\u001b[32m   1191\u001b[39m \u001b[43m            \u001b[49m\u001b[43muse_fsspec\u001b[49m\u001b[43m=\u001b[49m\u001b[43muse_fsspec\u001b[49m\u001b[43m,\u001b[49m\n\u001b[32m   1192\u001b[39m \u001b[43m            \u001b[49m\u001b[43mfsspec_kwargs\u001b[49m\u001b[43m=\u001b[49m\u001b[43mfsspec_kwargs\u001b[49m\u001b[43m,\u001b[49m\n\u001b[32m   1193\u001b[39m \u001b[43m            \u001b[49m\u001b[43mdecompress_in_memory\u001b[49m\u001b[43m=\u001b[49m\u001b[43mdecompress_in_memory\u001b[49m\u001b[43m,\u001b[49m\n\u001b[32m   1194\u001b[39m \u001b[43m        \u001b[49m\u001b[43m)\u001b[49m\n\u001b[32m   1195\u001b[39m     \u001b[38;5;66;03m# The Astropy mode is determined by the _File initializer if the\u001b[39;00m\n\u001b[32m   1196\u001b[39m     \u001b[38;5;66;03m# supplied mode was None\u001b[39;00m\n\u001b[32m   1197\u001b[39m     mode = fileobj.mode\n",
      "\u001b[36mFile \u001b[39m\u001b[32mC:\\Users\\Emlilio\\miniforge3\\envs\\REU\\Lib\\site-packages\\astropy\\io\\fits\\file.py:240\u001b[39m, in \u001b[36m_File.__init__\u001b[39m\u001b[34m(self, fileobj, mode, memmap, overwrite, cache, use_fsspec, fsspec_kwargs, decompress_in_memory)\u001b[39m\n\u001b[32m    238\u001b[39m     \u001b[38;5;28mself\u001b[39m._open_fileobj(fileobj, mode, overwrite)\n\u001b[32m    239\u001b[39m \u001b[38;5;28;01melif\u001b[39;00m \u001b[38;5;28misinstance\u001b[39m(fileobj, (\u001b[38;5;28mstr\u001b[39m, \u001b[38;5;28mbytes\u001b[39m)):\n\u001b[32m--> \u001b[39m\u001b[32m240\u001b[39m     \u001b[38;5;28;43mself\u001b[39;49m\u001b[43m.\u001b[49m\u001b[43m_open_filename\u001b[49m\u001b[43m(\u001b[49m\u001b[43mfileobj\u001b[49m\u001b[43m,\u001b[49m\u001b[43m \u001b[49m\u001b[43mmode\u001b[49m\u001b[43m,\u001b[49m\u001b[43m \u001b[49m\u001b[43moverwrite\u001b[49m\u001b[43m)\u001b[49m\n\u001b[32m    241\u001b[39m \u001b[38;5;28;01melse\u001b[39;00m:\n\u001b[32m    242\u001b[39m     \u001b[38;5;28mself\u001b[39m._open_filelike(fileobj, mode, overwrite)\n",
      "\u001b[36mFile \u001b[39m\u001b[32mC:\\Users\\Emlilio\\miniforge3\\envs\\REU\\Lib\\site-packages\\astropy\\io\\fits\\file.py:701\u001b[39m, in \u001b[36m_File._open_filename\u001b[39m\u001b[34m(self, filename, mode, overwrite)\u001b[39m\n\u001b[32m    698\u001b[39m ext = os.path.splitext(\u001b[38;5;28mself\u001b[39m.name)[\u001b[32m1\u001b[39m]\n\u001b[32m    700\u001b[39m \u001b[38;5;28;01mif\u001b[39;00m \u001b[38;5;129;01mnot\u001b[39;00m \u001b[38;5;28mself\u001b[39m._try_read_compressed(\u001b[38;5;28mself\u001b[39m.name, magic, mode, ext=ext):\n\u001b[32m--> \u001b[39m\u001b[32m701\u001b[39m     \u001b[38;5;28mself\u001b[39m._file = \u001b[38;5;28;43mopen\u001b[39;49m\u001b[43m(\u001b[49m\u001b[38;5;28;43mself\u001b[39;49m\u001b[43m.\u001b[49m\u001b[43mname\u001b[49m\u001b[43m,\u001b[49m\u001b[43m \u001b[49m\u001b[43mIO_FITS_MODES\u001b[49m\u001b[43m[\u001b[49m\u001b[43mmode\u001b[49m\u001b[43m]\u001b[49m\u001b[43m)\u001b[49m\n\u001b[32m    702\u001b[39m     \u001b[38;5;28mself\u001b[39m.close_on_error = \u001b[38;5;28;01mTrue\u001b[39;00m\n\u001b[32m    704\u001b[39m \u001b[38;5;66;03m# Make certain we're back at the beginning of the file\u001b[39;00m\n\u001b[32m    705\u001b[39m \u001b[38;5;66;03m# BZ2File does not support seek when the file is open for writing, but\u001b[39;00m\n\u001b[32m    706\u001b[39m \u001b[38;5;66;03m# when opening a file for write, bz2.BZ2File always truncates anyway.\u001b[39;00m\n",
      "\u001b[31mFileNotFoundError\u001b[39m: [Errno 2] No such file or directory: '/Users/Emlilio/School/Internships/UR ASTRO/Data/MaNGA/manga-10001-3701-MAPS-HYB10-MILESHC-MASTARSSP.fits.gz'"
     ]
    }
   ],
   "source": [
    "\n",
    "cube = fits.open(cube_fn)                        #file requires opening\n",
    "stellar_vel = cube['STELLAR_VEL'].data           #for the following we create variable representing data from file HDU's\n",
    "stellar_vel_ivar = cube['STELLAR_VEL_IVAR'].data \n",
    "stellar_mask = cube['STELLAR_VEL_MASK'].data\n",
    "halpha_vel = cube['EMLINE_GVEL'].data[23]        #the following three have several channels, but were only concerned with the Halpha spectra (channel 23)\n",
    "halpha_gvel_ivar = cube['EMLINE_GVEL_IVAR'].data[23]\n",
    "halpha_gvel_mask = cube['EMLINE_GVEL_MASK'].data[23]\n",
    "flux = cube['SPX_MFLUX'].data\n",
    "\n",
    "cube.close()\n"
   ]
  },
  {
   "cell_type": "code",
   "execution_count": null,
   "id": "cf83a6a7-fbad-43c3-8a02-8bc7f2275b2a",
   "metadata": {},
   "outputs": [],
   "source": [
    "drpall = DATA_FOLDER + 'drpall_ttype_R90.fits'           #access folder with ttype data\n",
    "drpalltt = Table.read(drpall, format=\"fits\",hdu=1)   #create and visualize table for quick reference\n",
    "drpalltt [:5]\n"
   ]
  },
  {
   "cell_type": "code",
   "execution_count": 34,
   "id": "1c855643-6b48-4fca-93fc-7d300c87da90",
   "metadata": {},
   "outputs": [],
   "source": [
    "# make dictionary from drpalltt\n",
    "\n",
    "drpalltt_dict = {}                    #create the dictionary\n",
    "\n",
    "for i in range(len(drpalltt)):           #loop that repeats for the length of drpalltt file\n",
    "    plateifu = drpalltt['plateifu'][i]    #variable that holds the plateifu withing drpalltt at i(current row) \n",
    "    drpalltt_dict[plateifu] = i            #assigns the plateifu value to the position of i\n"
   ]
  },
  {
   "cell_type": "code",
   "execution_count": 35,
   "id": "841fe131-e52a-4985-aacc-f837e6d15520",
   "metadata": {},
   "outputs": [],
   "source": [
    "# extract Ttype and determine if spiral\n",
    "loc = drpalltt_dict[test_galaxy]   #create variable for the location of desired plateifu"
   ]
  },
  {
   "cell_type": "code",
   "execution_count": 36,
   "id": "9894e105-d15a-46d2-9dae-2895331b9f1f",
   "metadata": {},
   "outputs": [
    {
     "data": {
      "text/plain": [
       "'non-spiral'"
      ]
     },
     "execution_count": 36,
     "metadata": {},
     "output_type": "execute_result"
    }
   ],
   "source": [
    "ttype = drpalltt['TType'][loc]     #create variable for the ttype within drpalltt at loc\n",
    "if ttype > 0:                      #simple if/else statement determing wether the ttype corresponds with spiral or no\n",
    "    galtype = 'Spiral'\n",
    "else: \n",
    "    galtype = 'non-spiral'\n",
    "\n",
    "galtype\n"
   ]
  },
  {
   "cell_type": "code",
   "execution_count": 37,
   "id": "6f4f9536-0ce9-40ef-994b-f72a77dc9f0f",
   "metadata": {},
   "outputs": [
    {
     "ename": "NameError",
     "evalue": "name 'stellar_vel' is not defined",
     "output_type": "error",
     "traceback": [
      "\u001b[31m---------------------------------------------------------------------------\u001b[39m",
      "\u001b[31mNameError\u001b[39m                                 Traceback (most recent call last)",
      "\u001b[36mCell\u001b[39m\u001b[36m \u001b[39m\u001b[32mIn[37]\u001b[39m\u001b[32m, line 1\u001b[39m\n\u001b[32m----> \u001b[39m\u001b[32m1\u001b[39m plt.imshow(\u001b[43mstellar_vel\u001b[49m,cmap = \u001b[33m'\u001b[39m\u001b[33mbwr\u001b[39m\u001b[33m'\u001b[39m)     \u001b[38;5;66;03m#creates a color map of data, (data set, cmap = 'desired color code')\u001b[39;00m\n\u001b[32m      2\u001b[39m plt.colorbar(label = \u001b[33m'\u001b[39m\u001b[33mvelocity [km/s]\u001b[39m\u001b[33m'\u001b[39m)  \u001b[38;5;66;03m#following are just labels\u001b[39;00m\n\u001b[32m      3\u001b[39m plt.gca().invert_yaxis()\n",
      "\u001b[31mNameError\u001b[39m: name 'stellar_vel' is not defined"
     ]
    }
   ],
   "source": [
    "plt.imshow(stellar_vel,cmap = 'bwr')     #creates a color map of data, (data set, cmap = 'desired color code')\n",
    "plt.colorbar(label = 'velocity [km/s]')  #following are just labels\n",
    "plt.gca().invert_yaxis()\n",
    "plt.xlabel('spaxel')\n",
    "plt.ylabel('spaxel')\n",
    "plt.title(test_galaxy+' Stellar Velocity' + '(' + galtype + ')')\n",
    "plt.savefig(DATA_FOLDER + 'Plots/'+test_galaxy+'_Stellar_Velocity.png') #saves the generated figure to initial data folder directory with name and format\n",
    "val_max = stellar_vel.max()\n",
    "val_min = stellar_vel.min()\n",
    "print('max = '+ str(val_max) + 'min = ' + str(val_min))\n",
    "\n",
    "\n"
   ]
  },
  {
   "cell_type": "code",
   "execution_count": 38,
   "id": "5a89400b-14e4-4864-90d2-33d2f002efa2",
   "metadata": {},
   "outputs": [
    {
     "ename": "NameError",
     "evalue": "name 'stellar_mask' is not defined",
     "output_type": "error",
     "traceback": [
      "\u001b[31m---------------------------------------------------------------------------\u001b[39m",
      "\u001b[31mNameError\u001b[39m                                 Traceback (most recent call last)",
      "\u001b[36mCell\u001b[39m\u001b[36m \u001b[39m\u001b[32mIn[38]\u001b[39m\u001b[32m, line 2\u001b[39m\n\u001b[32m      1\u001b[39m \u001b[38;5;66;03m#maps out usefull data points from removed spaxels\u001b[39;00m\n\u001b[32m----> \u001b[39m\u001b[32m2\u001b[39m plt.imshow(\u001b[43mstellar_mask\u001b[49m, cmap = \u001b[33m'\u001b[39m\u001b[33mgist_grey\u001b[39m\u001b[33m'\u001b[39m)\n\u001b[32m      3\u001b[39m plt.colorbar(label = \u001b[33m'\u001b[39m\u001b[33mmask\u001b[39m\u001b[33m'\u001b[39m)\n\u001b[32m      4\u001b[39m plt.gca().invert_yaxis()\n",
      "\u001b[31mNameError\u001b[39m: name 'stellar_mask' is not defined"
     ]
    }
   ],
   "source": [
    "#maps out usefull data points from removed spaxels\n",
    "plt.imshow(stellar_mask, cmap = 'gist_grey')\n",
    "plt.colorbar(label = 'mask')\n",
    "plt.gca().invert_yaxis()\n",
    "plt.xlabel('spaxel')\n",
    "plt.ylabel('spaxel')\n",
    "plt.title(test_galaxy+ ' Stellar Mask'+ '(' + galtype + ')')\n",
    "plt.savefig(DATA_FOLDER + 'Plots/'+test_galaxy+'_Stellar_Mask.png')"
   ]
  },
  {
   "cell_type": "code",
   "execution_count": 39,
   "id": "f23548ea-fad1-422d-958d-a5a05576dfaf",
   "metadata": {},
   "outputs": [
    {
     "ename": "NameError",
     "evalue": "name 'stellar_vel' is not defined",
     "output_type": "error",
     "traceback": [
      "\u001b[31m---------------------------------------------------------------------------\u001b[39m",
      "\u001b[31mNameError\u001b[39m                                 Traceback (most recent call last)",
      "\u001b[36mCell\u001b[39m\u001b[36m \u001b[39m\u001b[32mIn[39]\u001b[39m\u001b[32m, line 2\u001b[39m\n\u001b[32m      1\u001b[39m \u001b[38;5;66;03m#repeat for H-alpha velocity map\u001b[39;00m\n\u001b[32m----> \u001b[39m\u001b[32m2\u001b[39m val_max = \u001b[43mstellar_vel\u001b[49m.max()\n\u001b[32m      3\u001b[39m val_min = stellar_vel.min()\n\u001b[32m      4\u001b[39m \u001b[38;5;28mprint\u001b[39m(\u001b[33m'\u001b[39m\u001b[33mmax = \u001b[39m\u001b[33m'\u001b[39m+ \u001b[38;5;28mstr\u001b[39m(val_max) + \u001b[33m'\u001b[39m\u001b[33mmin = \u001b[39m\u001b[33m'\u001b[39m + \u001b[38;5;28mstr\u001b[39m(val_min))\n",
      "\u001b[31mNameError\u001b[39m: name 'stellar_vel' is not defined"
     ]
    }
   ],
   "source": [
    "#repeat for H-alpha velocity map\n",
    "val_max = stellar_vel.max()\n",
    "val_min = stellar_vel.min()\n",
    "print('max = '+ str(val_max) + 'min = ' + str(val_min))\n",
    "\n",
    "if (val_max >= abs(val_min)):\n",
    "    lim = val_max\n",
    "else:\n",
    "    lim = val_min\n",
    "print(lim)\n",
    "plt.imshow(halpha_vel,cmap = 'bwr',vmin = -lim,vmax = lim)\n",
    "plt.colorbar(label = r'H$\\alpha$ Velocity [km/s]')\n",
    "plt.gca().invert_yaxis()\n",
    "plt.xlabel('spaxel')\n",
    "plt.ylabel('spaxel')\n",
    "plt.title(test_galaxy+r' H$\\alpha$ Velocity [km/s]' + '(' + galtype + ')')\n",
    "plt.savefig(DATA_FOLDER + 'Plots/'+test_galaxy+'_H-alpha_Velocity.png')\n"
   ]
  },
  {
   "cell_type": "code",
   "execution_count": 40,
   "id": "ddc9558d-fc25-4e7b-900a-cb94a4c7ddc1",
   "metadata": {},
   "outputs": [
    {
     "ename": "NameError",
     "evalue": "name 'halpha_vel' is not defined",
     "output_type": "error",
     "traceback": [
      "\u001b[31m---------------------------------------------------------------------------\u001b[39m",
      "\u001b[31mNameError\u001b[39m                                 Traceback (most recent call last)",
      "\u001b[36mCell\u001b[39m\u001b[36m \u001b[39m\u001b[32mIn[40]\u001b[39m\u001b[32m, line 1\u001b[39m\n\u001b[32m----> \u001b[39m\u001b[32m1\u001b[39m mhalpha_vel = ma.array(\u001b[43mhalpha_vel\u001b[49m, mask = stellar_mask)\n",
      "\u001b[31mNameError\u001b[39m: name 'halpha_vel' is not defined"
     ]
    }
   ],
   "source": [
    "mhalpha_vel = ma.array(halpha_vel, mask = stellar_mask)"
   ]
  },
  {
   "cell_type": "code",
   "execution_count": 41,
   "id": "71371049-5c6e-4e8a-9c1d-2c4d860b667e",
   "metadata": {},
   "outputs": [
    {
     "ename": "NameError",
     "evalue": "name 'mhalpha_vel' is not defined",
     "output_type": "error",
     "traceback": [
      "\u001b[31m---------------------------------------------------------------------------\u001b[39m",
      "\u001b[31mNameError\u001b[39m                                 Traceback (most recent call last)",
      "\u001b[36mCell\u001b[39m\u001b[36m \u001b[39m\u001b[32mIn[41]\u001b[39m\u001b[32m, line 1\u001b[39m\n\u001b[32m----> \u001b[39m\u001b[32m1\u001b[39m val_max = \u001b[43mmhalpha_vel\u001b[49m.max()\n\u001b[32m      2\u001b[39m val_min = mhalpha_vel.min()\n\u001b[32m      3\u001b[39m \u001b[38;5;28mprint\u001b[39m(\u001b[33m'\u001b[39m\u001b[33mmax = \u001b[39m\u001b[33m'\u001b[39m+ \u001b[38;5;28mstr\u001b[39m(val_max) + \u001b[33m'\u001b[39m\u001b[33mmin = \u001b[39m\u001b[33m'\u001b[39m + \u001b[38;5;28mstr\u001b[39m(val_min))\n",
      "\u001b[31mNameError\u001b[39m: name 'mhalpha_vel' is not defined"
     ]
    }
   ],
   "source": [
    "val_max = mhalpha_vel.max()\n",
    "val_min = mhalpha_vel.min()\n",
    "print('max = '+ str(val_max) + 'min = ' + str(val_min))\n",
    "\n",
    "if (val_max >= abs(val_min)):\n",
    "    lim = val_max\n",
    "else:\n",
    "    lim = val_min\n",
    "print(lim)\n",
    "\n",
    "plt.imshow(mhalpha_vel,cmap = 'bwr',vmin = -lim,vmax = lim)     #creates a color map of data, (data set, cmap = 'desired color code')\n",
    "plt.colorbar(label = 'Velocity [km/s]')  #following are just labels\n",
    "plt.gca().invert_yaxis()\n",
    "plt.xlabel('spaxel')\n",
    "plt.ylabel('spaxel')\n",
    "plt.title(test_galaxy+r' Masked H$\\alpha$ Velocity' + '(' + galtype + ')')\n",
    "plt.savefig(DATA_FOLDER + 'Plots/'+test_galaxy+'_Masked_Halpha_Velocity.png')"
   ]
  },
  {
   "cell_type": "code",
   "execution_count": 42,
   "id": "8beda090-a148-4798-a41b-e6d720f8fbc1",
   "metadata": {},
   "outputs": [
    {
     "ename": "NameError",
     "evalue": "name 'stellar_vel' is not defined",
     "output_type": "error",
     "traceback": [
      "\u001b[31m---------------------------------------------------------------------------\u001b[39m",
      "\u001b[31mNameError\u001b[39m                                 Traceback (most recent call last)",
      "\u001b[36mCell\u001b[39m\u001b[36m \u001b[39m\u001b[32mIn[42]\u001b[39m\u001b[32m, line 1\u001b[39m\n\u001b[32m----> \u001b[39m\u001b[32m1\u001b[39m mstellar_vel = ma.array(\u001b[43mstellar_vel\u001b[49m, mask = stellar_mask)\n",
      "\u001b[31mNameError\u001b[39m: name 'stellar_vel' is not defined"
     ]
    }
   ],
   "source": [
    "mstellar_vel = ma.array(stellar_vel, mask = stellar_mask)"
   ]
  },
  {
   "cell_type": "code",
   "execution_count": 43,
   "id": "0d9e1ac9-e1c2-46b9-9b17-73193b40c38a",
   "metadata": {},
   "outputs": [
    {
     "ename": "NameError",
     "evalue": "name 'mstellar_vel' is not defined",
     "output_type": "error",
     "traceback": [
      "\u001b[31m---------------------------------------------------------------------------\u001b[39m",
      "\u001b[31mNameError\u001b[39m                                 Traceback (most recent call last)",
      "\u001b[36mCell\u001b[39m\u001b[36m \u001b[39m\u001b[32mIn[43]\u001b[39m\u001b[32m, line 1\u001b[39m\n\u001b[32m----> \u001b[39m\u001b[32m1\u001b[39m plt.imshow(\u001b[43mmstellar_vel\u001b[49m,cmap = \u001b[33m'\u001b[39m\u001b[33mbwr\u001b[39m\u001b[33m'\u001b[39m)     \u001b[38;5;66;03m#creates a color map of data, (data set, cmap = 'desired color code')\u001b[39;00m\n\u001b[32m      2\u001b[39m plt.colorbar(label = \u001b[33m'\u001b[39m\u001b[33mvelocity [km/s]\u001b[39m\u001b[33m'\u001b[39m)  \u001b[38;5;66;03m#following are just labels\u001b[39;00m\n\u001b[32m      3\u001b[39m plt.gca().invert_yaxis()\n",
      "\u001b[31mNameError\u001b[39m: name 'mstellar_vel' is not defined"
     ]
    }
   ],
   "source": [
    "plt.imshow(mstellar_vel,cmap = 'bwr')     #creates a color map of data, (data set, cmap = 'desired color code')\n",
    "plt.colorbar(label = 'velocity [km/s]')  #following are just labels\n",
    "plt.gca().invert_yaxis()\n",
    "plt.xlabel('spaxel')\n",
    "plt.ylabel('spaxel')\n",
    "plt.title(test_galaxy+ ' Masked Stellar Velocity' + '(' + galtype + ')')\n",
    "plt.savefig(DATA_FOLDER + 'Plots/'+test_galaxy+'_Masked_Stellar_Velocity.png')"
   ]
  },
  {
   "cell_type": "code",
   "execution_count": 44,
   "id": "17cbe148-4d17-4a61-86ec-25b8c7dc3be7",
   "metadata": {},
   "outputs": [
    {
     "ename": "NameError",
     "evalue": "name 'flux' is not defined",
     "output_type": "error",
     "traceback": [
      "\u001b[31m---------------------------------------------------------------------------\u001b[39m",
      "\u001b[31mNameError\u001b[39m                                 Traceback (most recent call last)",
      "\u001b[36mCell\u001b[39m\u001b[36m \u001b[39m\u001b[32mIn[44]\u001b[39m\u001b[32m, line 3\u001b[39m\n\u001b[32m      1\u001b[39m \u001b[38;5;66;03m#repeat for flux luminosity map\u001b[39;00m\n\u001b[32m----> \u001b[39m\u001b[32m3\u001b[39m plt.imshow(\u001b[43mflux\u001b[49m,cmap = \u001b[33m'\u001b[39m\u001b[33mhot\u001b[39m\u001b[33m'\u001b[39m)\n\u001b[32m      4\u001b[39m plt.colorbar(label = \u001b[33m'\u001b[39m\u001b[33m10-17 erg/s/cm2/Å/spaxel\u001b[39m\u001b[33m'\u001b[39m)\n\u001b[32m      5\u001b[39m plt.gca().invert_yaxis()\n",
      "\u001b[31mNameError\u001b[39m: name 'flux' is not defined"
     ]
    }
   ],
   "source": [
    "#repeat for flux luminosity map\n",
    "\n",
    "plt.imshow(flux,cmap = 'hot')\n",
    "plt.colorbar(label = '10-17 erg/s/cm2/Å/spaxel')\n",
    "plt.gca().invert_yaxis()\n",
    "plt.xlabel('spaxel')\n",
    "plt.ylabel('spaxel')\n",
    "plt.title(test_galaxy+' Flux' + '(' + galtype + ')')\n",
    "plt.savefig(DATA_FOLDER + 'Plots/'+test_galaxy+'_Flux.png')"
   ]
  },
  {
   "cell_type": "code",
   "execution_count": 45,
   "id": "89e39011-1bab-49e6-85a5-530fee6bde80",
   "metadata": {},
   "outputs": [
    {
     "data": {
      "text/plain": [
       "7"
      ]
     },
     "execution_count": 45,
     "metadata": {},
     "output_type": "execute_result"
    }
   ],
   "source": [
    "drpalltt_dict[test_galaxy]"
   ]
  },
  {
   "cell_type": "code",
   "execution_count": 46,
   "id": "ab1c9551-2024-4684-a840-d68ac4e672b6",
   "metadata": {},
   "outputs": [
    {
     "ename": "NameError",
     "evalue": "name 'flux' is not defined",
     "output_type": "error",
     "traceback": [
      "\u001b[31m---------------------------------------------------------------------------\u001b[39m",
      "\u001b[31mNameError\u001b[39m                                 Traceback (most recent call last)",
      "\u001b[36mCell\u001b[39m\u001b[36m \u001b[39m\u001b[32mIn[46]\u001b[39m\u001b[32m, line 6\u001b[39m\n\u001b[32m      1\u001b[39m fig,axes = plt.subplots(\u001b[32m1\u001b[39m,\u001b[32m3\u001b[39m, figsize=(\u001b[32m20\u001b[39m,\u001b[32m5\u001b[39m))\n\u001b[32m      2\u001b[39m fig.suptitle(test_galaxy)\n\u001b[32m----> \u001b[39m\u001b[32m6\u001b[39m im = axes[\u001b[32m1\u001b[39m].imshow(\u001b[43mflux\u001b[49m, cmap =\u001b[33m'\u001b[39m\u001b[33mhot\u001b[39m\u001b[33m'\u001b[39m)\n\u001b[32m      7\u001b[39m axes[\u001b[32m1\u001b[39m].set_title(\u001b[33m'\u001b[39m\u001b[33mFlux\u001b[39m\u001b[33m'\u001b[39m)\n\u001b[32m      8\u001b[39m axes[\u001b[32m1\u001b[39m].set_xlabel(\u001b[33m'\u001b[39m\u001b[33mspaxel\u001b[39m\u001b[33m'\u001b[39m)\n",
      "\u001b[31mNameError\u001b[39m: name 'flux' is not defined"
     ]
    },
    {
     "data": {
      "image/png": "[encoded data removed]",
      "text/plain": [
       "<Figure size 2000x500 with 3 Axes>"
      ]
     },
     "metadata": {},
     "output_type": "display_data"
    }
   ],
   "source": [
    "fig,axes = plt.subplots(1,3, figsize=(20,5))\n",
    "fig.suptitle(test_galaxy)\n",
    "\n",
    "\n",
    "\n",
    "im = axes[1].imshow(flux, cmap ='hot')\n",
    "axes[1].set_title('Flux')\n",
    "axes[1].set_xlabel('spaxel')\n",
    "axes[1].set_ylabel('spaxel')\n",
    "\n",
    "axes[1].invert_yaxis()\n",
    "\n",
    "fig.colorbar(im, ax = axes[1],label = '10-17 erg/s/cm2/Å/spaxel' )\n",
    "\n",
    "\n",
    "\n",
    "im = axes[0].imshow(mstellar_vel, cmap ='bwr')\n",
    "axes[0].set_xlabel('spaxel')\n",
    "axes[0].set_ylabel('spaxel')\n",
    "axes[0].set_title('Masked Stellar Velocity')\n",
    "axes[0].invert_yaxis()\n",
    "\n",
    "fig.colorbar(im, ax = axes[0],label = 'Velocity [km/s]' )\n",
    "\n",
    "\n",
    "im = axes[2].imshow(mhalpha_vel, cmap ='bwr')\n",
    "axes[2].set_xlabel('spaxel')\n",
    "axes[2].set_ylabel('spaxel')\n",
    "axes[2].set_title('Masked H-alpha Velocity')\n",
    "axes[2].invert_yaxis()\n",
    "\n",
    "fig.colorbar(im, ax = axes[2],label = 'Velocity [km/s]' )"
   ]
  },
  {
   "cell_type": "code",
   "execution_count": 61,
   "id": "5ba8c3b1-6358-4720-9b84-d52ac947f10c",
   "metadata": {},
   "outputs": [
    {
     "data": {
      "text/html": [
       "<i>Row index=7</i>\n",
       "<table id=\"table2106068382608\">\n",
       "<thead><tr><th>plate</th><th>ifudsgn</th><th>plateifu</th><th>mangaid</th><th>versdrp2</th><th>versdrp3</th><th>verscore</th><th>versutil</th><th>versprim</th><th>platetyp</th><th>srvymode</th><th>objra</th><th>objdec</th><th>ifuglon</th><th>ifuglat</th><th>ifura</th><th>ifudec</th><th>ebvgal</th><th>nexp</th><th>exptime</th><th>drp3qual</th><th>bluesn2</th><th>redsn2</th><th>harname</th><th>frlplug</th><th>cartid</th><th>designid</th><th>cenra</th><th>cendec</th><th>airmsmin</th><th>airmsmed</th><th>airmsmax</th><th>seemin</th><th>seemed</th><th>seemax</th><th>transmin</th><th>transmed</th><th>transmax</th><th>mjdmin</th><th>mjdmed</th><th>mjdmax</th><th>gfwhm</th><th>rfwhm</th><th>ifwhm</th><th>zfwhm</th><th>mngtarg1</th><th>mngtarg2</th><th>mngtarg3</th><th>catidnum</th><th>plttarg</th><th>manga_tileid</th><th>nsa_iauname</th><th>ifudesignsize</th><th>ifutargetsize</th><th>ifudesignwrongsize</th><th>z</th><th>zmin</th><th>zmax</th><th>szmin</th><th>szmax</th><th>ezmin</th><th>ezmax</th><th>probs</th><th>pweight</th><th>psweight</th><th>psrweight</th><th>sweight</th><th>srweight</th><th>eweight</th><th>esweight</th><th>esrweight</th><th>nsa_field</th><th>nsa_run</th><th>nsa_camcol</th><th>nsa_version</th><th>nsa_nsaid</th><th>nsa_nsaid_v1b</th><th>nsa_z</th><th>nsa_zdist</th><th>nsa_sersic_absmag</th><th>nsa_elpetro_absmag</th><th>nsa_elpetro_amivar</th><th>nsa_sersic_mass</th><th>nsa_elpetro_mass</th><th>nsa_elpetro_ba</th><th>nsa_elpetro_phi</th><th>nsa_extinction</th><th>nsa_elpetro_th50_r</th><th>nsa_petro_th50</th><th>nsa_petro_flux</th><th>nsa_petro_flux_ivar</th><th>nsa_elpetro_flux</th><th>nsa_elpetro_flux_ivar</th><th>nsa_sersic_ba</th><th>nsa_sersic_n</th><th>nsa_sersic_phi</th><th>nsa_sersic_th50</th><th>nsa_sersic_flux</th><th>nsa_sersic_flux_ivar</th><th>TType</th><th>R90</th></tr></thead>\n",
       "<thead><tr><th>int64</th><th>bytes32</th><th>bytes32</th><th>bytes32</th><th>bytes32</th><th>bytes32</th><th>bytes32</th><th>bytes32</th><th>bytes32</th><th>bytes32</th><th>bytes32</th><th>float64</th><th>float64</th><th>float64</th><th>float64</th><th>float64</th><th>float64</th><th>float64</th><th>int64</th><th>float64</th><th>int64</th><th>float64</th><th>float64</th><th>bytes53</th><th>int64</th><th>bytes32</th><th>int64</th><th>float64</th><th>float64</th><th>float64</th><th>float64</th><th>float64</th><th>float64</th><th>float64</th><th>float64</th><th>float64</th><th>float64</th><th>float64</th><th>int64</th><th>int64</th><th>int64</th><th>float64</th><th>float64</th><th>float64</th><th>float64</th><th>int64</th><th>int64</th><th>int64</th><th>int64</th><th>bytes32</th><th>int64</th><th>bytes19</th><th>int64</th><th>int64</th><th>int64</th><th>float64</th><th>float64</th><th>float64</th><th>float64</th><th>float64</th><th>float64</th><th>float64</th><th>float64</th><th>float64</th><th>float64</th><th>float64</th><th>float64</th><th>float64</th><th>float64</th><th>float64</th><th>float64</th><th>int64</th><th>int64</th><th>int64</th><th>bytes6</th><th>int64</th><th>int64</th><th>float64</th><th>float64</th><th>float64[7]</th><th>float64[7]</th><th>float64[7]</th><th>float64</th><th>float64</th><th>float64</th><th>float64</th><th>float64[7]</th><th>float64</th><th>float64</th><th>float64[7]</th><th>float64[7]</th><th>float64[7]</th><th>float64[7]</th><th>float64</th><th>float64</th><th>float64</th><th>float64</th><th>float64[7]</th><th>float64[7]</th><th>float64</th><th>float64</th></tr></thead>\n",
       "<tr><td>10001</td><td>3701</td><td>10001-3701</td><td>1-48111</td><td>v3_1_1</td><td>v3_1_1</td><td>v1_9_1</td><td>v5_5_36</td><td>v2_9</td><td>APOGEE-2&amp;MaNGA</td><td>MaNGA dither</td><td>132.465646765</td><td>57.1437279024</td><td>159.95692306</td><td>38.4321715029</td><td>132.46565</td><td>57.143728</td><td>0.0687194</td><td>9</td><td>8100.81</td><td>0</td><td>20.0835</td><td>41.292</td><td>ma062</td><td>23</td><td>3</td><td>9114</td><td>134.41357</td><td>57.604214</td><td>1.10448</td><td>1.15353</td><td>1.21697</td><td>1.78219</td><td>1.85994</td><td>2.12685</td><td>0.898721</td><td>0.929654</td><td>0.937466</td><td>57372</td><td>57373</td><td>57373</td><td>2.78588</td><td>2.68683</td><td>2.63285</td><td>2.60127</td><td>2080</td><td>0</td><td>0</td><td>1</td><td>plateTargets-1.par</td><td>6013</td><td>J084951.74+570837.4</td><td>37</td><td>19</td><td>37</td><td>0.0394191</td><td>0.0189832</td><td>0.0262126</td><td>0.0381547</td><td>0.0423817</td><td>0.0175985</td><td>0.0270279</td><td>0.810819</td><td>-999.0</td><td>0.657677</td><td>0.685939</td><td>1.0596</td><td>1.13493</td><td>-999.0</td><td>0.5949</td><td>0.61793</td><td>75</td><td>1411</td><td>6</td><td>v1_0_1</td><td>51179</td><td>-999</td><td>0.0394191</td><td>0.0397999</td><td>-10.2819 .. -19.838</td><td>-8.79796 .. -19.5201</td><td>0.00293283 .. 294.666</td><td>6865540000.0</td><td>5164150000.0</td><td>0.907966</td><td>177.501</td><td>0.573355 .. 0.102291</td><td>1.64323</td><td>1.65693</td><td>-0.0155907 .. 385.377</td><td>31.2106 .. 0.00303804</td><td>0.0121696 .. 395.179</td><td>23.3446 .. 0.00302707</td><td>0.671381</td><td>5.9563</td><td>149.576</td><td>0.887253</td><td>0.0496394 .. 528.956</td><td>47.3829 .. 0.0898817</td><td>-1.1476022005081177</td><td>4.594825267791748</td></tr>\n",
       "</table>"
      ],
      "text/plain": [
       "<Row index=7>\n",
       "plate ifudsgn  plateifu  mangaid versdrp2 versdrp3 verscore versutil versprim    platetyp      srvymode       objra         objdec      ifuglon       ifuglat      ifura     ifudec    ebvgal   nexp exptime drp3qual bluesn2  redsn2 harname frlplug  cartid designid   cenra     cendec  airmsmin airmsmed airmsmax  seemin  seemed  seemax transmin transmed transmax mjdmin mjdmed mjdmax  gfwhm   rfwhm   ifwhm   zfwhm  mngtarg1 mngtarg2 mngtarg3 catidnum      plttarg       manga_tileid     nsa_iauname     ifudesignsize ifutargetsize ifudesignwrongsize     z        zmin      zmax     szmin     szmax     ezmin     ezmax    probs   pweight psweight psrweight sweight srweight eweight esweight esrweight nsa_field nsa_run nsa_camcol nsa_version nsa_nsaid nsa_nsaid_v1b   nsa_z   nsa_zdist  nsa_sersic_absmag   nsa_elpetro_absmag    nsa_elpetro_amivar  nsa_sersic_mass nsa_elpetro_mass nsa_elpetro_ba nsa_elpetro_phi    nsa_extinction    nsa_elpetro_th50_r nsa_petro_th50     nsa_petro_flux     nsa_petro_flux_ivar    nsa_elpetro_flux   nsa_elpetro_flux_ivar nsa_sersic_ba nsa_sersic_n nsa_sersic_phi nsa_sersic_th50   nsa_sersic_flux    nsa_sersic_flux_ivar        TType               R90       \n",
       "int64 bytes32  bytes32   bytes32 bytes32  bytes32  bytes32  bytes32  bytes32     bytes32       bytes32       float64       float64      float64       float64     float64   float64   float64  int64 float64  int64   float64 float64 bytes53  int64  bytes32  int64    float64   float64  float64  float64  float64  float64 float64 float64 float64  float64  float64  int64  int64  int64  float64 float64 float64 float64  int64    int64    int64    int64        bytes32          int64           bytes19           int64         int64           int64         float64   float64   float64   float64   float64   float64   float64  float64  float64 float64   float64  float64 float64  float64 float64   float64    int64    int64    int64       bytes6     int64       int64      float64   float64       float64[7]          float64[7]            float64[7]          float64         float64         float64         float64          float64[7]           float64          float64           float64[7]            float64[7]           float64[7]            float64[7]         float64      float64       float64         float64          float64[7]           float64[7]            float64            float64     \n",
       "----- ------- ---------- ------- -------- -------- -------- -------- -------- -------------- ------------ ------------- ------------- ------------ ------------- --------- --------- --------- ----- ------- -------- ------- ------- ------- ------- ------- -------- --------- --------- -------- -------- -------- ------- ------- ------- -------- -------- -------- ------ ------ ------ ------- ------- ------- ------- -------- -------- -------- -------- ------------------ ------------ ------------------- ------------- ------------- ------------------ --------- --------- --------- --------- --------- --------- --------- -------- ------- -------- --------- ------- -------- ------- -------- --------- --------- ------- ---------- ----------- --------- ------------- --------- --------- ------------------- -------------------- --------------------- --------------- ---------------- -------------- --------------- -------------------- ------------------ -------------- --------------------- --------------------- -------------------- --------------------- ------------- ------------ -------------- --------------- -------------------- -------------------- ------------------- -----------------\n",
       "10001    3701 10001-3701 1-48111   v3_1_1   v3_1_1   v1_9_1  v5_5_36     v2_9 APOGEE-2&MaNGA MaNGA dither 132.465646765 57.1437279024 159.95692306 38.4321715029 132.46565 57.143728 0.0687194     9 8100.81        0 20.0835  41.292   ma062      23       3     9114 134.41357 57.604214  1.10448  1.15353  1.21697 1.78219 1.85994 2.12685 0.898721 0.929654 0.937466  57372  57373  57373 2.78588 2.68683 2.63285 2.60127     2080        0        0        1 plateTargets-1.par         6013 J084951.74+570837.4            37            19                 37 0.0394191 0.0189832 0.0262126 0.0381547 0.0423817 0.0175985 0.0270279 0.810819  -999.0 0.657677  0.685939  1.0596  1.13493  -999.0   0.5949   0.61793        75    1411          6      v1_0_1     51179          -999 0.0394191 0.0397999 -10.2819 .. -19.838 -8.79796 .. -19.5201 0.00293283 .. 294.666    6865540000.0     5164150000.0       0.907966         177.501 0.573355 .. 0.102291            1.64323        1.65693 -0.0155907 .. 385.377 31.2106 .. 0.00303804 0.0121696 .. 395.179 23.3446 .. 0.00302707      0.671381       5.9563        149.576        0.887253 0.0496394 .. 528.956 47.3829 .. 0.0898817 -1.1476022005081177 4.594825267791748"
      ]
     },
     "execution_count": 61,
     "metadata": {},
     "output_type": "execute_result"
    }
   ],
   "source": [
    "index = drpalltt_dict[test_galaxy]\n",
    "drpalltt[index]"
   ]
  },
  {
   "cell_type": "code",
   "execution_count": null,
   "id": "018e5bce-0723-477d-9544-7d18c61abb57",
   "metadata": {},
   "outputs": [],
   "source": [
    "ra = drpalltt['objra'][index]\n",
    "dec = drpalltt['objdec'][index]\n",
    "r90 = drpalltt['R90'][index]\n",
    "directory = DATA_FOLDER + 'Plots/Cutouts/'"
   ]
  },
  {
   "cell_type": "code",
   "execution_count": 47,
   "id": "6a209025-2b6b-40f2-b849-bdeeab00cf3a",
   "metadata": {},
   "outputs": [
    {
     "ename": "NameError",
     "evalue": "name 'ra' is not defined",
     "output_type": "error",
     "traceback": [
      "\u001b[31m---------------------------------------------------------------------------\u001b[39m",
      "\u001b[31mNameError\u001b[39m                                 Traceback (most recent call last)",
      "\u001b[36mCell\u001b[39m\u001b[36m \u001b[39m\u001b[32mIn[47]\u001b[39m\u001b[32m, line 1\u001b[39m\n\u001b[32m----> \u001b[39m\u001b[32m1\u001b[39m gal_image, wcs = get_cutout(test_galaxy,\u001b[43mra\u001b[49m,dec,r90,directory) \n",
      "\u001b[31mNameError\u001b[39m: name 'ra' is not defined"
     ]
    }
   ],
   "source": [
    "gal_image, wcs = get_cutout(test_galaxy,ra,dec,r90,directory) "
   ]
  },
  {
   "cell_type": "code",
   "execution_count": 48,
   "id": "5c410f7b-5b43-40b7-9918-0f53e4f8f062",
   "metadata": {},
   "outputs": [
    {
     "ename": "NameError",
     "evalue": "name 'gal_image' is not defined",
     "output_type": "error",
     "traceback": [
      "\u001b[31m---------------------------------------------------------------------------\u001b[39m",
      "\u001b[31mNameError\u001b[39m                                 Traceback (most recent call last)",
      "\u001b[36mCell\u001b[39m\u001b[36m \u001b[39m\u001b[32mIn[48]\u001b[39m\u001b[32m, line 1\u001b[39m\n\u001b[32m----> \u001b[39m\u001b[32m1\u001b[39m \u001b[38;5;28mprint\u001b[39m(\u001b[43mgal_image\u001b[49m)\n",
      "\u001b[31mNameError\u001b[39m: name 'gal_image' is not defined"
     ]
    }
   ],
   "source": [
    "print(gal_image)"
   ]
  },
  {
   "cell_type": "code",
   "execution_count": 49,
   "id": "9294a047-af6e-4aae-966d-2496436dd085",
   "metadata": {},
   "outputs": [
    {
     "ename": "NameError",
     "evalue": "name 'gal_image' is not defined",
     "output_type": "error",
     "traceback": [
      "\u001b[31m---------------------------------------------------------------------------\u001b[39m",
      "\u001b[31mNameError\u001b[39m                                 Traceback (most recent call last)",
      "\u001b[36mCell\u001b[39m\u001b[36m \u001b[39m\u001b[32mIn[49]\u001b[39m\u001b[32m, line 1\u001b[39m\n\u001b[32m----> \u001b[39m\u001b[32m1\u001b[39m hdul = fits.open(\u001b[43mgal_image\u001b[49m[:-\u001b[32m3\u001b[39m]+\u001b[33m'\u001b[39m\u001b[33mfits\u001b[39m\u001b[33m'\u001b[39m)\n\u001b[32m      2\u001b[39m \u001b[38;5;66;03m#hdul.info()\u001b[39;00m\n\u001b[32m      3\u001b[39m wcs_fits = WCS(hdul[\u001b[32m0\u001b[39m].header)\n",
      "\u001b[31mNameError\u001b[39m: name 'gal_image' is not defined"
     ]
    }
   ],
   "source": [
    "hdul = fits.open(gal_image[:-3]+'fits')\n",
    "#hdul.info()\n",
    "wcs_fits = WCS(hdul[0].header)\n",
    "hdul.close()\n",
    "wcs_fits"
   ]
  },
  {
   "cell_type": "code",
   "execution_count": 50,
   "id": "55f7f618-dcd4-478b-a521-e81b04528698",
   "metadata": {},
   "outputs": [
    {
     "ename": "NameError",
     "evalue": "name 'wcs' is not defined",
     "output_type": "error",
     "traceback": [
      "\u001b[31m---------------------------------------------------------------------------\u001b[39m",
      "\u001b[31mNameError\u001b[39m                                 Traceback (most recent call last)",
      "\u001b[36mCell\u001b[39m\u001b[36m \u001b[39m\u001b[32mIn[50]\u001b[39m\u001b[32m, line 1\u001b[39m\n\u001b[32m----> \u001b[39m\u001b[32m1\u001b[39m \u001b[43mwcs\u001b[49m\n",
      "\u001b[31mNameError\u001b[39m: name 'wcs' is not defined"
     ]
    }
   ],
   "source": [
    "wcs"
   ]
  },
  {
   "cell_type": "code",
   "execution_count": 51,
   "id": "8e1331b1-f255-478b-adfc-eb9511dc505c",
   "metadata": {},
   "outputs": [
    {
     "ename": "NameError",
     "evalue": "name 'gal_image' is not defined",
     "output_type": "error",
     "traceback": [
      "\u001b[31m---------------------------------------------------------------------------\u001b[39m",
      "\u001b[31mNameError\u001b[39m                                 Traceback (most recent call last)",
      "\u001b[36mCell\u001b[39m\u001b[36m \u001b[39m\u001b[32mIn[51]\u001b[39m\u001b[32m, line 1\u001b[39m\n\u001b[32m----> \u001b[39m\u001b[32m1\u001b[39m hdul = fits.open(\u001b[43mgal_image\u001b[49m[:-\u001b[32m3\u001b[39m]+\u001b[33m'\u001b[39m\u001b[33mfits\u001b[39m\u001b[33m'\u001b[39m)\n\u001b[32m      2\u001b[39m \u001b[38;5;66;03m#hdul.info()\u001b[39;00m\n\u001b[32m      3\u001b[39m img = hdul[\u001b[32m0\u001b[39m].data\n",
      "\u001b[31mNameError\u001b[39m: name 'gal_image' is not defined"
     ]
    }
   ],
   "source": [
    "hdul = fits.open(gal_image[:-3]+'fits')\n",
    "#hdul.info()\n",
    "img = hdul[0].data\n",
    "hdul.close()\n",
    "\n",
    "fig,ax = plt.subplots(subplot_kw = dict(projection = wcs))\n",
    "ax.imshow(np.log10(img[0]))"
   ]
  },
  {
   "cell_type": "code",
   "execution_count": 52,
   "id": "f1ba9647-7b1a-4ad4-8aff-ac7c25fa6eb7",
   "metadata": {},
   "outputs": [
    {
     "ename": "NameError",
     "evalue": "name 'gal_image' is not defined",
     "output_type": "error",
     "traceback": [
      "\u001b[31m---------------------------------------------------------------------------\u001b[39m",
      "\u001b[31mNameError\u001b[39m                                 Traceback (most recent call last)",
      "\u001b[36mCell\u001b[39m\u001b[36m \u001b[39m\u001b[32mIn[52]\u001b[39m\u001b[32m, line 1\u001b[39m\n\u001b[32m----> \u001b[39m\u001b[32m1\u001b[39m img = np.asarray(Image.open(\u001b[43mgal_image\u001b[49m))\n\u001b[32m      2\u001b[39m fig, ax = plt.subplots()\n\u001b[32m      3\u001b[39m ax.imshow(img)\n",
      "\u001b[31mNameError\u001b[39m: name 'gal_image' is not defined"
     ]
    }
   ],
   "source": [
    "img = np.asarray(Image.open(gal_image))\n",
    "fig, ax = plt.subplots()\n",
    "ax.imshow(img)"
   ]
  },
  {
   "cell_type": "code",
   "execution_count": 53,
   "id": "74e0488c-5b1b-4c09-a4ac-a4511882f7d4",
   "metadata": {},
   "outputs": [
    {
     "ename": "NameError",
     "evalue": "name 'gal_image' is not defined",
     "output_type": "error",
     "traceback": [
      "\u001b[31m---------------------------------------------------------------------------\u001b[39m",
      "\u001b[31mNameError\u001b[39m                                 Traceback (most recent call last)",
      "\u001b[36mCell\u001b[39m\u001b[36m \u001b[39m\u001b[32mIn[53]\u001b[39m\u001b[32m, line 3\u001b[39m\n\u001b[32m      1\u001b[39m \u001b[38;5;66;03m# First, read in image\u001b[39;00m\n\u001b[32m      2\u001b[39m \u001b[38;5;66;03m# data = function_to_read_image(filename=gal_image)\u001b[39;00m\n\u001b[32m----> \u001b[39m\u001b[32m3\u001b[39m img = np.asarray(Image.open(\u001b[43mgal_image\u001b[49m))\n\u001b[32m      4\u001b[39m \u001b[38;5;66;03m#hdul = fits.open(gal_image)\u001b[39;00m\n\u001b[32m      5\u001b[39m \u001b[38;5;66;03m#img = \u001b[39;00m\n\u001b[32m      7\u001b[39m fig = plt.figure()\n",
      "\u001b[31mNameError\u001b[39m: name 'gal_image' is not defined"
     ]
    }
   ],
   "source": [
    "# First, read in image\n",
    "# data = function_to_read_image(filename=gal_image)\n",
    "img = np.asarray(Image.open(gal_image))\n",
    "#hdul = fits.open(gal_image)\n",
    "#img = \n",
    "\n",
    "fig = plt.figure()\n",
    "ax = fig.add_subplot(projection=wcs)\n",
    "ax.imshow(img[::-1])\n",
    "ax.grid(color='white', ls='solid')\n",
    "ax.set(xlabel='Galactic Longitude', ylabel='Galactic Latitude')"
   ]
  },
  {
   "cell_type": "code",
   "execution_count": 54,
   "id": "f69e0a9e-95e7-42b4-bc2e-0c6567a45fc1",
   "metadata": {},
   "outputs": [
    {
     "ename": "NameError",
     "evalue": "name 'flux' is not defined",
     "output_type": "error",
     "traceback": [
      "\u001b[31m---------------------------------------------------------------------------\u001b[39m",
      "\u001b[31mNameError\u001b[39m                                 Traceback (most recent call last)",
      "\u001b[36mCell\u001b[39m\u001b[36m \u001b[39m\u001b[32mIn[54]\u001b[39m\u001b[32m, line 5\u001b[39m\n\u001b[32m      2\u001b[39m fig.suptitle(test_galaxy)\n\u001b[32m      4\u001b[39m ax4 = fig.add_subplot(\u001b[32m224\u001b[39m)\n\u001b[32m----> \u001b[39m\u001b[32m5\u001b[39m im = ax4.imshow(\u001b[43mflux\u001b[49m, cmap =\u001b[33m'\u001b[39m\u001b[33mhot\u001b[39m\u001b[33m'\u001b[39m, origin = \u001b[33m'\u001b[39m\u001b[33mlower\u001b[39m\u001b[33m'\u001b[39m)\n\u001b[32m      6\u001b[39m ax4.set_title(\u001b[33m'\u001b[39m\u001b[33mFlux\u001b[39m\u001b[33m'\u001b[39m)\n\u001b[32m      7\u001b[39m ax4.set_xlabel(\u001b[33m'\u001b[39m\u001b[33mspaxel\u001b[39m\u001b[33m'\u001b[39m)\n",
      "\u001b[31mNameError\u001b[39m: name 'flux' is not defined"
     ]
    },
    {
     "data": {
      "image/png": "[encoded data removed]",
      "text/plain": [
       "<Figure size 1500x1500 with 1 Axes>"
      ]
     },
     "metadata": {},
     "output_type": "display_data"
    }
   ],
   "source": [
    "fig = plt.figure( figsize=(15,15))\n",
    "fig.suptitle(test_galaxy)\n",
    "\n",
    "ax4 = fig.add_subplot(224)\n",
    "im = ax4.imshow(flux, cmap ='hot', origin = 'lower')\n",
    "ax4.set_title('Flux')\n",
    "ax4.set_xlabel('spaxel')\n",
    "ax4.set_ylabel('spaxel')\n",
    "\n",
    "\n",
    "\n",
    "fig.colorbar(im, ax = ax4,label = '10-17 erg/s/cm2/Å/spaxel' )\n",
    "\n",
    "\n",
    "ax1 = fig.add_subplot(221)\n",
    "im = ax1.imshow(mstellar_vel, cmap ='bwr', origin = 'lower')\n",
    "ax1.set_xlabel('spaxel')\n",
    "ax1.set_ylabel('spaxel')\n",
    "ax1.set_title('Masked Stellar Velocity')\n",
    "\n",
    "fig.colorbar(im, ax = ax1,label = 'Velocity [km/s]' )\n",
    "\n",
    "ax2 = fig.add_subplot(222)\n",
    "im = ax2.imshow(mhalpha_vel, cmap ='bwr', origin = 'lower')\n",
    "ax2.set_xlabel('spaxel')\n",
    "ax2.set_ylabel('spaxel')\n",
    "ax2.set_title('Masked H-alpha Velocity')\n",
    "\n",
    "\n",
    "fig.colorbar(im, ax = ax2,label = 'Velocity [km/s]' )\n",
    "\n",
    "\n",
    "ax3 = fig.add_subplot(223, projection=wcs)\n",
    "im = ax3.imshow(img[::-1])\n",
    "ax3.grid(color='white', ls='solid')\n",
    "ax3.set(xlabel='Galactic Longitude', ylabel='Galactic Latitude')\n",
    "#fig, ax = plt.subplots(subplot_kw=dict(projection=wcs))\n",
    "#fig.set_subtitle(test_galaxy)\n"
   ]
  },
  {
   "cell_type": "code",
   "execution_count": null,
   "id": "dd553715-fb00-454b-b698-0e9c894f359d",
   "metadata": {},
   "outputs": [],
   "source": [
    "index = drpalltt_dict[test_galaxy]\n",
    "drpalltt[index]"
   ]
  },
  {
   "cell_type": "code",
   "execution_count": 55,
   "id": "5010c5b9-1545-4636-a8c6-0dd4eae48723",
   "metadata": {},
   "outputs": [
    {
     "ename": "NameError",
     "evalue": "name 'ra' is not defined",
     "output_type": "error",
     "traceback": [
      "\u001b[31m---------------------------------------------------------------------------\u001b[39m",
      "\u001b[31mNameError\u001b[39m                                 Traceback (most recent call last)",
      "\u001b[36mCell\u001b[39m\u001b[36m \u001b[39m\u001b[32mIn[55]\u001b[39m\u001b[32m, line 1\u001b[39m\n\u001b[32m----> \u001b[39m\u001b[32m1\u001b[39m center_coords = SkyCoord(\u001b[43mra\u001b[49m*u.deg,dec*u.deg)\n\u001b[32m      2\u001b[39m \u001b[38;5;66;03m#center_coords\u001b[39;00m\n\u001b[32m      4\u001b[39m pos_angle = drpalltt[\u001b[33m'\u001b[39m\u001b[33mnsa_elpetro_phi\u001b[39m\u001b[33m'\u001b[39m][index]          \u001b[38;5;66;03m#position angle is in degrees, this converts to radians bc math expects radians\u001b[39;00m\n",
      "\u001b[31mNameError\u001b[39m: name 'ra' is not defined"
     ]
    }
   ],
   "source": [
    "center_coords = SkyCoord(ra*u.deg,dec*u.deg)\n",
    "#center_coords\n",
    "\n",
    "pos_angle = drpalltt['nsa_elpetro_phi'][index]          #position angle is in degrees, this converts to radians bc math expects radians\n",
    "print(pos_angle)\n",
    "r90\n",
    "\n",
    "axis_ratio = drpalltt['nsa_sersic_ba'][index]\n"
   ]
  },
  {
   "cell_type": "code",
   "execution_count": 56,
   "id": "5690dc61-d312-4270-aaad-7b3d5aabac99",
   "metadata": {},
   "outputs": [
    {
     "ename": "NameError",
     "evalue": "name 'center_coords' is not defined",
     "output_type": "error",
     "traceback": [
      "\u001b[31m---------------------------------------------------------------------------\u001b[39m",
      "\u001b[31mNameError\u001b[39m                                 Traceback (most recent call last)",
      "\u001b[36mCell\u001b[39m\u001b[36m \u001b[39m\u001b[32mIn[56]\u001b[39m\u001b[32m, line 2\u001b[39m\n\u001b[32m      1\u001b[39m \u001b[38;5;66;03m#pos_angle = 45\u001b[39;00m\n\u001b[32m----> \u001b[39m\u001b[32m2\u001b[39m point1 = \u001b[43mcenter_coords\u001b[49m.directional_offset_by(pos_angle*u.deg,r90*u.arcsec)\n\u001b[32m      4\u001b[39m alpha1 = point1.ra.deg\n\u001b[32m      5\u001b[39m delta1 = point1.dec.deg\n",
      "\u001b[31mNameError\u001b[39m: name 'center_coords' is not defined"
     ]
    }
   ],
   "source": [
    "#pos_angle = 45\n",
    "point1 = center_coords.directional_offset_by(pos_angle*u.deg,r90*u.arcsec)\n",
    "\n",
    "alpha1 = point1.ra.deg\n",
    "delta1 = point1.dec.deg\n",
    "\n",
    "\n",
    "point2 = center_coords.directional_offset_by((pos_angle+180)*u.deg,r90*u.arcsec)\n",
    "\n",
    "alpha2 = point2.ra.deg\n",
    "delta2 = point2.dec.deg"
   ]
  },
  {
   "cell_type": "code",
   "execution_count": 57,
   "id": "6a91889c-0c02-4e34-9fde-351cfda3423c",
   "metadata": {},
   "outputs": [
    {
     "ename": "NameError",
     "evalue": "name 'center_coords' is not defined",
     "output_type": "error",
     "traceback": [
      "\u001b[31m---------------------------------------------------------------------------\u001b[39m",
      "\u001b[31mNameError\u001b[39m                                 Traceback (most recent call last)",
      "\u001b[36mCell\u001b[39m\u001b[36m \u001b[39m\u001b[32mIn[57]\u001b[39m\u001b[32m, line 3\u001b[39m\n\u001b[32m      1\u001b[39m \u001b[38;5;66;03m#minor axis\u001b[39;00m\n\u001b[32m----> \u001b[39m\u001b[32m3\u001b[39m point3 = \u001b[43mcenter_coords\u001b[49m.directional_offset_by((pos_angle+\u001b[32m90\u001b[39m)*u.deg,(r90*axis_ratio)*u.arcsec)\n\u001b[32m      5\u001b[39m alpha3 = point3.ra.deg\n\u001b[32m      6\u001b[39m delta3 = point3.dec.deg\n",
      "\u001b[31mNameError\u001b[39m: name 'center_coords' is not defined"
     ]
    }
   ],
   "source": [
    "#minor axis\n",
    "\n",
    "point3 = center_coords.directional_offset_by((pos_angle+90)*u.deg,(r90*axis_ratio)*u.arcsec)\n",
    "\n",
    "alpha3 = point3.ra.deg\n",
    "delta3 = point3.dec.deg\n",
    "\n",
    "\n",
    "point4 = center_coords.directional_offset_by((pos_angle-90)*u.deg,(r90*axis_ratio)*u.arcsec)\n",
    "\n",
    "alpha4 = point4.ra.deg\n",
    "delta4 = point4.dec.deg\n"
   ]
  },
  {
   "cell_type": "code",
   "execution_count": 58,
   "id": "a0ad8855-0e6c-472f-978d-80edf09a5ef4",
   "metadata": {},
   "outputs": [
    {
     "ename": "NameError",
     "evalue": "name 'wcs' is not defined",
     "output_type": "error",
     "traceback": [
      "\u001b[31m---------------------------------------------------------------------------\u001b[39m",
      "\u001b[31mNameError\u001b[39m                                 Traceback (most recent call last)",
      "\u001b[36mCell\u001b[39m\u001b[36m \u001b[39m\u001b[32mIn[58]\u001b[39m\u001b[32m, line 4\u001b[39m\n\u001b[32m      1\u001b[39m img = np.asarray(Image.open(DATA_FOLDER + \u001b[33m'\u001b[39m\u001b[33mPlots/Cutouts/\u001b[39m\u001b[33m'\u001b[39m+test_galaxy+\u001b[33m'\u001b[39m\u001b[33m.jpg\u001b[39m\u001b[33m'\u001b[39m))\n\u001b[32m      2\u001b[39m \u001b[38;5;66;03m#hdul = fits.open()\u001b[39;00m\n\u001b[32m----> \u001b[39m\u001b[32m4\u001b[39m fig, ax = plt.subplots(subplot_kw=\u001b[38;5;28mdict\u001b[39m(projection=\u001b[43mwcs\u001b[49m))\n\u001b[32m      5\u001b[39m ax.plot([alpha1,alpha2],[delta1,delta2],\u001b[33m'\u001b[39m\u001b[33mg\u001b[39m\u001b[33m'\u001b[39m,transform = ax.get_transform(\u001b[33m'\u001b[39m\u001b[33mworld\u001b[39m\u001b[33m'\u001b[39m))\n\u001b[32m      6\u001b[39m ax.plot([alpha3,alpha4],[delta3,delta4],\u001b[33m'\u001b[39m\u001b[33mg\u001b[39m\u001b[33m'\u001b[39m,transform = ax.get_transform(\u001b[33m'\u001b[39m\u001b[33mworld\u001b[39m\u001b[33m'\u001b[39m))\n",
      "\u001b[31mNameError\u001b[39m: name 'wcs' is not defined"
     ]
    }
   ],
   "source": [
    "img = np.asarray(Image.open(DATA_FOLDER + 'Plots/Cutouts/'+test_galaxy+'.jpg'))\n",
    "#hdul = fits.open()\n",
    "\n",
    "fig, ax = plt.subplots(subplot_kw=dict(projection=wcs))\n",
    "ax.plot([alpha1,alpha2],[delta1,delta2],'g',transform = ax.get_transform('world'))\n",
    "ax.plot([alpha3,alpha4],[delta3,delta4],'g',transform = ax.get_transform('world'))\n",
    "ax.plot(center_coords.ra.deg,center_coords.dec.deg,'rx',transform = ax.get_transform('world') )\n",
    "\n",
    "ax.imshow(img[::-1])\n",
    "ax.grid(color='white', ls='solid')\n",
    "ax.set(xlabel='Right Ascension', ylabel='Declination');"
   ]
  },
  {
   "cell_type": "code",
   "execution_count": 59,
   "id": "5d0ebb23-b8a9-4f8f-ae85-1be40d7ae6cd",
   "metadata": {},
   "outputs": [
    {
     "ename": "NameError",
     "evalue": "name 'center_coords' is not defined",
     "output_type": "error",
     "traceback": [
      "\u001b[31m---------------------------------------------------------------------------\u001b[39m",
      "\u001b[31mNameError\u001b[39m                                 Traceback (most recent call last)",
      "\u001b[36mCell\u001b[39m\u001b[36m \u001b[39m\u001b[32mIn[59]\u001b[39m\u001b[32m, line 1\u001b[39m\n\u001b[32m----> \u001b[39m\u001b[32m1\u001b[39m \u001b[43mcenter_coords\u001b[49m\n",
      "\u001b[31mNameError\u001b[39m: name 'center_coords' is not defined"
     ]
    }
   ],
   "source": [
    "center_coords"
   ]
  },
  {
   "cell_type": "code",
   "execution_count": 60,
   "id": "ab448898-9d34-4f0b-b167-ff0d8cba06c7",
   "metadata": {},
   "outputs": [
    {
     "ename": "NameError",
     "evalue": "name 'flux' is not defined",
     "output_type": "error",
     "traceback": [
      "\u001b[31m---------------------------------------------------------------------------\u001b[39m",
      "\u001b[31mNameError\u001b[39m                                 Traceback (most recent call last)",
      "\u001b[36mCell\u001b[39m\u001b[36m \u001b[39m\u001b[32mIn[60]\u001b[39m\u001b[32m, line 5\u001b[39m\n\u001b[32m      2\u001b[39m fig.suptitle(test_galaxy)\n\u001b[32m      4\u001b[39m ax4 = fig.add_subplot(\u001b[32m224\u001b[39m)\n\u001b[32m----> \u001b[39m\u001b[32m5\u001b[39m im = ax4.imshow(\u001b[43mflux\u001b[49m, cmap =\u001b[33m'\u001b[39m\u001b[33mhot\u001b[39m\u001b[33m'\u001b[39m, origin = \u001b[33m'\u001b[39m\u001b[33mlower\u001b[39m\u001b[33m'\u001b[39m)\n\u001b[32m      6\u001b[39m ax4.set_title(\u001b[33m'\u001b[39m\u001b[33mFlux\u001b[39m\u001b[33m'\u001b[39m)\n\u001b[32m      7\u001b[39m ax4.set_xlabel(\u001b[33m'\u001b[39m\u001b[33mspaxel\u001b[39m\u001b[33m'\u001b[39m)\n",
      "\u001b[31mNameError\u001b[39m: name 'flux' is not defined"
     ]
    },
    {
     "data": {
      "image/png": "[encoded data removed]",
      "text/plain": [
       "<Figure size 1500x1500 with 1 Axes>"
      ]
     },
     "metadata": {},
     "output_type": "display_data"
    }
   ],
   "source": [
    "fig = plt.figure( figsize=(15,15))\n",
    "fig.suptitle(test_galaxy)\n",
    "\n",
    "ax4 = fig.add_subplot(224)\n",
    "im = ax4.imshow(flux, cmap ='hot', origin = 'lower')\n",
    "ax4.set_title('Flux')\n",
    "ax4.set_xlabel('spaxel')\n",
    "ax4.set_ylabel('spaxel')\n",
    "\n",
    "\n",
    "\n",
    "fig.colorbar(im, ax = ax4,label = '10-17 erg/s/cm2/Å/spaxel' )\n",
    "\n",
    "\n",
    "ax1 = fig.add_subplot(221)\n",
    "im = ax1.imshow(mstellar_vel, cmap ='bwr', origin = 'lower')\n",
    "ax1.set_xlabel('spaxel')\n",
    "ax1.set_ylabel('spaxel')\n",
    "ax1.set_title('Masked Stellar Velocity')\n",
    "\n",
    "fig.colorbar(im, ax = ax1,label = 'Velocity [km/s]' )\n",
    "\n",
    "ax2 = fig.add_subplot(222)\n",
    "im = ax2.imshow(mhalpha_vel, cmap ='bwr', origin = 'lower')\n",
    "ax2.set_xlabel('spaxel')\n",
    "ax2.set_ylabel('spaxel')\n",
    "ax2.set_title('Masked H-alpha Velocity')\n",
    "\n",
    "\n",
    "fig.colorbar(im, ax = ax2,label = 'Velocity [km/s]' )\n",
    "\n",
    "\n",
    "ax3 = fig.add_subplot(223, projection=wcs)\n",
    "\n",
    "\n",
    "im = ax3.imshow(img[::-1])\n",
    "ax3.grid(color='white', ls='solid')\n",
    "ax3.set(xlabel='Galactic Longitude', ylabel='Galactic Latitude')\n",
    "ax3.plot([alpha1,alpha2],[delta1,delta2],'g',transform = ax3.get_transform('world'))\n",
    "ax3.plot([alpha3,alpha4],[delta3,delta4],'g',transform = ax3.get_transform('world'))\n",
    "ax3.plot(center_coords.ra.deg,center_coords.dec.deg,'rx',transform = ax3.get_transform('world') )"
   ]
  },
  {
   "cell_type": "code",
   "execution_count": null,
   "id": "40d604ac-65b7-41ef-a355-30b96556fd7e",
   "metadata": {},
   "outputs": [],
   "source": []
  },
  {
   "cell_type": "code",
   "execution_count": null,
   "id": "21fe249e-fdb0-4740-972d-379361a69de0",
   "metadata": {},
   "outputs": [],
   "source": []
  },
  {
   "cell_type": "code",
   "execution_count": null,
   "id": "695d4a9f-c87a-4d6d-804c-bd294c51dd2b",
   "metadata": {},
   "outputs": [],
   "source": []
  }
 ],
 "metadata": {
  "kernelspec": {
   "display_name": "Python 3 (ipykernel)",
   "language": "python",
   "name": "python3"
  },
  "language_info": {
   "codemirror_mode": {
    "name": "ipython",
    "version": 3
   },
   "file_extension": ".py",
   "mimetype": "text/x-python",
   "name": "python",
   "nbconvert_exporter": "python",
   "pygments_lexer": "ipython3",
   "version": "3.13.3"
  }
 },
 "nbformat": 4,
 "nbformat_minor": 5
}
