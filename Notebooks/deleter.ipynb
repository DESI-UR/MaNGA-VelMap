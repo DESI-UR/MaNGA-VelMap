{
 "cells": [
  {
   "cell_type": "code",
   "execution_count": 35,
   "id": "9561d45d-7417-4e70-b423-b50bb002ed3f",
   "metadata": {},
   "outputs": [
    {
     "ename": "ModuleNotFoundError",
     "evalue": "No module named 'tqdm'",
     "output_type": "error",
     "traceback": [
      "\u001b[31m---------------------------------------------------------------------------\u001b[39m",
      "\u001b[31mModuleNotFoundError\u001b[39m                       Traceback (most recent call last)",
      "\u001b[36mCell\u001b[39m\u001b[36m \u001b[39m\u001b[32mIn[35]\u001b[39m\u001b[32m, line 9\u001b[39m\n\u001b[32m      7\u001b[39m \u001b[38;5;28;01mfrom\u001b[39;00m\u001b[38;5;250m \u001b[39m\u001b[34;01mastropy\u001b[39;00m\u001b[34;01m.\u001b[39;00m\u001b[34;01mio\u001b[39;00m\u001b[38;5;250m \u001b[39m\u001b[38;5;28;01mimport\u001b[39;00m fits\n\u001b[32m      8\u001b[39m \u001b[38;5;28;01mimport\u001b[39;00m\u001b[38;5;250m \u001b[39m\u001b[34;01mnumpy\u001b[39;00m\u001b[38;5;250m \u001b[39m\u001b[38;5;28;01mas\u001b[39;00m\u001b[38;5;250m \u001b[39m\u001b[34;01mnp\u001b[39;00m\n\u001b[32m----> \u001b[39m\u001b[32m9\u001b[39m \u001b[38;5;28;01mfrom\u001b[39;00m\u001b[38;5;250m \u001b[39m\u001b[34;01mtqdm\u001b[39;00m\u001b[38;5;250m \u001b[39m\u001b[38;5;28;01mimport\u001b[39;00m tqdm\n",
      "\u001b[31mModuleNotFoundError\u001b[39m: No module named 'tqdm'"
     ]
    }
   ],
   "source": [
    "import os\n",
    "import shutil\n",
    "from PIL import Image\n",
    "import ipywidgets as widgets\n",
    "from IPython.display import display, clear_output\n",
    "from astropy.table import Table\n",
    "from astropy.io import fits\n",
    "import numpy as np\n",
    "from tqdm import tqdm"
   ]
  },
  {
   "cell_type": "code",
   "execution_count": 27,
   "id": "59e03627-cbda-419b-8946-ed19cf1fa228",
   "metadata": {},
   "outputs": [],
   "source": [
    "plot_folder = '/Users/Emlilio/School/Internships/UR ASTRO/Data/Plots/2x2_plots/'\n",
    "data_folder = '/Users/Emlilio/School/Internships/UR ASTRO/Data/drpall_ttype_R90.fits'"
   ]
  },
  {
   "cell_type": "code",
   "execution_count": 28,
   "id": "aad2e984-ff12-4984-9c5f-cf341a64a570",
   "metadata": {},
   "outputs": [],
   "source": [
    "drpall_fn = data_folder\n",
    "drpall = Table.read(drpall_fn, format=\"fits\",hdu=1)"
   ]
  },
  {
   "cell_type": "code",
   "execution_count": 29,
   "id": "370cfc20-e87b-4c64-94a8-6979e894f977",
   "metadata": {},
   "outputs": [],
   "source": [
    "drpall_dict_mng = {}                    #create the dictionary\n",
    "\n",
    "for i in range(len(drpall)):                     #loop that repeats for the length of drpalltt file\n",
    "    plateifu = drpall['plateifu'][i]\n",
    "    mng = drpall['mngtarg1'][i]\n",
    "    ttype = drpall['TType'][i]\n",
    "    if mng > 0 and ttype > 0:\n",
    "        continue\n",
    "        \n",
    "    else:\n",
    "        drpall_dict_mng[plateifu] = i"
   ]
  },
  {
   "cell_type": "code",
   "execution_count": 33,
   "id": "af7077a8-2979-4c59-93f2-53fe1ab1d9b1",
   "metadata": {},
   "outputs": [
    {
     "ename": "NameError",
     "evalue": "name 'tqdm' is not defined",
     "output_type": "error",
     "traceback": [
      "\u001b[31m---------------------------------------------------------------------------\u001b[39m",
      "\u001b[31mNameError\u001b[39m                                 Traceback (most recent call last)",
      "\u001b[36mCell\u001b[39m\u001b[36m \u001b[39m\u001b[32mIn[33]\u001b[39m\u001b[32m, line 1\u001b[39m\n\u001b[32m----> \u001b[39m\u001b[32m1\u001b[39m \u001b[38;5;28;01mfor\u001b[39;00m plateifu \u001b[38;5;129;01min\u001b[39;00m \u001b[43mtqdm\u001b[49m(drpall_dict_mng, desc = \u001b[33m'\u001b[39m\u001b[33mDeleting PNGs...\u001b[39m\u001b[33m'\u001b[39m):\n\u001b[32m      2\u001b[39m     plot_name = plateifu +\u001b[33m'\u001b[39m\u001b[33m_2x2.png\u001b[39m\u001b[33m'\u001b[39m\n\u001b[32m      3\u001b[39m     file_path = plot_folder+plot_name\n",
      "\u001b[31mNameError\u001b[39m: name 'tqdm' is not defined"
     ]
    }
   ],
   "source": [
    "for plateifu in tqdm(drpall_dict_mng, desc = 'Deleting PNGs...'):\n",
    "    plot_name = plateifu +'_2x2.png'\n",
    "    file_path = plot_folder+plot_name\n",
    "\n",
    "    if os.path.exists(file_path):\n",
    "        os.remove(file_path)\n",
    "    else:\n",
    "        continue\n",
    "    "
   ]
  },
  {
   "cell_type": "code",
   "execution_count": 37,
   "id": "533d4f7e-0809-4dc8-9575-0b38a19e7d9f",
   "metadata": {},
   "outputs": [
    {
     "ename": "KeyError",
     "evalue": "'10001-12701'",
     "output_type": "error",
     "traceback": [
      "\u001b[31m---------------------------------------------------------------------------\u001b[39m",
      "\u001b[31mKeyError\u001b[39m                                  Traceback (most recent call last)",
      "\u001b[36mCell\u001b[39m\u001b[36m \u001b[39m\u001b[32mIn[37]\u001b[39m\u001b[32m, line 1\u001b[39m\n\u001b[32m----> \u001b[39m\u001b[32m1\u001b[39m \u001b[43mdrpall\u001b[49m\u001b[43m[\u001b[49m\u001b[33;43m'\u001b[39;49m\u001b[33;43m10001-12701\u001b[39;49m\u001b[33;43m'\u001b[39;49m\u001b[43m]\u001b[49m\n",
      "\u001b[36mFile \u001b[39m\u001b[32mC:\\Users\\Emlilio\\miniforge3\\envs\\REU\\Lib\\site-packages\\astropy\\table\\table.py:2093\u001b[39m, in \u001b[36mTable.__getitem__\u001b[39m\u001b[34m(self, item)\u001b[39m\n\u001b[32m   2091\u001b[39m \u001b[38;5;28;01mdef\u001b[39;00m\u001b[38;5;250m \u001b[39m\u001b[34m__getitem__\u001b[39m(\u001b[38;5;28mself\u001b[39m, item):\n\u001b[32m   2092\u001b[39m     \u001b[38;5;28;01mif\u001b[39;00m \u001b[38;5;28misinstance\u001b[39m(item, \u001b[38;5;28mstr\u001b[39m):\n\u001b[32m-> \u001b[39m\u001b[32m2093\u001b[39m         \u001b[38;5;28;01mreturn\u001b[39;00m \u001b[38;5;28;43mself\u001b[39;49m\u001b[43m.\u001b[49m\u001b[43mcolumns\u001b[49m\u001b[43m[\u001b[49m\u001b[43mitem\u001b[49m\u001b[43m]\u001b[49m\n\u001b[32m   2094\u001b[39m     \u001b[38;5;28;01melif\u001b[39;00m \u001b[38;5;28misinstance\u001b[39m(item, (\u001b[38;5;28mint\u001b[39m, np.integer)):\n\u001b[32m   2095\u001b[39m         \u001b[38;5;28;01mreturn\u001b[39;00m \u001b[38;5;28mself\u001b[39m.Row(\u001b[38;5;28mself\u001b[39m, item)\n",
      "\u001b[36mFile \u001b[39m\u001b[32mC:\\Users\\Emlilio\\miniforge3\\envs\\REU\\Lib\\site-packages\\astropy\\table\\table.py:264\u001b[39m, in \u001b[36mTableColumns.__getitem__\u001b[39m\u001b[34m(self, item)\u001b[39m\n\u001b[32m    253\u001b[39m \u001b[38;5;250m\u001b[39m\u001b[33;03m\"\"\"Get items from a TableColumns object.\u001b[39;00m\n\u001b[32m    254\u001b[39m \n\u001b[32m    255\u001b[39m \u001b[33;03m::\u001b[39;00m\n\u001b[32m   (...)\u001b[39m\u001b[32m    261\u001b[39m \u001b[33;03m  tc[1:3] # <TableColumns names=('b', 'c')>\u001b[39;00m\n\u001b[32m    262\u001b[39m \u001b[33;03m\"\"\"\u001b[39;00m\n\u001b[32m    263\u001b[39m \u001b[38;5;28;01mif\u001b[39;00m \u001b[38;5;28misinstance\u001b[39m(item, \u001b[38;5;28mstr\u001b[39m):\n\u001b[32m--> \u001b[39m\u001b[32m264\u001b[39m     \u001b[38;5;28;01mreturn\u001b[39;00m \u001b[43mOrderedDict\u001b[49m\u001b[43m.\u001b[49m\u001b[34;43m__getitem__\u001b[39;49m\u001b[43m(\u001b[49m\u001b[38;5;28;43mself\u001b[39;49m\u001b[43m,\u001b[49m\u001b[43m \u001b[49m\u001b[43mitem\u001b[49m\u001b[43m)\u001b[49m\n\u001b[32m    265\u001b[39m \u001b[38;5;28;01melif\u001b[39;00m \u001b[38;5;28misinstance\u001b[39m(item, (\u001b[38;5;28mint\u001b[39m, np.integer)):\n\u001b[32m    266\u001b[39m     \u001b[38;5;28;01mreturn\u001b[39;00m \u001b[38;5;28mlist\u001b[39m(\u001b[38;5;28mself\u001b[39m.values())[item]\n",
      "\u001b[31mKeyError\u001b[39m: '10001-12701'"
     ]
    }
   ],
   "source": []
  },
  {
   "cell_type": "code",
   "execution_count": null,
   "id": "b75a2387-4170-4a75-b451-6e4459a09a01",
   "metadata": {},
   "outputs": [],
   "source": []
  }
 ],
 "metadata": {
  "kernelspec": {
   "display_name": "Python 3 (ipykernel)",
   "language": "python",
   "name": "python3"
  },
  "language_info": {
   "codemirror_mode": {
    "name": "ipython",
    "version": 3
   },
   "file_extension": ".py",
   "mimetype": "text/x-python",
   "name": "python",
   "nbconvert_exporter": "python",
   "pygments_lexer": "ipython3",
   "version": "3.13.3"
  }
 },
 "nbformat": 4,
 "nbformat_minor": 5
}
