{
 "cells": [
  {
   "cell_type": "code",
   "execution_count": 32,
   "id": "f94d1a8e-8e44-4700-8abd-6d67c1e5fda9",
   "metadata": {},
   "outputs": [],
   "source": [
    "#importing\n",
    "\n",
    "import numpy as np\n",
    "import matplotlib.pyplot as plt\n",
    "from astropy.table import Table\n",
    "from astropy.io import fits\n",
    "import numpy.ma as ma"
   ]
  },
  {
   "cell_type": "code",
   "execution_count": 33,
   "id": "2b6c9eab-d0f3-4280-a609-de330384a89c",
   "metadata": {},
   "outputs": [],
   "source": [
    "data_folder = \"/Users/Emlilio/School/Internships/UR ASTRO/Data/\" #create a variable for directory to common folder"
   ]
  },
  {
   "cell_type": "code",
   "execution_count": 34,
   "id": "b1d57dea-2e2e-4f09-b255-9e48438c924e",
   "metadata": {},
   "outputs": [],
   "source": [
    "cube_df = data_folder + 'MaNGA/manga-8997-9102-MAPS-HYB10-MILESHC-MASTARSSP.fits.gz'"
   ]
  },
  {
   "cell_type": "code",
   "execution_count": 35,
   "id": "634b7fc0-701e-49fd-a2bf-180c2349b211",
   "metadata": {},
   "outputs": [],
   "source": [
    "cube = fits.open(cube_df)                        #file requires opening\n",
    "stellar_vel = cube['STELLAR_VEL'].data           #for the following we create variable representing data from file HDU's\n",
    "stellar_vel_ivar = cube['STELLAR_VEL_IVAR'].data \n",
    "stellar_mask = cube['STELLAR_VEL_MASK'].data\n",
    "halpha_vel = cube['EMLINE_GVEL'].data[23]        #the following three have several channels, but were only concerned with the Halpha spectra (channel 23)\n",
    "halpha_gvel_ivar = cube['EMLINE_GVEL_IVAR'].data[23]\n",
    "halpha_gvel_mask = cube['EMLINE_GVEL_MASK'].data[23]\n",
    "flux = cube['SPX_MFLUX'].data\n",
    "\n",
    "cube.close()"
   ]
  },
  {
   "cell_type": "code",
   "execution_count": 36,
   "id": "51d91879-bdf4-4d09-ae5f-6fd6d0c16c7e",
   "metadata": {},
   "outputs": [],
   "source": [
    "drpall = data_folder + 'drpall_ttype.fits'\n",
    "drpalltt = Table.read(drpall, format=\"fits\",hdu=1)   #create and visualize table for quick reference\n"
   ]
  },
  {
   "cell_type": "code",
   "execution_count": 37,
   "id": "248f8020-0e02-4c36-b702-0b5b29b1aeef",
   "metadata": {},
   "outputs": [],
   "source": [
    "drpalltt_dict = {}\n",
    "for i in range(len(drpalltt)):\n",
    "    plateifu = drpalltt['plateifu'][i]\n",
    "    drpalltt_dict[plateifu] = i"
   ]
  },
  {
   "cell_type": "code",
   "execution_count": 46,
   "id": "96ad1975-da70-45e3-bfb1-849434d3efec",
   "metadata": {},
   "outputs": [
    {
     "data": {
      "text/html": [
       "<i>Row index=100</i>\n",
       "<table id=\"table2301912895072\">\n",
       "<thead><tr><th>plate</th><th>ifudsgn</th><th>plateifu</th><th>mangaid</th><th>versdrp2</th><th>versdrp3</th><th>verscore</th><th>versutil</th><th>versprim</th><th>platetyp</th><th>srvymode</th><th>objra</th><th>objdec</th><th>ifuglon</th><th>ifuglat</th><th>ifura</th><th>ifudec</th><th>ebvgal</th><th>nexp</th><th>exptime</th><th>drp3qual</th><th>bluesn2</th><th>redsn2</th><th>harname</th><th>frlplug</th><th>cartid</th><th>designid</th><th>cenra</th><th>cendec</th><th>airmsmin</th><th>airmsmed</th><th>airmsmax</th><th>seemin</th><th>seemed</th><th>seemax</th><th>transmin</th><th>transmed</th><th>transmax</th><th>mjdmin</th><th>mjdmed</th><th>mjdmax</th><th>gfwhm</th><th>rfwhm</th><th>ifwhm</th><th>zfwhm</th><th>mngtarg1</th><th>mngtarg2</th><th>mngtarg3</th><th>catidnum</th><th>plttarg</th><th>manga_tileid</th><th>nsa_iauname</th><th>ifudesignsize</th><th>ifutargetsize</th><th>ifudesignwrongsize</th><th>z</th><th>zmin</th><th>zmax</th><th>szmin</th><th>szmax</th><th>ezmin</th><th>ezmax</th><th>probs</th><th>pweight</th><th>psweight</th><th>psrweight</th><th>sweight</th><th>srweight</th><th>eweight</th><th>esweight</th><th>esrweight</th><th>nsa_field</th><th>nsa_run</th><th>nsa_camcol</th><th>nsa_version</th><th>nsa_nsaid</th><th>nsa_nsaid_v1b</th><th>nsa_z</th><th>nsa_zdist</th><th>nsa_sersic_absmag</th><th>nsa_elpetro_absmag</th><th>nsa_elpetro_amivar</th><th>nsa_sersic_mass</th><th>nsa_elpetro_mass</th><th>nsa_elpetro_ba</th><th>nsa_elpetro_phi</th><th>nsa_extinction</th><th>nsa_elpetro_th50_r</th><th>nsa_petro_th50</th><th>nsa_petro_flux</th><th>nsa_petro_flux_ivar</th><th>nsa_elpetro_flux</th><th>nsa_elpetro_flux_ivar</th><th>nsa_sersic_ba</th><th>nsa_sersic_n</th><th>nsa_sersic_phi</th><th>nsa_sersic_th50</th><th>nsa_sersic_flux</th><th>nsa_sersic_flux_ivar</th><th>TType</th></tr></thead>\n",
       "<thead><tr><th>int64</th><th>bytes32</th><th>bytes32</th><th>bytes32</th><th>bytes32</th><th>bytes32</th><th>bytes32</th><th>bytes32</th><th>bytes32</th><th>bytes32</th><th>bytes32</th><th>float64</th><th>float64</th><th>float64</th><th>float64</th><th>float64</th><th>float64</th><th>float64</th><th>int64</th><th>float64</th><th>int64</th><th>float64</th><th>float64</th><th>bytes53</th><th>int64</th><th>bytes32</th><th>int64</th><th>float64</th><th>float64</th><th>float64</th><th>float64</th><th>float64</th><th>float64</th><th>float64</th><th>float64</th><th>float64</th><th>float64</th><th>float64</th><th>int64</th><th>int64</th><th>int64</th><th>float64</th><th>float64</th><th>float64</th><th>float64</th><th>int64</th><th>int64</th><th>int64</th><th>int64</th><th>bytes32</th><th>int64</th><th>bytes19</th><th>int64</th><th>int64</th><th>int64</th><th>float64</th><th>float64</th><th>float64</th><th>float64</th><th>float64</th><th>float64</th><th>float64</th><th>float64</th><th>float64</th><th>float64</th><th>float64</th><th>float64</th><th>float64</th><th>float64</th><th>float64</th><th>float64</th><th>int64</th><th>int64</th><th>int64</th><th>bytes6</th><th>int64</th><th>int64</th><th>float64</th><th>float64</th><th>float64[7]</th><th>float64[7]</th><th>float64[7]</th><th>float64</th><th>float64</th><th>float64</th><th>float64</th><th>float64[7]</th><th>float64</th><th>float64</th><th>float64[7]</th><th>float64[7]</th><th>float64[7]</th><th>float64[7]</th><th>float64</th><th>float64</th><th>float64</th><th>float64</th><th>float64[7]</th><th>float64[7]</th><th>float64</th></tr></thead>\n",
       "<tr><td>10145</td><td>9101</td><td>10145-9101</td><td>51-133</td><td>v3_1_1</td><td>v3_1_1</td><td>v1_9_1</td><td>v5_5_36</td><td>v2_9</td><td>APOGEE-2&amp;MaNGA</td><td>MaNGA dither</td><td>56.544741</td><td>68.101764</td><td>138.122427973</td><td>10.5476344112</td><td>56.544741</td><td>68.101764</td><td>0.557447</td><td>6</td><td>4500.41</td><td>2</td><td>3.50379</td><td>27.8222</td><td>ma021-ma040</td><td>26</td><td>2-1</td><td>10688</td><td>55.910158</td><td>68.438936</td><td>1.22634</td><td>1.24836</td><td>1.2593</td><td>1.15732</td><td>1.45004</td><td>1.62853</td><td>0.345625</td><td>0.613025</td><td>0.647728</td><td>58044</td><td>58081</td><td>58082</td><td>2.48994</td><td>2.49714</td><td>2.5033</td><td>2.48547</td><td>0</td><td>0</td><td>1048576</td><td>51</td><td>plateTargets-51.par</td><td>-999</td><td>-9999</td><td>91</td><td>-999</td><td>-999</td><td>-999.0</td><td>-9999.0</td><td>-9999.0</td><td>-9999.0</td><td>-9999.0</td><td>-9999.0</td><td>-9999.0</td><td>-9999.0</td><td>-9999.0</td><td>-9999.0</td><td>-9999.0</td><td>-9999.0</td><td>-9999.0</td><td>-9999.0</td><td>-9999.0</td><td>-9999.0</td><td>-9999</td><td>-9999</td><td>-9999</td><td>-9999</td><td>-9999</td><td>-9999</td><td>-9999.0</td><td>-9999.0</td><td>-9999.0 .. -9999.0</td><td>-9999.0 .. -9999.0</td><td>-9999.0 .. -9999.0</td><td>-9999.0</td><td>-9999.0</td><td>-9999.0</td><td>-9999.0</td><td>-9999.0 .. -9999.0</td><td>-9999.0</td><td>-9999.0</td><td>-9999.0 .. -9999.0</td><td>-9999.0 .. -9999.0</td><td>-9999.0 .. -9999.0</td><td>-9999.0 .. -9999.0</td><td>-9999.0</td><td>-9999.0</td><td>-9999.0</td><td>-9999.0</td><td>-9999.0 .. -9999.0</td><td>-9999.0 .. -9999.0</td><td>-999.0</td></tr>\n",
       "</table>"
      ],
      "text/plain": [
       "<Row index=100>\n",
       "plate ifudsgn  plateifu  mangaid versdrp2 versdrp3 verscore versutil versprim    platetyp      srvymode     objra     objdec     ifuglon       ifuglat      ifura     ifudec   ebvgal   nexp exptime drp3qual bluesn2  redsn2   harname   frlplug  cartid designid   cenra     cendec  airmsmin airmsmed airmsmax  seemin  seemed  seemax transmin transmed transmax mjdmin mjdmed mjdmax  gfwhm   rfwhm   ifwhm   zfwhm  mngtarg1 mngtarg2 mngtarg3 catidnum       plttarg       manga_tileid nsa_iauname ifudesignsize ifutargetsize ifudesignwrongsize    z      zmin    zmax   szmin   szmax   ezmin   ezmax   probs  pweight psweight psrweight sweight srweight eweight esweight esrweight nsa_field nsa_run nsa_camcol nsa_version nsa_nsaid nsa_nsaid_v1b  nsa_z  nsa_zdist nsa_sersic_absmag  nsa_elpetro_absmag nsa_elpetro_amivar nsa_sersic_mass nsa_elpetro_mass nsa_elpetro_ba nsa_elpetro_phi   nsa_extinction   nsa_elpetro_th50_r nsa_petro_th50   nsa_petro_flux   nsa_petro_flux_ivar  nsa_elpetro_flux  nsa_elpetro_flux_ivar nsa_sersic_ba nsa_sersic_n nsa_sersic_phi nsa_sersic_th50  nsa_sersic_flux   nsa_sersic_flux_ivar  TType \n",
       "int64 bytes32  bytes32   bytes32 bytes32  bytes32  bytes32  bytes32  bytes32     bytes32       bytes32     float64   float64     float64       float64     float64   float64  float64  int64 float64  int64   float64 float64   bytes53    int64  bytes32  int64    float64   float64  float64  float64  float64  float64 float64 float64 float64  float64  float64  int64  int64  int64  float64 float64 float64 float64  int64    int64    int64    int64         bytes32          int64       bytes19       int64         int64           int64        float64 float64 float64 float64 float64 float64 float64 float64 float64 float64   float64  float64 float64  float64 float64   float64    int64    int64    int64       bytes6     int64       int64     float64  float64      float64[7]         float64[7]         float64[7]         float64         float64         float64         float64         float64[7]          float64          float64         float64[7]          float64[7]         float64[7]           float64[7]         float64      float64       float64         float64         float64[7]          float64[7]      float64\n",
       "----- ------- ---------- ------- -------- -------- -------- -------- -------- -------------- ------------ --------- --------- ------------- ------------- --------- --------- -------- ----- ------- -------- ------- ------- ----------- ------- ------- -------- --------- --------- -------- -------- -------- ------- ------- ------- -------- -------- -------- ------ ------ ------ ------- ------- ------- ------- -------- -------- -------- -------- ------------------- ------------ ----------- ------------- ------------- ------------------ ------- ------- ------- ------- ------- ------- ------- ------- ------- -------- --------- ------- -------- ------- -------- --------- --------- ------- ---------- ----------- --------- ------------- ------- --------- ------------------ ------------------ ------------------ --------------- ---------------- -------------- --------------- ------------------ ------------------ -------------- ------------------ ------------------- ------------------ --------------------- ------------- ------------ -------------- --------------- ------------------ -------------------- -------\n",
       "10145    9101 10145-9101  51-133   v3_1_1   v3_1_1   v1_9_1  v5_5_36     v2_9 APOGEE-2&MaNGA MaNGA dither 56.544741 68.101764 138.122427973 10.5476344112 56.544741 68.101764 0.557447     6 4500.41        2 3.50379 27.8222 ma021-ma040      26     2-1    10688 55.910158 68.438936  1.22634  1.24836   1.2593 1.15732 1.45004 1.62853 0.345625 0.613025 0.647728  58044  58081  58082 2.48994 2.49714  2.5033 2.48547        0        0  1048576       51 plateTargets-51.par         -999       -9999            91          -999               -999  -999.0 -9999.0 -9999.0 -9999.0 -9999.0 -9999.0 -9999.0 -9999.0 -9999.0  -9999.0   -9999.0 -9999.0  -9999.0 -9999.0  -9999.0   -9999.0     -9999   -9999      -9999       -9999     -9999         -9999 -9999.0   -9999.0 -9999.0 .. -9999.0 -9999.0 .. -9999.0 -9999.0 .. -9999.0         -9999.0          -9999.0        -9999.0         -9999.0 -9999.0 .. -9999.0            -9999.0        -9999.0 -9999.0 .. -9999.0  -9999.0 .. -9999.0 -9999.0 .. -9999.0    -9999.0 .. -9999.0       -9999.0      -9999.0        -9999.0         -9999.0 -9999.0 .. -9999.0   -9999.0 .. -9999.0  -999.0"
      ]
     },
     "execution_count": 46,
     "metadata": {},
     "output_type": "execute_result"
    }
   ],
   "source": [
    "drpalltt[100]"
   ]
  },
  {
   "cell_type": "code",
   "execution_count": null,
   "id": "a1402484-f500-40a3-8353-5b0e17cfaf31",
   "metadata": {},
   "outputs": [],
   "source": [
    "for i in drpalltt:\n",
    "    plateifu = i['plateifu']\n",
    "    try:\n",
    "        cube_df = data_folder + 'MaNGA/manga-'+ plateifu +'-MAPS-HYB10-MILESHC-MASTARSSP.fits.gz'\n",
    "        cube = fits.open(cube_df)                        #file requires opening\n",
    "        stellar_vel = cube['STELLAR_VEL'].data           #for the following we create variable representing data from file HDU's\n",
    "        stellar_vel_ivar = cube['STELLAR_VEL_IVAR'].data \n",
    "        stellar_mask = cube['STELLAR_VEL_MASK'].data\n",
    "        halpha_vel = cube['EMLINE_GVEL'].data[23]        #the following three have several channels, but were only concerned with the Halpha spectra (channel 23)\n",
    "        halpha_gvel_ivar = cube['EMLINE_GVEL_IVAR'].data[23]\n",
    "        halpha_gvel_mask = cube['EMLINE_GVEL_MASK'].data[23]\n",
    "        flux = cube['SPX_MFLUX'].data\n",
    "    \n",
    "        cube.close()\n",
    "    #plot making prompts\n",
    "        plt.imshow(stellar_vel,cmap = 'bwr')     #creates a color map of data, (data set, cmap = 'desired color code')\n",
    "        plt.colorbar(label = 'velocity [km/s]')  #following are just labels\n",
    "        plt.gca().invert_yaxis()\n",
    "        plt.xlabel('spaxel')\n",
    "        plt.ylabel('spaxel')\n",
    "        plt.title(plateifu + ' Stellar Velocity')\n",
    "        plt.savefig(data_folder + 'Plots/Stellar_Vel/'+ plateifu +'_Stellar_Velocity.png')\n",
    "    \n",
    "        plt.imshow(stellar_mask, cmap = 'gist_grey')\n",
    "        plt.colorbar(label = 'mask')\n",
    "        plt.gca().invert_yaxis()\n",
    "        plt.xlabel('spaxel')\n",
    "        plt.ylabel('spaxel')\n",
    "        plt.title(plateifu + ' Stellar Mask')\n",
    "        plt.savefig(data_folder + 'Plots/Stellar_Mask/'+ plateifu +'_Stellar_Mask.png')\n",
    "    \n",
    "        plt.imshow(halpha_vel,cmap = 'bwr')\n",
    "        plt.colorbar(label = 'H-alpha Velocity [km/s]')\n",
    "        plt.gca().invert_yaxis()\n",
    "        plt.xlabel('spaxel')\n",
    "        plt.ylabel('spaxel')\n",
    "        plt.title(plateifu + ' H-alpha Velocity')\n",
    "        plt.savefig(data_folder + 'Plots/H-alpha_Vel/'+ plateifu +'_H-alpha_Velocity.png')\n",
    "    \n",
    "        mhalpha_vel = ma.array(halpha_vel, mask = stellar_mask)\n",
    "    \n",
    "        plt.imshow(mhalpha_vel,cmap = 'bwr')     #creates a color map of data, (data set, cmap = 'desired color code')\n",
    "        plt.colorbar(label = 'Velocity [km/s]')  #following are just labels\n",
    "        plt.gca().invert_yaxis()\n",
    "        plt.xlabel('spaxel')\n",
    "        plt.ylabel('spaxel')\n",
    "        plt.title(plateifu + ' Masked Halpha Velocity')\n",
    "        plt.savefig(data_folder + 'Plots/Mask_H-alpha_Vel/'+ plateifu +'_Masked_Halpha_Velocity.png')\n",
    "    \n",
    "        mstellar_vel = ma.array(stellar_vel, mask = stellar_mask)\n",
    "    \n",
    "        plt.imshow(mstellar_vel,cmap = 'bwr')     #creates a color map of data, (data set, cmap = 'desired color code')\n",
    "        plt.colorbar(label = 'Velocity [km/s]')  #following are just labels\n",
    "        plt.gca().invert_yaxis()\n",
    "        plt.xlabel('spaxel')\n",
    "        plt.ylabel('spaxel')\n",
    "        plt.title(plateifu+ ' Masked Stellar Velocity')\n",
    "        plt.savefig(data_folder + 'Plots/Mask_Stellar_Vel/'+ plateifu +'_Masked_Stellar_Velocity.png')\n",
    "    \n",
    "        plt.imshow(flux,cmap = 'hot')\n",
    "        plt.colorbar(label = '10-17 erg/s/cm2/Å/spaxel')\n",
    "        plt.gca().invert_yaxis()\n",
    "        plt.xlabel('spaxel')\n",
    "        plt.ylabel('spaxel')\n",
    "        plt.title(plateifu + ' Flux')\n",
    "        plt.savefig(data_folder + 'Plots/Flux/'+ plateifu +'_Flux.png')\n",
    "\n",
    "    except:\n",
    "        continue\n",
    "    "
   ]
  },
  {
   "cell_type": "code",
   "execution_count": null,
   "id": "ae9c300f-267c-4ccf-b7b5-f30a206dd261",
   "metadata": {},
   "outputs": [],
   "source": [
    "drpalltt[:5]"
   ]
  },
  {
   "cell_type": "code",
   "execution_count": null,
   "id": "e942f0b2-7d08-4b07-95b9-5613c8892cbb",
   "metadata": {},
   "outputs": [],
   "source": []
  }
 ],
 "metadata": {
  "kernelspec": {
   "display_name": "Python 3 (ipykernel)",
   "language": "python",
   "name": "python3"
  },
  "language_info": {
   "codemirror_mode": {
    "name": "ipython",
    "version": 3
   },
   "file_extension": ".py",
   "mimetype": "text/x-python",
   "name": "python",
   "nbconvert_exporter": "python",
   "pygments_lexer": "ipython3",
   "version": "3.13.3"
  }
 },
 "nbformat": 4,
 "nbformat_minor": 5
}
