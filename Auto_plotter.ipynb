{
 "cells": [
  {
   "cell_type": "code",
   "execution_count": 1,
   "id": "f94d1a8e-8e44-4700-8abd-6d67c1e5fda9",
   "metadata": {},
   "outputs": [],
   "source": [
    "#importing\n",
    "\n",
    "import numpy as np\n",
    "import matplotlib.pyplot as plt\n",
    "from astropy.table import Table\n",
    "from astropy.io import fits\n",
    "import numpy.ma as ma"
   ]
  },
  {
   "cell_type": "code",
   "execution_count": 2,
   "id": "2b6c9eab-d0f3-4280-a609-de330384a89c",
   "metadata": {},
   "outputs": [],
   "source": [
    "data_folder = \"/Users/Emlilio/School/Internships/UR ASTRO/Data/\" #create a variable for directory to common folder"
   ]
  },
  {
   "cell_type": "code",
   "execution_count": 3,
   "id": "b1d57dea-2e2e-4f09-b255-9e48438c924e",
   "metadata": {},
   "outputs": [],
   "source": [
    "cube_df = data_folder + 'MaNGA/manga-8997-9102-MAPS-HYB10-MILESHC-MASTARSSP.fits.gz'"
   ]
  },
  {
   "cell_type": "code",
   "execution_count": 4,
   "id": "634b7fc0-701e-49fd-a2bf-180c2349b211",
   "metadata": {},
   "outputs": [],
   "source": [
    "cube = fits.open(cube_df)                        #file requires opening\n",
    "stellar_vel = cube['STELLAR_VEL'].data           #for the following we create variable representing data from file HDU's\n",
    "stellar_vel_ivar = cube['STELLAR_VEL_IVAR'].data \n",
    "stellar_mask = cube['STELLAR_VEL_MASK'].data\n",
    "halpha_vel = cube['EMLINE_GVEL'].data[23]        #the following three have several channels, but were only concerned with the Halpha spectra (channel 23)\n",
    "halpha_gvel_ivar = cube['EMLINE_GVEL_IVAR'].data[23]\n",
    "halpha_gvel_mask = cube['EMLINE_GVEL_MASK'].data[23]\n",
    "flux = cube['SPX_MFLUX'].data\n",
    "\n",
    "cube.close()"
   ]
  },
  {
   "cell_type": "code",
   "execution_count": 5,
   "id": "51d91879-bdf4-4d09-ae5f-6fd6d0c16c7e",
   "metadata": {},
   "outputs": [],
   "source": [
    "drpall = data_folder + 'drpall_ttype.fits'\n",
    "drpalltt = Table.read(drpall, format=\"fits\",hdu=1)   #create and visualize table for quick reference\n"
   ]
  },
  {
   "cell_type": "code",
   "execution_count": 6,
   "id": "248f8020-0e02-4c36-b702-0b5b29b1aeef",
   "metadata": {},
   "outputs": [],
   "source": [
    "drpalltt_dict = {}\n",
    "for i in range(len(drpalltt)):\n",
    "    plateifu = drpalltt['plateifu'][i]\n",
    "    drpalltt_dict[plateifu] = i"
   ]
  },
  {
   "cell_type": "code",
   "execution_count": 7,
   "id": "96ad1975-da70-45e3-bfb1-849434d3efec",
   "metadata": {},
   "outputs": [
    {
     "data": {
      "text/plain": [
       "9080"
      ]
     },
     "execution_count": 7,
     "metadata": {},
     "output_type": "execute_result"
    }
   ],
   "source": [
    "drpalltt_dict['8997-9102']"
   ]
  },
  {
   "cell_type": "code",
   "execution_count": 14,
   "id": "a1402484-f500-40a3-8353-5b0e17cfaf31",
   "metadata": {},
   "outputs": [],
   "source": [
    "#for i in range(len(drpalltt)):\n",
    "for i in range(9080,9180):\n",
    "    plateifu = drpalltt['plateifu'][i]      #calls the specific row by index\n",
    "    try:\n",
    "        cube_df = data_folder + 'MaNGA/manga-'+ plateifu +'-MAPS-HYB10-MILESHC-MASTARSSP.fits.gz'\n",
    "        cube = fits.open(cube_df)                        #file requires opening\n",
    "        stellar_vel = cube['STELLAR_VEL'].data           #for the following we create variable representing data from file HDU's\n",
    "        stellar_vel_ivar = cube['STELLAR_VEL_IVAR'].data \n",
    "        stellar_mask = cube['STELLAR_VEL_MASK'].data\n",
    "        halpha_vel = cube['EMLINE_GVEL'].data[23]        #the following three have several channels, but were only concerned with the Halpha spectra (channel 23)\n",
    "        halpha_gvel_ivar = cube['EMLINE_GVEL_IVAR'].data[23]\n",
    "        halpha_gvel_mask = cube['EMLINE_GVEL_MASK'].data[23]\n",
    "        flux = cube['SPX_MFLUX'].data\n",
    "    \n",
    "        cube.close()\n",
    "    #plot making prompts\n",
    "        plt.figure()                   \n",
    "        val_max = stellar_vel.max()     #checks for min and max values\n",
    "        val_min = stellar_vel.min()\n",
    "        if (val_max >= abs(val_min)):   #sets plot limits to greater value\n",
    "            lim = val_max\n",
    "        else:\n",
    "            lim = val_min\n",
    "        \n",
    "        plt.imshow(stellar_vel,cmap = 'bwr',vmin = -lim, vmax = lim)     #creates a color map of data, (data set, cmap = 'desired color code')\n",
    "        plt.colorbar(label = 'velocity [km/s]')  #following are just labels\n",
    "        plt.gca().invert_yaxis()\n",
    "        plt.xlabel('spaxel')\n",
    "        plt.ylabel('spaxel')\n",
    "        plt.title(plateifu + ' Stellar Velocity')\n",
    "        plt.savefig(data_folder + 'Plots/Stellar_Vel/'+ plateifu +'_Stellar_Velocity.png')\n",
    "        plt.close()\n",
    "\n",
    "        plt.figure()\n",
    "       \n",
    "        plt.imshow(stellar_mask, cmap = 'gist_grey')\n",
    "        plt.colorbar(label = 'mask')\n",
    "        plt.gca().invert_yaxis()\n",
    "        plt.xlabel('spaxel')\n",
    "        plt.ylabel('spaxel')\n",
    "        plt.title(plateifu + ' Stellar Mask')\n",
    "        plt.savefig(data_folder + 'Plots/Stellar_Mask/'+ plateifu +'_Stellar_Mask.png')\n",
    "        plt.close()\n",
    "\n",
    "        plt.figure()\n",
    "        val_max = halpha_vel.max()\n",
    "        val_min = halpha_vel.min()\n",
    "        if (val_max >= abs(val_min)):\n",
    "            lim = val_max\n",
    "        else:\n",
    "            lim = val_min\n",
    "        plt.imshow(halpha_vel,cmap = 'bwr',vmin = -lim, vmax = lim)\n",
    "        plt.colorbar(label = 'H-alpha Velocity [km/s]')\n",
    "        plt.gca().invert_yaxis()\n",
    "        plt.xlabel('spaxel')\n",
    "        plt.ylabel('spaxel')\n",
    "        plt.title(plateifu + ' H-alpha Velocity')\n",
    "        plt.savefig(data_folder + 'Plots/H-alpha_Vel/'+ plateifu +'_H-alpha_Velocity.png')\n",
    "        plt.close()\n",
    "        \n",
    "        mhalpha_vel = ma.array(halpha_vel, mask = stellar_mask)\n",
    "        \n",
    "        plt.figure()\n",
    "        val_max = mhalpha_vel.max()\n",
    "        val_min = mhalpha_vel.min()\n",
    "        if (val_max >= abs(val_min)):\n",
    "            lim = val_max\n",
    "        else:\n",
    "            lim = val_min\n",
    "        plt.imshow(mhalpha_vel,cmap = 'bwr',vmin = -lim, vmax = lim)     #creates a color map of data, (data set, cmap = 'desired color code')\n",
    "        plt.colorbar(label = 'Velocity [km/s]')  #following are just labels\n",
    "        plt.gca().invert_yaxis()\n",
    "        plt.xlabel('spaxel')\n",
    "        plt.ylabel('spaxel')\n",
    "        plt.title(plateifu + ' Masked Halpha Velocity')\n",
    "        if (abs(lim)>400):                                      #limits the range of max and min values\n",
    "            plt.savefig(data_folder + 'Plots/ODD_Mask_H-alpha_Vel/'+ plateifu +'_Masked_Halpha_Velocity.png') #if greater than range the file will save to special folder\n",
    "            plt.close()\n",
    "        else:\n",
    "            plt.savefig(data_folder + 'Plots/Mask_H-alpha_Vel/'+ plateifu +'_Masked_Halpha_Velocity.png')\n",
    "            plt.close()\n",
    "            \n",
    "        mstellar_vel = ma.array(stellar_vel, mask = stellar_mask)\n",
    "\n",
    "        plt.figure()\n",
    "        val_max = mstellar_vel.max()\n",
    "        val_min = mstellar_vel.min()\n",
    "        if (val_max >= abs(val_min)):\n",
    "            lim = val_max\n",
    "        else:\n",
    "            lim = val_min\n",
    "        plt.imshow(mstellar_vel,cmap = 'bwr',vmin = -lim, vmax = lim)     #creates a color map of data, (data set, cmap = 'desired color code')\n",
    "        plt.colorbar(label = 'Velocity [km/s]')  #following are just labels\n",
    "        plt.gca().invert_yaxis()\n",
    "        plt.xlabel('spaxel')\n",
    "        plt.ylabel('spaxel')\n",
    "        plt.title(plateifu+ ' Masked Stellar Velocity')\n",
    "        if (abs(lim)>400):\n",
    "            plt.savefig(data_folder + 'Plots/ODD_Mask_Stellar_Vel/'+ plateifu +'_Masked_Halpha_Velocity.png')\n",
    "            plt.close()\n",
    "        else:\n",
    "            plt.savefig(data_folder + 'Plots/Mask_Stellar_Vel/'+ plateifu +'_Masked_Halpha_Velocity.png')\n",
    "            plt.close()\n",
    "\n",
    "        plt.figure()\n",
    "        \n",
    "        plt.imshow(flux,cmap = 'hot',vmin = 0)\n",
    "        plt.colorbar(label = '10-17 erg/s/cm2/Å/spaxel')\n",
    "        plt.gca().invert_yaxis()\n",
    "        plt.xlabel('spaxel')\n",
    "        plt.ylabel('spaxel')\n",
    "        plt.title(plateifu + ' Flux')\n",
    "        plt.savefig(data_folder + 'Plots/Flux/'+ plateifu +'_Flux.png')\n",
    "        plt.close()\n",
    "    except:\n",
    "        with open(data_folder + 'Plots/ODD_plateifu.txt', \"a\") as odds:  #writes plateifu's of bad rows in txt file\n",
    "            odds.write(str(plateifu+'\\n'))\n",
    "        \n",
    "        continue\n",
    "    "
   ]
  },
  {
   "cell_type": "code",
   "execution_count": null,
   "id": "e942f0b2-7d08-4b07-95b9-5613c8892cbb",
   "metadata": {},
   "outputs": [],
   "source": []
  }
 ],
 "metadata": {
  "kernelspec": {
   "display_name": "Python 3 (ipykernel)",
   "language": "python",
   "name": "python3"
  },
  "language_info": {
   "codemirror_mode": {
    "name": "ipython",
    "version": 3
   },
   "file_extension": ".py",
   "mimetype": "text/x-python",
   "name": "python",
   "nbconvert_exporter": "python",
   "pygments_lexer": "ipython3",
   "version": "3.13.3"
  }
 },
 "nbformat": 4,
 "nbformat_minor": 5
}
